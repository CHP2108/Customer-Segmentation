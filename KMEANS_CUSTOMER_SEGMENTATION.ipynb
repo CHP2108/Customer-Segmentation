{
  "cells": [
    {
      "cell_type": "markdown",
      "id": "0d9ed9c5",
      "metadata": {
        "id": "0d9ed9c5"
      },
      "source": [
        "# LAB_KMEANS_Customer_Segmentation"
      ]
    },
    {
      "cell_type": "markdown",
      "id": "633e0e6d",
      "metadata": {
        "id": "633e0e6d"
      },
      "source": [
        "**Import data and libraries**"
      ]
    },
    {
      "cell_type": "code",
      "execution_count": null,
      "id": "5eccd7a0",
      "metadata": {
        "id": "5eccd7a0"
      },
      "outputs": [],
      "source": [
        "import pandas as pd\n",
        "import matplotlib.pyplot as plt\n",
        "import numpy as np\n",
        "import seaborn as sns\n"
      ]
    },
    {
      "cell_type": "markdown",
      "id": "jA0tiws3ryst",
      "metadata": {
        "id": "jA0tiws3ryst"
      },
      "source": [
        "# Customer Segmentation"
      ]
    },
    {
      "cell_type": "markdown",
      "id": "1U3KMvwHrys0",
      "metadata": {
        "id": "1U3KMvwHrys0"
      },
      "source": [
        "If you want to grow your business, it makes sense to put in the effort to understand the characteristics of your customers for at least two reasons: \n",
        "1. To continue to provide this group with what they’re looking for and keep them as customers\n",
        "2. To target your marketing efforts toward prospects who resemble your best customers.\n",
        "\n",
        "By targeting your acquisition marketing through insights into your best customers, you attract customers who are likely to respond to the strengths of your business and remain loyal to it. **Instead of targeting all customers at once, you can start segment your customers and use different strategy for each group. With this approach, you will also focus on your potential customers to develop strategies for them.**\n",
        "\n",
        "But, before you can start to understand your best customers, you first need to identify them. And that’s where a simple database marketing tool called recency, frequency, monetary analysis (or RFM) comes in handy."
      ]
    },
    {
      "cell_type": "markdown",
      "id": "ZfCGzLVKrys1",
      "metadata": {
        "id": "ZfCGzLVKrys1"
      },
      "source": [
        "In our example, we will be using a sample dataset of an online retail."
      ]
    },
    {
      "cell_type": "markdown",
      "id": "DHY_DXMJrys1",
      "metadata": {
        "heading_collapsed": true,
        "id": "DHY_DXMJrys1"
      },
      "source": [
        "# Import library"
      ]
    },
    {
      "cell_type": "code",
      "execution_count": null,
      "id": "_ceRsitfrys3",
      "metadata": {
        "hidden": true,
        "id": "_ceRsitfrys3"
      },
      "outputs": [],
      "source": [
        "import pandas as pd\n",
        "import matplotlib.pyplot as plt\n",
        "import numpy as np\n",
        "import seaborn as sns"
      ]
    },
    {
      "cell_type": "code",
      "execution_count": null,
      "id": "OOkeBPrUD9yK",
      "metadata": {
        "colab": {
          "base_uri": "https://localhost:8080/"
        },
        "id": "OOkeBPrUD9yK",
        "outputId": "2fe9c3d8-dedf-4afc-ce37-8fca5bdc0e67"
      },
      "outputs": [
        {
          "name": "stdout",
          "output_type": "stream",
          "text": [
            "Mounted at /content/drive\n"
          ]
        }
      ],
      "source": [
        "from google.colab import drive\n",
        "drive.mount('/content/drive')"
      ]
    },
    {
      "cell_type": "code",
      "execution_count": null,
      "id": "yvGgs5ZkED0p",
      "metadata": {
        "id": "yvGgs5ZkED0p"
      },
      "outputs": [],
      "source": [
        "PATH = '/content/drive/MyDrive/FTMLE | 2021.09 | South Sandwich/Data/OnlineRetail.csv'"
      ]
    },
    {
      "cell_type": "markdown",
      "id": "n8BjvxZJrys3",
      "metadata": {
        "id": "n8BjvxZJrys3"
      },
      "source": [
        "# Load dataset"
      ]
    },
    {
      "cell_type": "markdown",
      "id": "6ZcV2DKhrys3",
      "metadata": {
        "id": "6ZcV2DKhrys3"
      },
      "source": [
        "This dataset contains all purchases made for an online retail company based in the UK during an eight month period."
      ]
    },
    {
      "cell_type": "code",
      "execution_count": null,
      "id": "jxDznA8brys4",
      "metadata": {
        "id": "jxDznA8brys4"
      },
      "outputs": [],
      "source": [
        "df= pd.read_csv(PATH,encoding = \"unicode_escape\")"
      ]
    },
    {
      "cell_type": "code",
      "execution_count": null,
      "id": "e1cKl1lqrys4",
      "metadata": {
        "colab": {
          "base_uri": "https://localhost:8080/",
          "height": 206
        },
        "id": "e1cKl1lqrys4",
        "outputId": "37aaad72-7c8a-4309-95b2-fc4083830419"
      },
      "outputs": [
        {
          "data": {
            "text/html": [
              "<div>\n",
              "<style scoped>\n",
              "    .dataframe tbody tr th:only-of-type {\n",
              "        vertical-align: middle;\n",
              "    }\n",
              "\n",
              "    .dataframe tbody tr th {\n",
              "        vertical-align: top;\n",
              "    }\n",
              "\n",
              "    .dataframe thead th {\n",
              "        text-align: right;\n",
              "    }\n",
              "</style>\n",
              "<table border=\"1\" class=\"dataframe\">\n",
              "  <thead>\n",
              "    <tr style=\"text-align: right;\">\n",
              "      <th></th>\n",
              "      <th>InvoiceNo</th>\n",
              "      <th>StockCode</th>\n",
              "      <th>Description</th>\n",
              "      <th>Quantity</th>\n",
              "      <th>InvoiceDate</th>\n",
              "      <th>UnitPrice</th>\n",
              "      <th>CustomerID</th>\n",
              "      <th>Country</th>\n",
              "    </tr>\n",
              "  </thead>\n",
              "  <tbody>\n",
              "    <tr>\n",
              "      <th>0</th>\n",
              "      <td>536365</td>\n",
              "      <td>85123A</td>\n",
              "      <td>WHITE HANGING HEART T-LIGHT HOLDER</td>\n",
              "      <td>6</td>\n",
              "      <td>12/1/2010 8:26</td>\n",
              "      <td>2.55</td>\n",
              "      <td>17850.0</td>\n",
              "      <td>United Kingdom</td>\n",
              "    </tr>\n",
              "    <tr>\n",
              "      <th>1</th>\n",
              "      <td>536365</td>\n",
              "      <td>71053</td>\n",
              "      <td>WHITE METAL LANTERN</td>\n",
              "      <td>6</td>\n",
              "      <td>12/1/2010 8:26</td>\n",
              "      <td>3.39</td>\n",
              "      <td>17850.0</td>\n",
              "      <td>United Kingdom</td>\n",
              "    </tr>\n",
              "    <tr>\n",
              "      <th>2</th>\n",
              "      <td>536365</td>\n",
              "      <td>84406B</td>\n",
              "      <td>CREAM CUPID HEARTS COAT HANGER</td>\n",
              "      <td>8</td>\n",
              "      <td>12/1/2010 8:26</td>\n",
              "      <td>2.75</td>\n",
              "      <td>17850.0</td>\n",
              "      <td>United Kingdom</td>\n",
              "    </tr>\n",
              "    <tr>\n",
              "      <th>3</th>\n",
              "      <td>536365</td>\n",
              "      <td>84029G</td>\n",
              "      <td>KNITTED UNION FLAG HOT WATER BOTTLE</td>\n",
              "      <td>6</td>\n",
              "      <td>12/1/2010 8:26</td>\n",
              "      <td>3.39</td>\n",
              "      <td>17850.0</td>\n",
              "      <td>United Kingdom</td>\n",
              "    </tr>\n",
              "    <tr>\n",
              "      <th>4</th>\n",
              "      <td>536365</td>\n",
              "      <td>84029E</td>\n",
              "      <td>RED WOOLLY HOTTIE WHITE HEART.</td>\n",
              "      <td>6</td>\n",
              "      <td>12/1/2010 8:26</td>\n",
              "      <td>3.39</td>\n",
              "      <td>17850.0</td>\n",
              "      <td>United Kingdom</td>\n",
              "    </tr>\n",
              "  </tbody>\n",
              "</table>\n",
              "</div>"
            ],
            "text/plain": [
              "  InvoiceNo StockCode  ... CustomerID         Country\n",
              "0    536365    85123A  ...    17850.0  United Kingdom\n",
              "1    536365     71053  ...    17850.0  United Kingdom\n",
              "2    536365    84406B  ...    17850.0  United Kingdom\n",
              "3    536365    84029G  ...    17850.0  United Kingdom\n",
              "4    536365    84029E  ...    17850.0  United Kingdom\n",
              "\n",
              "[5 rows x 8 columns]"
            ]
          },
          "execution_count": 5,
          "metadata": {},
          "output_type": "execute_result"
        }
      ],
      "source": [
        "df.head()"
      ]
    },
    {
      "cell_type": "code",
      "execution_count": null,
      "id": "H2m1E6Q8Agxv",
      "metadata": {
        "colab": {
          "base_uri": "https://localhost:8080/"
        },
        "id": "H2m1E6Q8Agxv",
        "outputId": "5650eb8e-a869-47e5-d371-30b672d6ba17"
      },
      "outputs": [
        {
          "data": {
            "text/plain": [
              "array(['201012', '20111', '20112', '20113', '20114', '20115', '20116',\n",
              "       '20117', '20118', '20119', '201110', '201111', '201112'],\n",
              "      dtype=object)"
            ]
          },
          "execution_count": 6,
          "metadata": {},
          "output_type": "execute_result"
        }
      ],
      "source": [
        "(pd.to_datetime(df.InvoiceDate).dt.year.astype('str') + pd.to_datetime(df.InvoiceDate).dt.month.astype('str')).unique()"
      ]
    },
    {
      "cell_type": "markdown",
      "id": "S6VKZ67srys5",
      "metadata": {
        "id": "S6VKZ67srys5"
      },
      "source": [
        "# Clean our data"
      ]
    },
    {
      "cell_type": "markdown",
      "id": "iTtDLJWeSxiM",
      "metadata": {
        "id": "iTtDLJWeSxiM"
      },
      "source": [
        "By looking at the data and each columns, you should be able to investigate a bit and do some basic cleaning. We will **drop** some errornous records (or records that don't make sense)\n"
      ]
    },
    {
      "cell_type": "code",
      "execution_count": null,
      "id": "5k0KnVnErys5",
      "metadata": {
        "id": "5k0KnVnErys5"
      },
      "outputs": [],
      "source": [
        "def drop_values(df):\n",
        "\n",
        "    # For this problem, we will only look at UK market\n",
        "    df.drop(df[df.Country!='United Kingdom'].index, inplace=True)\n",
        "    df.drop('Country',axis=1,inplace=True)\n",
        "\n",
        "    # only 1 negative unit price\n",
        "    df.drop(df[df['UnitPrice']<0].index, inplace = True) \n",
        "    \n",
        "    # drop some erroneous records\n",
        "    df.drop(df[(df['Quantity']<0) & (df['UnitPrice']==0)].index,inplace=True)\n",
        "    \n",
        "    # drop nan description\n",
        "    df.drop(df[df['Description'].isna()].index,inplace=True)\n",
        "    df.drop(df[df['CustomerID'].isna()].index,inplace=True)"
      ]
    },
    {
      "cell_type": "code",
      "execution_count": null,
      "id": "fttZLwGRa_C_",
      "metadata": {
        "id": "fttZLwGRa_C_"
      },
      "outputs": [],
      "source": [
        "# run this after finishing your function\n",
        "drop_values(df)"
      ]
    },
    {
      "cell_type": "markdown",
      "id": "eVj2F5pdrys8",
      "metadata": {
        "heading_collapsed": true,
        "id": "eVj2F5pdrys8"
      },
      "source": [
        "# Feature engineering"
      ]
    },
    {
      "cell_type": "markdown",
      "id": "K5QIOHpJc7QO",
      "metadata": {
        "id": "K5QIOHpJc7QO"
      },
      "source": [
        "For this section, we will create some features that we think is going to be useful for our data analysis/visualization and our end goal: **segment customer into different groups**. There is one new column that you can create immediately from this datasetdataset, that is Revenue"
      ]
    },
    {
      "cell_type": "code",
      "execution_count": null,
      "id": "Z1qI1gu-rys8",
      "metadata": {
        "hidden": true,
        "id": "Z1qI1gu-rys8"
      },
      "outputs": [],
      "source": [
        "def create_date_features(df,date_feature):\n",
        "    df[date_feature] = pd.to_datetime(df[date_feature])\n",
        "    df['Year'] = df[date_feature].dt.year\n",
        "    df['Month'] = df[date_feature].dt.month\n",
        "    df['Day'] = df[date_feature].dt.day\n",
        "    df['DayOfWeek'] = df[date_feature].dt.day\n",
        "    df['WeekOfYear']= df[date_feature].dt.week"
      ]
    },
    {
      "cell_type": "code",
      "execution_count": null,
      "id": "GvemYXqCrys8",
      "metadata": {
        "colab": {
          "base_uri": "https://localhost:8080/"
        },
        "hidden": true,
        "id": "GvemYXqCrys8",
        "outputId": "07d19698-c9d5-41af-eda0-1597533337c8"
      },
      "outputs": [
        {
          "name": "stderr",
          "output_type": "stream",
          "text": [
            "/usr/local/lib/python3.7/dist-packages/ipykernel_launcher.py:7: FutureWarning: Series.dt.weekofyear and Series.dt.week have been deprecated.  Please use Series.dt.isocalendar().week instead.\n",
            "  import sys\n"
          ]
        }
      ],
      "source": [
        "create_date_features(df,'InvoiceDate')"
      ]
    },
    {
      "cell_type": "code",
      "execution_count": null,
      "id": "jADcGZ2PMwBj",
      "metadata": {
        "colab": {
          "base_uri": "https://localhost:8080/",
          "height": 206
        },
        "id": "jADcGZ2PMwBj",
        "outputId": "8557f6ea-427f-4c47-cfa0-8b5f9ca5b2b2"
      },
      "outputs": [
        {
          "data": {
            "text/html": [
              "<div>\n",
              "<style scoped>\n",
              "    .dataframe tbody tr th:only-of-type {\n",
              "        vertical-align: middle;\n",
              "    }\n",
              "\n",
              "    .dataframe tbody tr th {\n",
              "        vertical-align: top;\n",
              "    }\n",
              "\n",
              "    .dataframe thead th {\n",
              "        text-align: right;\n",
              "    }\n",
              "</style>\n",
              "<table border=\"1\" class=\"dataframe\">\n",
              "  <thead>\n",
              "    <tr style=\"text-align: right;\">\n",
              "      <th></th>\n",
              "      <th>InvoiceNo</th>\n",
              "      <th>StockCode</th>\n",
              "      <th>Description</th>\n",
              "      <th>Quantity</th>\n",
              "      <th>InvoiceDate</th>\n",
              "      <th>UnitPrice</th>\n",
              "      <th>CustomerID</th>\n",
              "      <th>Year</th>\n",
              "      <th>Month</th>\n",
              "      <th>Day</th>\n",
              "      <th>DayOfWeek</th>\n",
              "      <th>WeekOfYear</th>\n",
              "    </tr>\n",
              "  </thead>\n",
              "  <tbody>\n",
              "    <tr>\n",
              "      <th>0</th>\n",
              "      <td>536365</td>\n",
              "      <td>85123A</td>\n",
              "      <td>WHITE HANGING HEART T-LIGHT HOLDER</td>\n",
              "      <td>6</td>\n",
              "      <td>2010-12-01 08:26:00</td>\n",
              "      <td>2.55</td>\n",
              "      <td>17850.0</td>\n",
              "      <td>2010</td>\n",
              "      <td>12</td>\n",
              "      <td>1</td>\n",
              "      <td>1</td>\n",
              "      <td>48</td>\n",
              "    </tr>\n",
              "    <tr>\n",
              "      <th>1</th>\n",
              "      <td>536365</td>\n",
              "      <td>71053</td>\n",
              "      <td>WHITE METAL LANTERN</td>\n",
              "      <td>6</td>\n",
              "      <td>2010-12-01 08:26:00</td>\n",
              "      <td>3.39</td>\n",
              "      <td>17850.0</td>\n",
              "      <td>2010</td>\n",
              "      <td>12</td>\n",
              "      <td>1</td>\n",
              "      <td>1</td>\n",
              "      <td>48</td>\n",
              "    </tr>\n",
              "    <tr>\n",
              "      <th>2</th>\n",
              "      <td>536365</td>\n",
              "      <td>84406B</td>\n",
              "      <td>CREAM CUPID HEARTS COAT HANGER</td>\n",
              "      <td>8</td>\n",
              "      <td>2010-12-01 08:26:00</td>\n",
              "      <td>2.75</td>\n",
              "      <td>17850.0</td>\n",
              "      <td>2010</td>\n",
              "      <td>12</td>\n",
              "      <td>1</td>\n",
              "      <td>1</td>\n",
              "      <td>48</td>\n",
              "    </tr>\n",
              "    <tr>\n",
              "      <th>3</th>\n",
              "      <td>536365</td>\n",
              "      <td>84029G</td>\n",
              "      <td>KNITTED UNION FLAG HOT WATER BOTTLE</td>\n",
              "      <td>6</td>\n",
              "      <td>2010-12-01 08:26:00</td>\n",
              "      <td>3.39</td>\n",
              "      <td>17850.0</td>\n",
              "      <td>2010</td>\n",
              "      <td>12</td>\n",
              "      <td>1</td>\n",
              "      <td>1</td>\n",
              "      <td>48</td>\n",
              "    </tr>\n",
              "    <tr>\n",
              "      <th>4</th>\n",
              "      <td>536365</td>\n",
              "      <td>84029E</td>\n",
              "      <td>RED WOOLLY HOTTIE WHITE HEART.</td>\n",
              "      <td>6</td>\n",
              "      <td>2010-12-01 08:26:00</td>\n",
              "      <td>3.39</td>\n",
              "      <td>17850.0</td>\n",
              "      <td>2010</td>\n",
              "      <td>12</td>\n",
              "      <td>1</td>\n",
              "      <td>1</td>\n",
              "      <td>48</td>\n",
              "    </tr>\n",
              "  </tbody>\n",
              "</table>\n",
              "</div>"
            ],
            "text/plain": [
              "  InvoiceNo StockCode  ... DayOfWeek  WeekOfYear\n",
              "0    536365    85123A  ...         1          48\n",
              "1    536365     71053  ...         1          48\n",
              "2    536365    84406B  ...         1          48\n",
              "3    536365    84029G  ...         1          48\n",
              "4    536365    84029E  ...         1          48\n",
              "\n",
              "[5 rows x 12 columns]"
            ]
          },
          "execution_count": 11,
          "metadata": {},
          "output_type": "execute_result"
        }
      ],
      "source": [
        "df.head()"
      ]
    },
    {
      "cell_type": "code",
      "execution_count": null,
      "id": "uI8wCW1m3zW6",
      "metadata": {
        "hidden": true,
        "id": "uI8wCW1m3zW6"
      },
      "outputs": [],
      "source": [
        "# YOUR CODE HERE\n",
        "df['Revenue'] = df['Quantity'] * df['UnitPrice']"
      ]
    },
    {
      "cell_type": "code",
      "execution_count": null,
      "id": "Y3-ucjfsF9_O",
      "metadata": {
        "colab": {
          "base_uri": "https://localhost:8080/",
          "height": 206
        },
        "id": "Y3-ucjfsF9_O",
        "outputId": "3dcfd793-653a-49b5-f0d7-56a5b146ca74"
      },
      "outputs": [
        {
          "data": {
            "text/html": [
              "<div>\n",
              "<style scoped>\n",
              "    .dataframe tbody tr th:only-of-type {\n",
              "        vertical-align: middle;\n",
              "    }\n",
              "\n",
              "    .dataframe tbody tr th {\n",
              "        vertical-align: top;\n",
              "    }\n",
              "\n",
              "    .dataframe thead th {\n",
              "        text-align: right;\n",
              "    }\n",
              "</style>\n",
              "<table border=\"1\" class=\"dataframe\">\n",
              "  <thead>\n",
              "    <tr style=\"text-align: right;\">\n",
              "      <th></th>\n",
              "      <th>InvoiceNo</th>\n",
              "      <th>StockCode</th>\n",
              "      <th>Description</th>\n",
              "      <th>Quantity</th>\n",
              "      <th>InvoiceDate</th>\n",
              "      <th>UnitPrice</th>\n",
              "      <th>CustomerID</th>\n",
              "      <th>Year</th>\n",
              "      <th>Month</th>\n",
              "      <th>Day</th>\n",
              "      <th>DayOfWeek</th>\n",
              "      <th>WeekOfYear</th>\n",
              "      <th>Revenue</th>\n",
              "    </tr>\n",
              "  </thead>\n",
              "  <tbody>\n",
              "    <tr>\n",
              "      <th>0</th>\n",
              "      <td>536365</td>\n",
              "      <td>85123A</td>\n",
              "      <td>WHITE HANGING HEART T-LIGHT HOLDER</td>\n",
              "      <td>6</td>\n",
              "      <td>2010-12-01 08:26:00</td>\n",
              "      <td>2.55</td>\n",
              "      <td>17850.0</td>\n",
              "      <td>2010</td>\n",
              "      <td>12</td>\n",
              "      <td>1</td>\n",
              "      <td>1</td>\n",
              "      <td>48</td>\n",
              "      <td>15.30</td>\n",
              "    </tr>\n",
              "    <tr>\n",
              "      <th>1</th>\n",
              "      <td>536365</td>\n",
              "      <td>71053</td>\n",
              "      <td>WHITE METAL LANTERN</td>\n",
              "      <td>6</td>\n",
              "      <td>2010-12-01 08:26:00</td>\n",
              "      <td>3.39</td>\n",
              "      <td>17850.0</td>\n",
              "      <td>2010</td>\n",
              "      <td>12</td>\n",
              "      <td>1</td>\n",
              "      <td>1</td>\n",
              "      <td>48</td>\n",
              "      <td>20.34</td>\n",
              "    </tr>\n",
              "    <tr>\n",
              "      <th>2</th>\n",
              "      <td>536365</td>\n",
              "      <td>84406B</td>\n",
              "      <td>CREAM CUPID HEARTS COAT HANGER</td>\n",
              "      <td>8</td>\n",
              "      <td>2010-12-01 08:26:00</td>\n",
              "      <td>2.75</td>\n",
              "      <td>17850.0</td>\n",
              "      <td>2010</td>\n",
              "      <td>12</td>\n",
              "      <td>1</td>\n",
              "      <td>1</td>\n",
              "      <td>48</td>\n",
              "      <td>22.00</td>\n",
              "    </tr>\n",
              "    <tr>\n",
              "      <th>3</th>\n",
              "      <td>536365</td>\n",
              "      <td>84029G</td>\n",
              "      <td>KNITTED UNION FLAG HOT WATER BOTTLE</td>\n",
              "      <td>6</td>\n",
              "      <td>2010-12-01 08:26:00</td>\n",
              "      <td>3.39</td>\n",
              "      <td>17850.0</td>\n",
              "      <td>2010</td>\n",
              "      <td>12</td>\n",
              "      <td>1</td>\n",
              "      <td>1</td>\n",
              "      <td>48</td>\n",
              "      <td>20.34</td>\n",
              "    </tr>\n",
              "    <tr>\n",
              "      <th>4</th>\n",
              "      <td>536365</td>\n",
              "      <td>84029E</td>\n",
              "      <td>RED WOOLLY HOTTIE WHITE HEART.</td>\n",
              "      <td>6</td>\n",
              "      <td>2010-12-01 08:26:00</td>\n",
              "      <td>3.39</td>\n",
              "      <td>17850.0</td>\n",
              "      <td>2010</td>\n",
              "      <td>12</td>\n",
              "      <td>1</td>\n",
              "      <td>1</td>\n",
              "      <td>48</td>\n",
              "      <td>20.34</td>\n",
              "    </tr>\n",
              "  </tbody>\n",
              "</table>\n",
              "</div>"
            ],
            "text/plain": [
              "  InvoiceNo StockCode  ... WeekOfYear  Revenue\n",
              "0    536365    85123A  ...         48    15.30\n",
              "1    536365     71053  ...         48    20.34\n",
              "2    536365    84406B  ...         48    22.00\n",
              "3    536365    84029G  ...         48    20.34\n",
              "4    536365    84029E  ...         48    20.34\n",
              "\n",
              "[5 rows x 13 columns]"
            ]
          },
          "execution_count": 13,
          "metadata": {},
          "output_type": "execute_result"
        }
      ],
      "source": [
        "df.head()"
      ]
    },
    {
      "cell_type": "markdown",
      "id": "ex5axdsGrys-",
      "metadata": {
        "heading_collapsed": true,
        "id": "ex5axdsGrys-"
      },
      "source": [
        "# Calculate New Customer Ratio, Retention Rate and perform visualization using pandas and seaborn"
      ]
    },
    {
      "cell_type": "code",
      "execution_count": null,
      "id": "BYKcf1V9rys-",
      "metadata": {
        "hidden": true,
        "id": "BYKcf1V9rys-"
      },
      "outputs": [],
      "source": [
        "sns.set_theme()"
      ]
    },
    {
      "cell_type": "code",
      "execution_count": null,
      "id": "ziMLaC4Irys-",
      "metadata": {
        "hidden": true,
        "id": "ziMLaC4Irys-"
      },
      "outputs": [],
      "source": [
        "# to be safe, let's make a copy of our dataframe\n",
        "df_plots = df.copy()"
      ]
    },
    {
      "cell_type": "markdown",
      "id": "X-yxrKVRrys-",
      "metadata": {
        "hidden": true,
        "id": "X-yxrKVRrys-"
      },
      "source": [
        "For an online retail, we can select our metric (something that can help the company grows) as **Monthly Revenue**. Let’s see how our data look like on jupyter notebook."
      ]
    },
    {
      "cell_type": "markdown",
      "id": "UjSPoUH262nt",
      "metadata": {
        "id": "UjSPoUH262nt"
      },
      "source": [
        "**Important**: For the rest of the EDA, we will calculate some metrics **monthly**, so it will be convenient that for our dataframe, we can add a column to show year + month. We will call this column **InvoiceYearMonth**"
      ]
    },
    {
      "cell_type": "code",
      "execution_count": null,
      "id": "iVlEEZTT37Gv",
      "metadata": {
        "id": "iVlEEZTT37Gv"
      },
      "outputs": [],
      "source": [
        "df_plots['InvoiceYearMonth'] = df_plots['InvoiceDate'].map(lambda date: 100*date.year + date.month)"
      ]
    },
    {
      "cell_type": "markdown",
      "id": "k_SOTWFArys_",
      "metadata": {
        "hidden": true,
        "id": "k_SOTWFArys_"
      },
      "source": [
        "## Monthly Revenue and Percentage change for each month"
      ]
    },
    {
      "cell_type": "markdown",
      "id": "UnrzJOTL7UbJ",
      "metadata": {
        "id": "UnrzJOTL7UbJ"
      },
      "source": [
        "You need to create a dataframe that stores the revenue for each month"
      ]
    },
    {
      "cell_type": "code",
      "execution_count": null,
      "id": "8eBUNyI_eBL0",
      "metadata": {
        "colab": {
          "base_uri": "https://localhost:8080/"
        },
        "id": "8eBUNyI_eBL0",
        "outputId": "b136c182-9107-411f-b38b-309bffdb60a8"
      },
      "outputs": [
        {
          "data": {
            "text/plain": [
              "array([201012, 201101, 201102, 201103, 201104, 201105, 201106, 201107,\n",
              "       201108, 201109, 201110, 201111, 201112])"
            ]
          },
          "execution_count": 17,
          "metadata": {},
          "output_type": "execute_result"
        }
      ],
      "source": [
        "df_plots['InvoiceYearMonth'].unique()"
      ]
    },
    {
      "cell_type": "code",
      "execution_count": null,
      "id": "Hs_UiqKAJcyP",
      "metadata": {
        "colab": {
          "base_uri": "https://localhost:8080/",
          "height": 423
        },
        "id": "Hs_UiqKAJcyP",
        "outputId": "58303351-49f0-4758-cc65-9bf13aa662ce"
      },
      "outputs": [
        {
          "data": {
            "text/html": [
              "<div>\n",
              "<style scoped>\n",
              "    .dataframe tbody tr th:only-of-type {\n",
              "        vertical-align: middle;\n",
              "    }\n",
              "\n",
              "    .dataframe tbody tr th {\n",
              "        vertical-align: top;\n",
              "    }\n",
              "\n",
              "    .dataframe thead th {\n",
              "        text-align: right;\n",
              "    }\n",
              "</style>\n",
              "<table border=\"1\" class=\"dataframe\">\n",
              "  <thead>\n",
              "    <tr style=\"text-align: right;\">\n",
              "      <th></th>\n",
              "      <th>CustomerID</th>\n",
              "      <th>InvoiceYearMonth</th>\n",
              "    </tr>\n",
              "  </thead>\n",
              "  <tbody>\n",
              "    <tr>\n",
              "      <th>0</th>\n",
              "      <td>17850.0</td>\n",
              "      <td>201012</td>\n",
              "    </tr>\n",
              "    <tr>\n",
              "      <th>1</th>\n",
              "      <td>17850.0</td>\n",
              "      <td>201012</td>\n",
              "    </tr>\n",
              "    <tr>\n",
              "      <th>2</th>\n",
              "      <td>17850.0</td>\n",
              "      <td>201012</td>\n",
              "    </tr>\n",
              "    <tr>\n",
              "      <th>3</th>\n",
              "      <td>17850.0</td>\n",
              "      <td>201012</td>\n",
              "    </tr>\n",
              "    <tr>\n",
              "      <th>4</th>\n",
              "      <td>17850.0</td>\n",
              "      <td>201012</td>\n",
              "    </tr>\n",
              "    <tr>\n",
              "      <th>...</th>\n",
              "      <td>...</td>\n",
              "      <td>...</td>\n",
              "    </tr>\n",
              "    <tr>\n",
              "      <th>541889</th>\n",
              "      <td>15804.0</td>\n",
              "      <td>201112</td>\n",
              "    </tr>\n",
              "    <tr>\n",
              "      <th>541890</th>\n",
              "      <td>13113.0</td>\n",
              "      <td>201112</td>\n",
              "    </tr>\n",
              "    <tr>\n",
              "      <th>541891</th>\n",
              "      <td>13113.0</td>\n",
              "      <td>201112</td>\n",
              "    </tr>\n",
              "    <tr>\n",
              "      <th>541892</th>\n",
              "      <td>13113.0</td>\n",
              "      <td>201112</td>\n",
              "    </tr>\n",
              "    <tr>\n",
              "      <th>541893</th>\n",
              "      <td>13113.0</td>\n",
              "      <td>201112</td>\n",
              "    </tr>\n",
              "  </tbody>\n",
              "</table>\n",
              "<p>361878 rows × 2 columns</p>\n",
              "</div>"
            ],
            "text/plain": [
              "        CustomerID  InvoiceYearMonth\n",
              "0          17850.0            201012\n",
              "1          17850.0            201012\n",
              "2          17850.0            201012\n",
              "3          17850.0            201012\n",
              "4          17850.0            201012\n",
              "...            ...               ...\n",
              "541889     15804.0            201112\n",
              "541890     13113.0            201112\n",
              "541891     13113.0            201112\n",
              "541892     13113.0            201112\n",
              "541893     13113.0            201112\n",
              "\n",
              "[361878 rows x 2 columns]"
            ]
          },
          "execution_count": 18,
          "metadata": {},
          "output_type": "execute_result"
        }
      ],
      "source": [
        "df_plots[['CustomerID','InvoiceYearMonth']]"
      ]
    },
    {
      "cell_type": "code",
      "execution_count": null,
      "id": "hYlRtv_i4c-u",
      "metadata": {
        "colab": {
          "base_uri": "https://localhost:8080/",
          "height": 206
        },
        "id": "hYlRtv_i4c-u",
        "outputId": "72e0f6f0-1231-45d5-c590-e6fd58add5a3"
      },
      "outputs": [
        {
          "data": {
            "text/html": [
              "<div>\n",
              "<style scoped>\n",
              "    .dataframe tbody tr th:only-of-type {\n",
              "        vertical-align: middle;\n",
              "    }\n",
              "\n",
              "    .dataframe tbody tr th {\n",
              "        vertical-align: top;\n",
              "    }\n",
              "\n",
              "    .dataframe thead th {\n",
              "        text-align: right;\n",
              "    }\n",
              "</style>\n",
              "<table border=\"1\" class=\"dataframe\">\n",
              "  <thead>\n",
              "    <tr style=\"text-align: right;\">\n",
              "      <th></th>\n",
              "      <th>InvoiceNo</th>\n",
              "      <th>StockCode</th>\n",
              "      <th>Description</th>\n",
              "      <th>Quantity</th>\n",
              "      <th>InvoiceDate</th>\n",
              "      <th>UnitPrice</th>\n",
              "      <th>CustomerID</th>\n",
              "      <th>Year</th>\n",
              "      <th>Month</th>\n",
              "      <th>Day</th>\n",
              "      <th>DayOfWeek</th>\n",
              "      <th>WeekOfYear</th>\n",
              "      <th>Revenue</th>\n",
              "      <th>InvoiceYearMonth</th>\n",
              "    </tr>\n",
              "  </thead>\n",
              "  <tbody>\n",
              "    <tr>\n",
              "      <th>0</th>\n",
              "      <td>536365</td>\n",
              "      <td>85123A</td>\n",
              "      <td>WHITE HANGING HEART T-LIGHT HOLDER</td>\n",
              "      <td>6</td>\n",
              "      <td>2010-12-01 08:26:00</td>\n",
              "      <td>2.55</td>\n",
              "      <td>17850.0</td>\n",
              "      <td>2010</td>\n",
              "      <td>12</td>\n",
              "      <td>1</td>\n",
              "      <td>1</td>\n",
              "      <td>48</td>\n",
              "      <td>15.30</td>\n",
              "      <td>201012</td>\n",
              "    </tr>\n",
              "    <tr>\n",
              "      <th>1</th>\n",
              "      <td>536365</td>\n",
              "      <td>71053</td>\n",
              "      <td>WHITE METAL LANTERN</td>\n",
              "      <td>6</td>\n",
              "      <td>2010-12-01 08:26:00</td>\n",
              "      <td>3.39</td>\n",
              "      <td>17850.0</td>\n",
              "      <td>2010</td>\n",
              "      <td>12</td>\n",
              "      <td>1</td>\n",
              "      <td>1</td>\n",
              "      <td>48</td>\n",
              "      <td>20.34</td>\n",
              "      <td>201012</td>\n",
              "    </tr>\n",
              "    <tr>\n",
              "      <th>2</th>\n",
              "      <td>536365</td>\n",
              "      <td>84406B</td>\n",
              "      <td>CREAM CUPID HEARTS COAT HANGER</td>\n",
              "      <td>8</td>\n",
              "      <td>2010-12-01 08:26:00</td>\n",
              "      <td>2.75</td>\n",
              "      <td>17850.0</td>\n",
              "      <td>2010</td>\n",
              "      <td>12</td>\n",
              "      <td>1</td>\n",
              "      <td>1</td>\n",
              "      <td>48</td>\n",
              "      <td>22.00</td>\n",
              "      <td>201012</td>\n",
              "    </tr>\n",
              "    <tr>\n",
              "      <th>3</th>\n",
              "      <td>536365</td>\n",
              "      <td>84029G</td>\n",
              "      <td>KNITTED UNION FLAG HOT WATER BOTTLE</td>\n",
              "      <td>6</td>\n",
              "      <td>2010-12-01 08:26:00</td>\n",
              "      <td>3.39</td>\n",
              "      <td>17850.0</td>\n",
              "      <td>2010</td>\n",
              "      <td>12</td>\n",
              "      <td>1</td>\n",
              "      <td>1</td>\n",
              "      <td>48</td>\n",
              "      <td>20.34</td>\n",
              "      <td>201012</td>\n",
              "    </tr>\n",
              "    <tr>\n",
              "      <th>4</th>\n",
              "      <td>536365</td>\n",
              "      <td>84029E</td>\n",
              "      <td>RED WOOLLY HOTTIE WHITE HEART.</td>\n",
              "      <td>6</td>\n",
              "      <td>2010-12-01 08:26:00</td>\n",
              "      <td>3.39</td>\n",
              "      <td>17850.0</td>\n",
              "      <td>2010</td>\n",
              "      <td>12</td>\n",
              "      <td>1</td>\n",
              "      <td>1</td>\n",
              "      <td>48</td>\n",
              "      <td>20.34</td>\n",
              "      <td>201012</td>\n",
              "    </tr>\n",
              "  </tbody>\n",
              "</table>\n",
              "</div>"
            ],
            "text/plain": [
              "  InvoiceNo StockCode  ... Revenue  InvoiceYearMonth\n",
              "0    536365    85123A  ...   15.30            201012\n",
              "1    536365     71053  ...   20.34            201012\n",
              "2    536365    84406B  ...   22.00            201012\n",
              "3    536365    84029G  ...   20.34            201012\n",
              "4    536365    84029E  ...   20.34            201012\n",
              "\n",
              "[5 rows x 14 columns]"
            ]
          },
          "execution_count": 19,
          "metadata": {},
          "output_type": "execute_result"
        }
      ],
      "source": [
        "df_plots.head()"
      ]
    },
    {
      "cell_type": "code",
      "execution_count": null,
      "id": "Xtz6UtBkhy3A",
      "metadata": {
        "id": "Xtz6UtBkhy3A"
      },
      "outputs": [],
      "source": [
        "# YOUR CODE HERE\n",
        "monthly_revenue = df_plots.groupby('InvoiceYearMonth')['Revenue'].sum().reset_index()"
      ]
    },
    {
      "cell_type": "code",
      "execution_count": null,
      "id": "jIm6Lp3HGc3e",
      "metadata": {
        "colab": {
          "base_uri": "https://localhost:8080/",
          "height": 206
        },
        "id": "jIm6Lp3HGc3e",
        "outputId": "e1f417df-6123-498e-8a56-760b3e1ba0c1"
      },
      "outputs": [
        {
          "data": {
            "text/html": [
              "<div>\n",
              "<style scoped>\n",
              "    .dataframe tbody tr th:only-of-type {\n",
              "        vertical-align: middle;\n",
              "    }\n",
              "\n",
              "    .dataframe tbody tr th {\n",
              "        vertical-align: top;\n",
              "    }\n",
              "\n",
              "    .dataframe thead th {\n",
              "        text-align: right;\n",
              "    }\n",
              "</style>\n",
              "<table border=\"1\" class=\"dataframe\">\n",
              "  <thead>\n",
              "    <tr style=\"text-align: right;\">\n",
              "      <th></th>\n",
              "      <th>InvoiceYearMonth</th>\n",
              "      <th>Revenue</th>\n",
              "    </tr>\n",
              "  </thead>\n",
              "  <tbody>\n",
              "    <tr>\n",
              "      <th>0</th>\n",
              "      <td>201012</td>\n",
              "      <td>483799.740</td>\n",
              "    </tr>\n",
              "    <tr>\n",
              "      <th>1</th>\n",
              "      <td>201101</td>\n",
              "      <td>351981.280</td>\n",
              "    </tr>\n",
              "    <tr>\n",
              "      <th>2</th>\n",
              "      <td>201102</td>\n",
              "      <td>348853.630</td>\n",
              "    </tr>\n",
              "    <tr>\n",
              "      <th>3</th>\n",
              "      <td>201103</td>\n",
              "      <td>456917.870</td>\n",
              "    </tr>\n",
              "    <tr>\n",
              "      <th>4</th>\n",
              "      <td>201104</td>\n",
              "      <td>376744.411</td>\n",
              "    </tr>\n",
              "  </tbody>\n",
              "</table>\n",
              "</div>"
            ],
            "text/plain": [
              "   InvoiceYearMonth     Revenue\n",
              "0            201012  483799.740\n",
              "1            201101  351981.280\n",
              "2            201102  348853.630\n",
              "3            201103  456917.870\n",
              "4            201104  376744.411"
            ]
          },
          "execution_count": 21,
          "metadata": {},
          "output_type": "execute_result"
        }
      ],
      "source": [
        "# you should have something like this\n",
        "monthly_revenue.head()"
      ]
    },
    {
      "cell_type": "code",
      "execution_count": null,
      "id": "YLGYBvU1ek40",
      "metadata": {
        "id": "YLGYBvU1ek40"
      },
      "outputs": [],
      "source": [
        "monthly_revenue['InvoiceYearMonth']=monthly_revenue['InvoiceYearMonth'].astype('str')"
      ]
    },
    {
      "cell_type": "markdown",
      "id": "GLXLZfRJrytA",
      "metadata": {
        "hidden": true,
        "id": "GLXLZfRJrytA"
      },
      "source": [
        "**Plot monthly revenue**"
      ]
    },
    {
      "cell_type": "code",
      "execution_count": null,
      "id": "Z28nPsDWfCxZ",
      "metadata": {
        "colab": {
          "base_uri": "https://localhost:8080/",
          "height": 519
        },
        "id": "Z28nPsDWfCxZ",
        "outputId": "1185450a-5587-4730-a577-b5f846fe4115"
      },
      "outputs": [
        {
          "data": {
            "text/plain": [
              "<matplotlib.axes._subplots.AxesSubplot at 0x7ff3e6805b10>"
            ]
          },
          "execution_count": 23,
          "metadata": {},
          "output_type": "execute_result"
        },
        {
          "data": {
            "image/png": "[encoded data removed]",
            "text/plain": [
              "<Figure size 1080x576 with 1 Axes>"
            ]
          },
          "metadata": {},
          "output_type": "display_data"
        }
      ],
      "source": [
        "plt.figure(figsize=(15,8))\n",
        "sns.lineplot(data=monthly_revenue,x='InvoiceYearMonth',y='Revenue')"
      ]
    },
    {
      "cell_type": "markdown",
      "id": "xd1uBVkarytB",
      "metadata": {
        "hidden": true,
        "id": "xd1uBVkarytB"
      },
      "source": [
        "In general, revenue is growing, especially from August 2011. Focus on a big drop in revenue in December 2011. Why is there a big drop?"
      ]
    },
    {
      "cell_type": "markdown",
      "id": "IUCKrkzhisDQ",
      "metadata": {
        "id": "IUCKrkzhisDQ"
      },
      "source": [
        "**ANSWER HERE:** "
      ]
    },
    {
      "cell_type": "markdown",
      "id": "Q2DwjaK2rytC",
      "metadata": {
        "hidden": true,
        "id": "Q2DwjaK2rytC"
      },
      "source": [
        "## New customer ratio and Retention rate"
      ]
    },
    {
      "cell_type": "markdown",
      "id": "89yCg5PLrytC",
      "metadata": {
        "hidden": true,
        "id": "89yCg5PLrytC"
      },
      "source": [
        "### New Customer Ratio\n",
        "- This is a good indicator to determine if we are losing our existing customers\n",
        "- \"New customer\" is whoever did his/her first purchase in the time window we defined. We will do it monthly for this example.\n",
        "   "
      ]
    },
    {
      "cell_type": "markdown",
      "id": "VBtfJHuVkO9F",
      "metadata": {
        "id": "VBtfJHuVkO9F"
      },
      "source": [
        "**Here are the steps you need to do in order to find New Customer Ratio**\n",
        "\n",
        "1. Create a dataframe that contains CustomerId and their earliest InvoiceDate (also known as earliest purchase date)\n",
        "2. Since we are doing this monthly, you only need to consider Month and Year of this date\n",
        "3. Merge this dataframe to the df_plots dataframe\n",
        "4. Create a new column called UserType\n",
        "- If a user's earliest InvoiceDate is after their current InvoiceDate: this is existing user\n",
        "- If a user's earliest InvoiceDate is the same as their current InvoiceDate: this is new user"
      ]
    },
    {
      "cell_type": "code",
      "execution_count": null,
      "id": "GOGXnVjfIuEn",
      "metadata": {
        "id": "GOGXnVjfIuEn"
      },
      "outputs": [],
      "source": [
        "Customer=df_plots[['CustomerID','InvoiceYearMonth']]"
      ]
    },
    {
      "cell_type": "code",
      "execution_count": null,
      "id": "wURW5MfzKH2A",
      "metadata": {
        "id": "wURW5MfzKH2A"
      },
      "outputs": [],
      "source": [
        "Customer=Customer.groupby('CustomerID').min()"
      ]
    },
    {
      "cell_type": "code",
      "execution_count": null,
      "id": "s5VTYuY6Kzya",
      "metadata": {
        "id": "s5VTYuY6Kzya"
      },
      "outputs": [],
      "source": [
        "new_df=pd.merge(df_plots,Customer,on='CustomerID',how='left')"
      ]
    },
    {
      "cell_type": "code",
      "execution_count": null,
      "id": "2Kl3S8JpNrIc",
      "metadata": {
        "colab": {
          "base_uri": "https://localhost:8080/",
          "height": 701
        },
        "id": "2Kl3S8JpNrIc",
        "outputId": "71b21672-4b6a-4930-880a-d4dc64e56e71"
      },
      "outputs": [
        {
          "data": {
            "text/html": [
              "<div>\n",
              "<style scoped>\n",
              "    .dataframe tbody tr th:only-of-type {\n",
              "        vertical-align: middle;\n",
              "    }\n",
              "\n",
              "    .dataframe tbody tr th {\n",
              "        vertical-align: top;\n",
              "    }\n",
              "\n",
              "    .dataframe thead th {\n",
              "        text-align: right;\n",
              "    }\n",
              "</style>\n",
              "<table border=\"1\" class=\"dataframe\">\n",
              "  <thead>\n",
              "    <tr style=\"text-align: right;\">\n",
              "      <th></th>\n",
              "      <th>InvoiceNo</th>\n",
              "      <th>StockCode</th>\n",
              "      <th>Description</th>\n",
              "      <th>Quantity</th>\n",
              "      <th>InvoiceDate</th>\n",
              "      <th>UnitPrice</th>\n",
              "      <th>CustomerID</th>\n",
              "      <th>Year</th>\n",
              "      <th>Month</th>\n",
              "      <th>Day</th>\n",
              "      <th>DayOfWeek</th>\n",
              "      <th>WeekOfYear</th>\n",
              "      <th>Revenue</th>\n",
              "      <th>InvoiceYearMonth_x</th>\n",
              "      <th>InvoiceYearMonth_y</th>\n",
              "    </tr>\n",
              "  </thead>\n",
              "  <tbody>\n",
              "    <tr>\n",
              "      <th>0</th>\n",
              "      <td>536365</td>\n",
              "      <td>85123A</td>\n",
              "      <td>WHITE HANGING HEART T-LIGHT HOLDER</td>\n",
              "      <td>6</td>\n",
              "      <td>2010-12-01 08:26:00</td>\n",
              "      <td>2.55</td>\n",
              "      <td>17850.0</td>\n",
              "      <td>2010</td>\n",
              "      <td>12</td>\n",
              "      <td>1</td>\n",
              "      <td>1</td>\n",
              "      <td>48</td>\n",
              "      <td>15.30</td>\n",
              "      <td>201012</td>\n",
              "      <td>201012</td>\n",
              "    </tr>\n",
              "    <tr>\n",
              "      <th>1</th>\n",
              "      <td>536365</td>\n",
              "      <td>71053</td>\n",
              "      <td>WHITE METAL LANTERN</td>\n",
              "      <td>6</td>\n",
              "      <td>2010-12-01 08:26:00</td>\n",
              "      <td>3.39</td>\n",
              "      <td>17850.0</td>\n",
              "      <td>2010</td>\n",
              "      <td>12</td>\n",
              "      <td>1</td>\n",
              "      <td>1</td>\n",
              "      <td>48</td>\n",
              "      <td>20.34</td>\n",
              "      <td>201012</td>\n",
              "      <td>201012</td>\n",
              "    </tr>\n",
              "    <tr>\n",
              "      <th>2</th>\n",
              "      <td>536365</td>\n",
              "      <td>84406B</td>\n",
              "      <td>CREAM CUPID HEARTS COAT HANGER</td>\n",
              "      <td>8</td>\n",
              "      <td>2010-12-01 08:26:00</td>\n",
              "      <td>2.75</td>\n",
              "      <td>17850.0</td>\n",
              "      <td>2010</td>\n",
              "      <td>12</td>\n",
              "      <td>1</td>\n",
              "      <td>1</td>\n",
              "      <td>48</td>\n",
              "      <td>22.00</td>\n",
              "      <td>201012</td>\n",
              "      <td>201012</td>\n",
              "    </tr>\n",
              "    <tr>\n",
              "      <th>3</th>\n",
              "      <td>536365</td>\n",
              "      <td>84029G</td>\n",
              "      <td>KNITTED UNION FLAG HOT WATER BOTTLE</td>\n",
              "      <td>6</td>\n",
              "      <td>2010-12-01 08:26:00</td>\n",
              "      <td>3.39</td>\n",
              "      <td>17850.0</td>\n",
              "      <td>2010</td>\n",
              "      <td>12</td>\n",
              "      <td>1</td>\n",
              "      <td>1</td>\n",
              "      <td>48</td>\n",
              "      <td>20.34</td>\n",
              "      <td>201012</td>\n",
              "      <td>201012</td>\n",
              "    </tr>\n",
              "    <tr>\n",
              "      <th>4</th>\n",
              "      <td>536365</td>\n",
              "      <td>84029E</td>\n",
              "      <td>RED WOOLLY HOTTIE WHITE HEART.</td>\n",
              "      <td>6</td>\n",
              "      <td>2010-12-01 08:26:00</td>\n",
              "      <td>3.39</td>\n",
              "      <td>17850.0</td>\n",
              "      <td>2010</td>\n",
              "      <td>12</td>\n",
              "      <td>1</td>\n",
              "      <td>1</td>\n",
              "      <td>48</td>\n",
              "      <td>20.34</td>\n",
              "      <td>201012</td>\n",
              "      <td>201012</td>\n",
              "    </tr>\n",
              "    <tr>\n",
              "      <th>...</th>\n",
              "      <td>...</td>\n",
              "      <td>...</td>\n",
              "      <td>...</td>\n",
              "      <td>...</td>\n",
              "      <td>...</td>\n",
              "      <td>...</td>\n",
              "      <td>...</td>\n",
              "      <td>...</td>\n",
              "      <td>...</td>\n",
              "      <td>...</td>\n",
              "      <td>...</td>\n",
              "      <td>...</td>\n",
              "      <td>...</td>\n",
              "      <td>...</td>\n",
              "      <td>...</td>\n",
              "    </tr>\n",
              "    <tr>\n",
              "      <th>361873</th>\n",
              "      <td>581585</td>\n",
              "      <td>22466</td>\n",
              "      <td>FAIRY TALE COTTAGE NIGHT LIGHT</td>\n",
              "      <td>12</td>\n",
              "      <td>2011-12-09 12:31:00</td>\n",
              "      <td>1.95</td>\n",
              "      <td>15804.0</td>\n",
              "      <td>2011</td>\n",
              "      <td>12</td>\n",
              "      <td>9</td>\n",
              "      <td>9</td>\n",
              "      <td>49</td>\n",
              "      <td>23.40</td>\n",
              "      <td>201112</td>\n",
              "      <td>201105</td>\n",
              "    </tr>\n",
              "    <tr>\n",
              "      <th>361874</th>\n",
              "      <td>581586</td>\n",
              "      <td>22061</td>\n",
              "      <td>LARGE CAKE STAND  HANGING STRAWBERY</td>\n",
              "      <td>8</td>\n",
              "      <td>2011-12-09 12:49:00</td>\n",
              "      <td>2.95</td>\n",
              "      <td>13113.0</td>\n",
              "      <td>2011</td>\n",
              "      <td>12</td>\n",
              "      <td>9</td>\n",
              "      <td>9</td>\n",
              "      <td>49</td>\n",
              "      <td>23.60</td>\n",
              "      <td>201112</td>\n",
              "      <td>201012</td>\n",
              "    </tr>\n",
              "    <tr>\n",
              "      <th>361875</th>\n",
              "      <td>581586</td>\n",
              "      <td>23275</td>\n",
              "      <td>SET OF 3 HANGING OWLS OLLIE BEAK</td>\n",
              "      <td>24</td>\n",
              "      <td>2011-12-09 12:49:00</td>\n",
              "      <td>1.25</td>\n",
              "      <td>13113.0</td>\n",
              "      <td>2011</td>\n",
              "      <td>12</td>\n",
              "      <td>9</td>\n",
              "      <td>9</td>\n",
              "      <td>49</td>\n",
              "      <td>30.00</td>\n",
              "      <td>201112</td>\n",
              "      <td>201012</td>\n",
              "    </tr>\n",
              "    <tr>\n",
              "      <th>361876</th>\n",
              "      <td>581586</td>\n",
              "      <td>21217</td>\n",
              "      <td>RED RETROSPOT ROUND CAKE TINS</td>\n",
              "      <td>24</td>\n",
              "      <td>2011-12-09 12:49:00</td>\n",
              "      <td>8.95</td>\n",
              "      <td>13113.0</td>\n",
              "      <td>2011</td>\n",
              "      <td>12</td>\n",
              "      <td>9</td>\n",
              "      <td>9</td>\n",
              "      <td>49</td>\n",
              "      <td>214.80</td>\n",
              "      <td>201112</td>\n",
              "      <td>201012</td>\n",
              "    </tr>\n",
              "    <tr>\n",
              "      <th>361877</th>\n",
              "      <td>581586</td>\n",
              "      <td>20685</td>\n",
              "      <td>DOORMAT RED RETROSPOT</td>\n",
              "      <td>10</td>\n",
              "      <td>2011-12-09 12:49:00</td>\n",
              "      <td>7.08</td>\n",
              "      <td>13113.0</td>\n",
              "      <td>2011</td>\n",
              "      <td>12</td>\n",
              "      <td>9</td>\n",
              "      <td>9</td>\n",
              "      <td>49</td>\n",
              "      <td>70.80</td>\n",
              "      <td>201112</td>\n",
              "      <td>201012</td>\n",
              "    </tr>\n",
              "  </tbody>\n",
              "</table>\n",
              "<p>361878 rows × 15 columns</p>\n",
              "</div>"
            ],
            "text/plain": [
              "       InvoiceNo StockCode  ... InvoiceYearMonth_x  InvoiceYearMonth_y\n",
              "0         536365    85123A  ...             201012              201012\n",
              "1         536365     71053  ...             201012              201012\n",
              "2         536365    84406B  ...             201012              201012\n",
              "3         536365    84029G  ...             201012              201012\n",
              "4         536365    84029E  ...             201012              201012\n",
              "...          ...       ...  ...                ...                 ...\n",
              "361873    581585     22466  ...             201112              201105\n",
              "361874    581586     22061  ...             201112              201012\n",
              "361875    581586     23275  ...             201112              201012\n",
              "361876    581586     21217  ...             201112              201012\n",
              "361877    581586     20685  ...             201112              201012\n",
              "\n",
              "[361878 rows x 15 columns]"
            ]
          },
          "execution_count": 27,
          "metadata": {},
          "output_type": "execute_result"
        }
      ],
      "source": [
        "new_df"
      ]
    },
    {
      "cell_type": "code",
      "execution_count": null,
      "id": "eEgmL-6vNwXI",
      "metadata": {
        "id": "eEgmL-6vNwXI"
      },
      "outputs": [],
      "source": [
        "def customertype(df):\n",
        "    if df['InvoiceYearMonth_x'] > df['InvoiceYearMonth_y']: \n",
        "        return' Existing user'\n",
        "    else:\n",
        "        return 'New user'"
      ]
    },
    {
      "cell_type": "code",
      "execution_count": null,
      "id": "h8JYo7R_P7a2",
      "metadata": {
        "id": "h8JYo7R_P7a2"
      },
      "outputs": [],
      "source": [
        "new_df['UserType']=new_df.apply(customertype,axis=1)"
      ]
    },
    {
      "cell_type": "code",
      "execution_count": null,
      "id": "EtE4HdnSSQDE",
      "metadata": {
        "id": "EtE4HdnSSQDE"
      },
      "outputs": [],
      "source": [
        "new_df.rename(columns={'InvoiceYearMonth_x':'InvoiceYearMonth','InvoiceYearMonth_y':'MinPurchaseYearMonth'},inplace=True)"
      ]
    },
    {
      "cell_type": "code",
      "execution_count": null,
      "id": "bAVmTizte6rw",
      "metadata": {
        "id": "bAVmTizte6rw"
      },
      "outputs": [],
      "source": [
        "# As a hint, this should be what you have from step 3"
      ]
    },
    {
      "cell_type": "code",
      "execution_count": null,
      "id": "eCFvkwLErytD",
      "metadata": {
        "colab": {
          "base_uri": "https://localhost:8080/",
          "height": 506
        },
        "hidden": true,
        "id": "eCFvkwLErytD",
        "outputId": "c9621de7-a732-4b41-833d-f368585612f5"
      },
      "outputs": [
        {
          "data": {
            "text/html": [
              "<div>\n",
              "<style scoped>\n",
              "    .dataframe tbody tr th:only-of-type {\n",
              "        vertical-align: middle;\n",
              "    }\n",
              "\n",
              "    .dataframe tbody tr th {\n",
              "        vertical-align: top;\n",
              "    }\n",
              "\n",
              "    .dataframe thead th {\n",
              "        text-align: right;\n",
              "    }\n",
              "</style>\n",
              "<table border=\"1\" class=\"dataframe\">\n",
              "  <thead>\n",
              "    <tr style=\"text-align: right;\">\n",
              "      <th></th>\n",
              "      <th>0</th>\n",
              "      <th>1</th>\n",
              "      <th>2</th>\n",
              "      <th>3</th>\n",
              "      <th>4</th>\n",
              "    </tr>\n",
              "  </thead>\n",
              "  <tbody>\n",
              "    <tr>\n",
              "      <th>InvoiceNo</th>\n",
              "      <td>536365</td>\n",
              "      <td>536365</td>\n",
              "      <td>536365</td>\n",
              "      <td>536365</td>\n",
              "      <td>536365</td>\n",
              "    </tr>\n",
              "    <tr>\n",
              "      <th>StockCode</th>\n",
              "      <td>85123A</td>\n",
              "      <td>71053</td>\n",
              "      <td>84406B</td>\n",
              "      <td>84029G</td>\n",
              "      <td>84029E</td>\n",
              "    </tr>\n",
              "    <tr>\n",
              "      <th>Description</th>\n",
              "      <td>WHITE HANGING HEART T-LIGHT HOLDER</td>\n",
              "      <td>WHITE METAL LANTERN</td>\n",
              "      <td>CREAM CUPID HEARTS COAT HANGER</td>\n",
              "      <td>KNITTED UNION FLAG HOT WATER BOTTLE</td>\n",
              "      <td>RED WOOLLY HOTTIE WHITE HEART.</td>\n",
              "    </tr>\n",
              "    <tr>\n",
              "      <th>Quantity</th>\n",
              "      <td>6</td>\n",
              "      <td>6</td>\n",
              "      <td>8</td>\n",
              "      <td>6</td>\n",
              "      <td>6</td>\n",
              "    </tr>\n",
              "    <tr>\n",
              "      <th>InvoiceDate</th>\n",
              "      <td>2010-12-01 08:26:00</td>\n",
              "      <td>2010-12-01 08:26:00</td>\n",
              "      <td>2010-12-01 08:26:00</td>\n",
              "      <td>2010-12-01 08:26:00</td>\n",
              "      <td>2010-12-01 08:26:00</td>\n",
              "    </tr>\n",
              "    <tr>\n",
              "      <th>UnitPrice</th>\n",
              "      <td>2.55</td>\n",
              "      <td>3.39</td>\n",
              "      <td>2.75</td>\n",
              "      <td>3.39</td>\n",
              "      <td>3.39</td>\n",
              "    </tr>\n",
              "    <tr>\n",
              "      <th>CustomerID</th>\n",
              "      <td>17850</td>\n",
              "      <td>17850</td>\n",
              "      <td>17850</td>\n",
              "      <td>17850</td>\n",
              "      <td>17850</td>\n",
              "    </tr>\n",
              "    <tr>\n",
              "      <th>Year</th>\n",
              "      <td>2010</td>\n",
              "      <td>2010</td>\n",
              "      <td>2010</td>\n",
              "      <td>2010</td>\n",
              "      <td>2010</td>\n",
              "    </tr>\n",
              "    <tr>\n",
              "      <th>Month</th>\n",
              "      <td>12</td>\n",
              "      <td>12</td>\n",
              "      <td>12</td>\n",
              "      <td>12</td>\n",
              "      <td>12</td>\n",
              "    </tr>\n",
              "    <tr>\n",
              "      <th>Day</th>\n",
              "      <td>1</td>\n",
              "      <td>1</td>\n",
              "      <td>1</td>\n",
              "      <td>1</td>\n",
              "      <td>1</td>\n",
              "    </tr>\n",
              "    <tr>\n",
              "      <th>DayOfWeek</th>\n",
              "      <td>1</td>\n",
              "      <td>1</td>\n",
              "      <td>1</td>\n",
              "      <td>1</td>\n",
              "      <td>1</td>\n",
              "    </tr>\n",
              "    <tr>\n",
              "      <th>WeekOfYear</th>\n",
              "      <td>48</td>\n",
              "      <td>48</td>\n",
              "      <td>48</td>\n",
              "      <td>48</td>\n",
              "      <td>48</td>\n",
              "    </tr>\n",
              "    <tr>\n",
              "      <th>Revenue</th>\n",
              "      <td>15.3</td>\n",
              "      <td>20.34</td>\n",
              "      <td>22</td>\n",
              "      <td>20.34</td>\n",
              "      <td>20.34</td>\n",
              "    </tr>\n",
              "    <tr>\n",
              "      <th>InvoiceYearMonth</th>\n",
              "      <td>201012</td>\n",
              "      <td>201012</td>\n",
              "      <td>201012</td>\n",
              "      <td>201012</td>\n",
              "      <td>201012</td>\n",
              "    </tr>\n",
              "  </tbody>\n",
              "</table>\n",
              "</div>"
            ],
            "text/plain": [
              "                                                   0  ...                               4\n",
              "InvoiceNo                                     536365  ...                          536365\n",
              "StockCode                                     85123A  ...                          84029E\n",
              "Description       WHITE HANGING HEART T-LIGHT HOLDER  ...  RED WOOLLY HOTTIE WHITE HEART.\n",
              "Quantity                                           6  ...                               6\n",
              "InvoiceDate                      2010-12-01 08:26:00  ...             2010-12-01 08:26:00\n",
              "UnitPrice                                       2.55  ...                            3.39\n",
              "CustomerID                                     17850  ...                           17850\n",
              "Year                                            2010  ...                            2010\n",
              "Month                                             12  ...                              12\n",
              "Day                                                1  ...                               1\n",
              "DayOfWeek                                          1  ...                               1\n",
              "WeekOfYear                                        48  ...                              48\n",
              "Revenue                                         15.3  ...                           20.34\n",
              "InvoiceYearMonth                              201012  ...                          201012\n",
              "\n",
              "[14 rows x 5 columns]"
            ]
          },
          "execution_count": 32,
          "metadata": {},
          "output_type": "execute_result"
        }
      ],
      "source": [
        "# And this is my version that I have after performing step 4. You should see the UserType column (last row, as I am doing transposing)\n",
        "df_plots.head().T"
      ]
    },
    {
      "cell_type": "code",
      "execution_count": null,
      "id": "npUDTRITTrjX",
      "metadata": {
        "colab": {
          "base_uri": "https://localhost:8080/",
          "height": 568
        },
        "id": "npUDTRITTrjX",
        "outputId": "b1bdc697-484d-46d4-d9de-50289d55a677"
      },
      "outputs": [
        {
          "data": {
            "text/html": [
              "<div>\n",
              "<style scoped>\n",
              "    .dataframe tbody tr th:only-of-type {\n",
              "        vertical-align: middle;\n",
              "    }\n",
              "\n",
              "    .dataframe tbody tr th {\n",
              "        vertical-align: top;\n",
              "    }\n",
              "\n",
              "    .dataframe thead th {\n",
              "        text-align: right;\n",
              "    }\n",
              "</style>\n",
              "<table border=\"1\" class=\"dataframe\">\n",
              "  <thead>\n",
              "    <tr style=\"text-align: right;\">\n",
              "      <th></th>\n",
              "      <th>0</th>\n",
              "      <th>1</th>\n",
              "      <th>2</th>\n",
              "      <th>3</th>\n",
              "      <th>4</th>\n",
              "    </tr>\n",
              "  </thead>\n",
              "  <tbody>\n",
              "    <tr>\n",
              "      <th>InvoiceNo</th>\n",
              "      <td>536365</td>\n",
              "      <td>536365</td>\n",
              "      <td>536365</td>\n",
              "      <td>536365</td>\n",
              "      <td>536365</td>\n",
              "    </tr>\n",
              "    <tr>\n",
              "      <th>StockCode</th>\n",
              "      <td>85123A</td>\n",
              "      <td>71053</td>\n",
              "      <td>84406B</td>\n",
              "      <td>84029G</td>\n",
              "      <td>84029E</td>\n",
              "    </tr>\n",
              "    <tr>\n",
              "      <th>Description</th>\n",
              "      <td>WHITE HANGING HEART T-LIGHT HOLDER</td>\n",
              "      <td>WHITE METAL LANTERN</td>\n",
              "      <td>CREAM CUPID HEARTS COAT HANGER</td>\n",
              "      <td>KNITTED UNION FLAG HOT WATER BOTTLE</td>\n",
              "      <td>RED WOOLLY HOTTIE WHITE HEART.</td>\n",
              "    </tr>\n",
              "    <tr>\n",
              "      <th>Quantity</th>\n",
              "      <td>6</td>\n",
              "      <td>6</td>\n",
              "      <td>8</td>\n",
              "      <td>6</td>\n",
              "      <td>6</td>\n",
              "    </tr>\n",
              "    <tr>\n",
              "      <th>InvoiceDate</th>\n",
              "      <td>2010-12-01 08:26:00</td>\n",
              "      <td>2010-12-01 08:26:00</td>\n",
              "      <td>2010-12-01 08:26:00</td>\n",
              "      <td>2010-12-01 08:26:00</td>\n",
              "      <td>2010-12-01 08:26:00</td>\n",
              "    </tr>\n",
              "    <tr>\n",
              "      <th>UnitPrice</th>\n",
              "      <td>2.55</td>\n",
              "      <td>3.39</td>\n",
              "      <td>2.75</td>\n",
              "      <td>3.39</td>\n",
              "      <td>3.39</td>\n",
              "    </tr>\n",
              "    <tr>\n",
              "      <th>CustomerID</th>\n",
              "      <td>17850</td>\n",
              "      <td>17850</td>\n",
              "      <td>17850</td>\n",
              "      <td>17850</td>\n",
              "      <td>17850</td>\n",
              "    </tr>\n",
              "    <tr>\n",
              "      <th>Year</th>\n",
              "      <td>2010</td>\n",
              "      <td>2010</td>\n",
              "      <td>2010</td>\n",
              "      <td>2010</td>\n",
              "      <td>2010</td>\n",
              "    </tr>\n",
              "    <tr>\n",
              "      <th>Month</th>\n",
              "      <td>12</td>\n",
              "      <td>12</td>\n",
              "      <td>12</td>\n",
              "      <td>12</td>\n",
              "      <td>12</td>\n",
              "    </tr>\n",
              "    <tr>\n",
              "      <th>Day</th>\n",
              "      <td>1</td>\n",
              "      <td>1</td>\n",
              "      <td>1</td>\n",
              "      <td>1</td>\n",
              "      <td>1</td>\n",
              "    </tr>\n",
              "    <tr>\n",
              "      <th>DayOfWeek</th>\n",
              "      <td>1</td>\n",
              "      <td>1</td>\n",
              "      <td>1</td>\n",
              "      <td>1</td>\n",
              "      <td>1</td>\n",
              "    </tr>\n",
              "    <tr>\n",
              "      <th>WeekOfYear</th>\n",
              "      <td>48</td>\n",
              "      <td>48</td>\n",
              "      <td>48</td>\n",
              "      <td>48</td>\n",
              "      <td>48</td>\n",
              "    </tr>\n",
              "    <tr>\n",
              "      <th>Revenue</th>\n",
              "      <td>15.3</td>\n",
              "      <td>20.34</td>\n",
              "      <td>22</td>\n",
              "      <td>20.34</td>\n",
              "      <td>20.34</td>\n",
              "    </tr>\n",
              "    <tr>\n",
              "      <th>InvoiceYearMonth</th>\n",
              "      <td>201012</td>\n",
              "      <td>201012</td>\n",
              "      <td>201012</td>\n",
              "      <td>201012</td>\n",
              "      <td>201012</td>\n",
              "    </tr>\n",
              "    <tr>\n",
              "      <th>MinPurchaseYearMonth</th>\n",
              "      <td>201012</td>\n",
              "      <td>201012</td>\n",
              "      <td>201012</td>\n",
              "      <td>201012</td>\n",
              "      <td>201012</td>\n",
              "    </tr>\n",
              "    <tr>\n",
              "      <th>UserType</th>\n",
              "      <td>New user</td>\n",
              "      <td>New user</td>\n",
              "      <td>New user</td>\n",
              "      <td>New user</td>\n",
              "      <td>New user</td>\n",
              "    </tr>\n",
              "  </tbody>\n",
              "</table>\n",
              "</div>"
            ],
            "text/plain": [
              "                                                       0  ...                               4\n",
              "InvoiceNo                                         536365  ...                          536365\n",
              "StockCode                                         85123A  ...                          84029E\n",
              "Description           WHITE HANGING HEART T-LIGHT HOLDER  ...  RED WOOLLY HOTTIE WHITE HEART.\n",
              "Quantity                                               6  ...                               6\n",
              "InvoiceDate                          2010-12-01 08:26:00  ...             2010-12-01 08:26:00\n",
              "UnitPrice                                           2.55  ...                            3.39\n",
              "CustomerID                                         17850  ...                           17850\n",
              "Year                                                2010  ...                            2010\n",
              "Month                                                 12  ...                              12\n",
              "Day                                                    1  ...                               1\n",
              "DayOfWeek                                              1  ...                               1\n",
              "WeekOfYear                                            48  ...                              48\n",
              "Revenue                                             15.3  ...                           20.34\n",
              "InvoiceYearMonth                                  201012  ...                          201012\n",
              "MinPurchaseYearMonth                              201012  ...                          201012\n",
              "UserType                                        New user  ...                        New user\n",
              "\n",
              "[16 rows x 5 columns]"
            ]
          },
          "execution_count": 33,
          "metadata": {},
          "output_type": "execute_result"
        }
      ],
      "source": [
        "new_df.head().T"
      ]
    },
    {
      "cell_type": "code",
      "execution_count": null,
      "id": "nTsIXZy2sJdr",
      "metadata": {
        "colab": {
          "base_uri": "https://localhost:8080/",
          "height": 998
        },
        "id": "nTsIXZy2sJdr",
        "outputId": "e8a81f19-8814-4da4-e7a0-ed542d5b97a5"
      },
      "outputs": [
        {
          "data": {
            "text/html": [
              "<div>\n",
              "<style scoped>\n",
              "    .dataframe tbody tr th:only-of-type {\n",
              "        vertical-align: middle;\n",
              "    }\n",
              "\n",
              "    .dataframe tbody tr th {\n",
              "        vertical-align: top;\n",
              "    }\n",
              "\n",
              "    .dataframe thead th {\n",
              "        text-align: right;\n",
              "    }\n",
              "</style>\n",
              "<table border=\"1\" class=\"dataframe\">\n",
              "  <thead>\n",
              "    <tr style=\"text-align: right;\">\n",
              "      <th></th>\n",
              "      <th>InvoiceNo</th>\n",
              "      <th>StockCode</th>\n",
              "      <th>Description</th>\n",
              "      <th>Quantity</th>\n",
              "      <th>InvoiceDate</th>\n",
              "      <th>UnitPrice</th>\n",
              "      <th>CustomerID</th>\n",
              "      <th>Year</th>\n",
              "      <th>Month</th>\n",
              "      <th>Day</th>\n",
              "      <th>DayOfWeek</th>\n",
              "      <th>WeekOfYear</th>\n",
              "      <th>Revenue</th>\n",
              "      <th>InvoiceYearMonth</th>\n",
              "      <th>MinPurchaseYearMonth</th>\n",
              "      <th>UserType</th>\n",
              "    </tr>\n",
              "  </thead>\n",
              "  <tbody>\n",
              "    <tr>\n",
              "      <th>0</th>\n",
              "      <td>536365</td>\n",
              "      <td>85123A</td>\n",
              "      <td>WHITE HANGING HEART T-LIGHT HOLDER</td>\n",
              "      <td>6</td>\n",
              "      <td>2010-12-01 08:26:00</td>\n",
              "      <td>2.55</td>\n",
              "      <td>17850.0</td>\n",
              "      <td>2010</td>\n",
              "      <td>12</td>\n",
              "      <td>1</td>\n",
              "      <td>1</td>\n",
              "      <td>48</td>\n",
              "      <td>15.30</td>\n",
              "      <td>201012</td>\n",
              "      <td>201012</td>\n",
              "      <td>New user</td>\n",
              "    </tr>\n",
              "    <tr>\n",
              "      <th>1</th>\n",
              "      <td>536365</td>\n",
              "      <td>71053</td>\n",
              "      <td>WHITE METAL LANTERN</td>\n",
              "      <td>6</td>\n",
              "      <td>2010-12-01 08:26:00</td>\n",
              "      <td>3.39</td>\n",
              "      <td>17850.0</td>\n",
              "      <td>2010</td>\n",
              "      <td>12</td>\n",
              "      <td>1</td>\n",
              "      <td>1</td>\n",
              "      <td>48</td>\n",
              "      <td>20.34</td>\n",
              "      <td>201012</td>\n",
              "      <td>201012</td>\n",
              "      <td>New user</td>\n",
              "    </tr>\n",
              "    <tr>\n",
              "      <th>2</th>\n",
              "      <td>536365</td>\n",
              "      <td>84406B</td>\n",
              "      <td>CREAM CUPID HEARTS COAT HANGER</td>\n",
              "      <td>8</td>\n",
              "      <td>2010-12-01 08:26:00</td>\n",
              "      <td>2.75</td>\n",
              "      <td>17850.0</td>\n",
              "      <td>2010</td>\n",
              "      <td>12</td>\n",
              "      <td>1</td>\n",
              "      <td>1</td>\n",
              "      <td>48</td>\n",
              "      <td>22.00</td>\n",
              "      <td>201012</td>\n",
              "      <td>201012</td>\n",
              "      <td>New user</td>\n",
              "    </tr>\n",
              "    <tr>\n",
              "      <th>3</th>\n",
              "      <td>536365</td>\n",
              "      <td>84029G</td>\n",
              "      <td>KNITTED UNION FLAG HOT WATER BOTTLE</td>\n",
              "      <td>6</td>\n",
              "      <td>2010-12-01 08:26:00</td>\n",
              "      <td>3.39</td>\n",
              "      <td>17850.0</td>\n",
              "      <td>2010</td>\n",
              "      <td>12</td>\n",
              "      <td>1</td>\n",
              "      <td>1</td>\n",
              "      <td>48</td>\n",
              "      <td>20.34</td>\n",
              "      <td>201012</td>\n",
              "      <td>201012</td>\n",
              "      <td>New user</td>\n",
              "    </tr>\n",
              "    <tr>\n",
              "      <th>4</th>\n",
              "      <td>536365</td>\n",
              "      <td>84029E</td>\n",
              "      <td>RED WOOLLY HOTTIE WHITE HEART.</td>\n",
              "      <td>6</td>\n",
              "      <td>2010-12-01 08:26:00</td>\n",
              "      <td>3.39</td>\n",
              "      <td>17850.0</td>\n",
              "      <td>2010</td>\n",
              "      <td>12</td>\n",
              "      <td>1</td>\n",
              "      <td>1</td>\n",
              "      <td>48</td>\n",
              "      <td>20.34</td>\n",
              "      <td>201012</td>\n",
              "      <td>201012</td>\n",
              "      <td>New user</td>\n",
              "    </tr>\n",
              "    <tr>\n",
              "      <th>...</th>\n",
              "      <td>...</td>\n",
              "      <td>...</td>\n",
              "      <td>...</td>\n",
              "      <td>...</td>\n",
              "      <td>...</td>\n",
              "      <td>...</td>\n",
              "      <td>...</td>\n",
              "      <td>...</td>\n",
              "      <td>...</td>\n",
              "      <td>...</td>\n",
              "      <td>...</td>\n",
              "      <td>...</td>\n",
              "      <td>...</td>\n",
              "      <td>...</td>\n",
              "      <td>...</td>\n",
              "      <td>...</td>\n",
              "    </tr>\n",
              "    <tr>\n",
              "      <th>361873</th>\n",
              "      <td>581585</td>\n",
              "      <td>22466</td>\n",
              "      <td>FAIRY TALE COTTAGE NIGHT LIGHT</td>\n",
              "      <td>12</td>\n",
              "      <td>2011-12-09 12:31:00</td>\n",
              "      <td>1.95</td>\n",
              "      <td>15804.0</td>\n",
              "      <td>2011</td>\n",
              "      <td>12</td>\n",
              "      <td>9</td>\n",
              "      <td>9</td>\n",
              "      <td>49</td>\n",
              "      <td>23.40</td>\n",
              "      <td>201112</td>\n",
              "      <td>201105</td>\n",
              "      <td>Existing user</td>\n",
              "    </tr>\n",
              "    <tr>\n",
              "      <th>361874</th>\n",
              "      <td>581586</td>\n",
              "      <td>22061</td>\n",
              "      <td>LARGE CAKE STAND  HANGING STRAWBERY</td>\n",
              "      <td>8</td>\n",
              "      <td>2011-12-09 12:49:00</td>\n",
              "      <td>2.95</td>\n",
              "      <td>13113.0</td>\n",
              "      <td>2011</td>\n",
              "      <td>12</td>\n",
              "      <td>9</td>\n",
              "      <td>9</td>\n",
              "      <td>49</td>\n",
              "      <td>23.60</td>\n",
              "      <td>201112</td>\n",
              "      <td>201012</td>\n",
              "      <td>Existing user</td>\n",
              "    </tr>\n",
              "    <tr>\n",
              "      <th>361875</th>\n",
              "      <td>581586</td>\n",
              "      <td>23275</td>\n",
              "      <td>SET OF 3 HANGING OWLS OLLIE BEAK</td>\n",
              "      <td>24</td>\n",
              "      <td>2011-12-09 12:49:00</td>\n",
              "      <td>1.25</td>\n",
              "      <td>13113.0</td>\n",
              "      <td>2011</td>\n",
              "      <td>12</td>\n",
              "      <td>9</td>\n",
              "      <td>9</td>\n",
              "      <td>49</td>\n",
              "      <td>30.00</td>\n",
              "      <td>201112</td>\n",
              "      <td>201012</td>\n",
              "      <td>Existing user</td>\n",
              "    </tr>\n",
              "    <tr>\n",
              "      <th>361876</th>\n",
              "      <td>581586</td>\n",
              "      <td>21217</td>\n",
              "      <td>RED RETROSPOT ROUND CAKE TINS</td>\n",
              "      <td>24</td>\n",
              "      <td>2011-12-09 12:49:00</td>\n",
              "      <td>8.95</td>\n",
              "      <td>13113.0</td>\n",
              "      <td>2011</td>\n",
              "      <td>12</td>\n",
              "      <td>9</td>\n",
              "      <td>9</td>\n",
              "      <td>49</td>\n",
              "      <td>214.80</td>\n",
              "      <td>201112</td>\n",
              "      <td>201012</td>\n",
              "      <td>Existing user</td>\n",
              "    </tr>\n",
              "    <tr>\n",
              "      <th>361877</th>\n",
              "      <td>581586</td>\n",
              "      <td>20685</td>\n",
              "      <td>DOORMAT RED RETROSPOT</td>\n",
              "      <td>10</td>\n",
              "      <td>2011-12-09 12:49:00</td>\n",
              "      <td>7.08</td>\n",
              "      <td>13113.0</td>\n",
              "      <td>2011</td>\n",
              "      <td>12</td>\n",
              "      <td>9</td>\n",
              "      <td>9</td>\n",
              "      <td>49</td>\n",
              "      <td>70.80</td>\n",
              "      <td>201112</td>\n",
              "      <td>201012</td>\n",
              "      <td>Existing user</td>\n",
              "    </tr>\n",
              "  </tbody>\n",
              "</table>\n",
              "<p>361878 rows × 16 columns</p>\n",
              "</div>"
            ],
            "text/plain": [
              "       InvoiceNo StockCode  ... MinPurchaseYearMonth        UserType\n",
              "0         536365    85123A  ...               201012        New user\n",
              "1         536365     71053  ...               201012        New user\n",
              "2         536365    84406B  ...               201012        New user\n",
              "3         536365    84029G  ...               201012        New user\n",
              "4         536365    84029E  ...               201012        New user\n",
              "...          ...       ...  ...                  ...             ...\n",
              "361873    581585     22466  ...               201105   Existing user\n",
              "361874    581586     22061  ...               201012   Existing user\n",
              "361875    581586     23275  ...               201012   Existing user\n",
              "361876    581586     21217  ...               201012   Existing user\n",
              "361877    581586     20685  ...               201012   Existing user\n",
              "\n",
              "[361878 rows x 16 columns]"
            ]
          },
          "execution_count": 34,
          "metadata": {},
          "output_type": "execute_result"
        }
      ],
      "source": [
        "new_df"
      ]
    },
    {
      "cell_type": "markdown",
      "id": "hvhIF_MFrytD",
      "metadata": {
        "hidden": true,
        "id": "hvhIF_MFrytD"
      },
      "source": [
        "We have successfully identify the New and Existing customers for each month.\n",
        "\n",
        "While we are at it, let's calculate the monthly revenue generated by each UserType. We want to see what is the total revenue generated by New user and total revenue generated by Existing user, for each month (hint: this requires groupby)"
      ]
    },
    {
      "cell_type": "code",
      "execution_count": null,
      "id": "ql2yYsCLrytE",
      "metadata": {
        "colab": {
          "base_uri": "https://localhost:8080/",
          "height": 206
        },
        "hidden": true,
        "id": "ql2yYsCLrytE",
        "outputId": "a1532dc3-568e-4370-a572-67a30380e355"
      },
      "outputs": [
        {
          "data": {
            "text/html": [
              "<div>\n",
              "<style scoped>\n",
              "    .dataframe tbody tr th:only-of-type {\n",
              "        vertical-align: middle;\n",
              "    }\n",
              "\n",
              "    .dataframe tbody tr th {\n",
              "        vertical-align: top;\n",
              "    }\n",
              "\n",
              "    .dataframe thead th {\n",
              "        text-align: right;\n",
              "    }\n",
              "</style>\n",
              "<table border=\"1\" class=\"dataframe\">\n",
              "  <thead>\n",
              "    <tr style=\"text-align: right;\">\n",
              "      <th></th>\n",
              "      <th>InvoiceYearMonth</th>\n",
              "      <th>UserType</th>\n",
              "      <th>Revenue</th>\n",
              "    </tr>\n",
              "  </thead>\n",
              "  <tbody>\n",
              "    <tr>\n",
              "      <th>0</th>\n",
              "      <td>201012</td>\n",
              "      <td>New user</td>\n",
              "      <td>483799.74</td>\n",
              "    </tr>\n",
              "    <tr>\n",
              "      <th>1</th>\n",
              "      <td>201101</td>\n",
              "      <td>Existing user</td>\n",
              "      <td>195275.51</td>\n",
              "    </tr>\n",
              "    <tr>\n",
              "      <th>2</th>\n",
              "      <td>201101</td>\n",
              "      <td>New user</td>\n",
              "      <td>156705.77</td>\n",
              "    </tr>\n",
              "    <tr>\n",
              "      <th>3</th>\n",
              "      <td>201102</td>\n",
              "      <td>Existing user</td>\n",
              "      <td>220994.63</td>\n",
              "    </tr>\n",
              "    <tr>\n",
              "      <th>4</th>\n",
              "      <td>201102</td>\n",
              "      <td>New user</td>\n",
              "      <td>127859.00</td>\n",
              "    </tr>\n",
              "  </tbody>\n",
              "</table>\n",
              "</div>"
            ],
            "text/plain": [
              "   InvoiceYearMonth        UserType    Revenue\n",
              "0            201012        New user  483799.74\n",
              "1            201101   Existing user  195275.51\n",
              "2            201101        New user  156705.77\n",
              "3            201102   Existing user  220994.63\n",
              "4            201102        New user  127859.00"
            ]
          },
          "execution_count": 35,
          "metadata": {},
          "output_type": "execute_result"
        }
      ],
      "source": [
        "# YOUR CODE HERE\n",
        "CustomerMonth=new_df.groupby(['InvoiceYearMonth','UserType'])['Revenue'].sum().reset_index()\n",
        "CustomerMonth.head()"
      ]
    },
    {
      "cell_type": "markdown",
      "id": "EuiPDERrrciz",
      "metadata": {
        "id": "EuiPDERrrciz"
      },
      "source": [
        "Note: you should exclude the first month (Dec 2010) so the UserType will make more sense, and we will also exclude the last month (Dec 2011) as we don't have enough data in Dec 2011"
      ]
    },
    {
      "cell_type": "code",
      "execution_count": null,
      "id": "NbYeZNojVjuN",
      "metadata": {
        "id": "NbYeZNojVjuN"
      },
      "outputs": [],
      "source": [
        "CustomerMonth=CustomerMonth.iloc[1:-2,:]"
      ]
    },
    {
      "cell_type": "code",
      "execution_count": null,
      "id": "Str7kX3sVcwR",
      "metadata": {
        "colab": {
          "base_uri": "https://localhost:8080/",
          "height": 739
        },
        "id": "Str7kX3sVcwR",
        "outputId": "648f00c1-d3e0-47d7-e15e-cef7a81b64cc"
      },
      "outputs": [
        {
          "data": {
            "text/html": [
              "<div>\n",
              "<style scoped>\n",
              "    .dataframe tbody tr th:only-of-type {\n",
              "        vertical-align: middle;\n",
              "    }\n",
              "\n",
              "    .dataframe tbody tr th {\n",
              "        vertical-align: top;\n",
              "    }\n",
              "\n",
              "    .dataframe thead th {\n",
              "        text-align: right;\n",
              "    }\n",
              "</style>\n",
              "<table border=\"1\" class=\"dataframe\">\n",
              "  <thead>\n",
              "    <tr style=\"text-align: right;\">\n",
              "      <th></th>\n",
              "      <th>InvoiceYearMonth</th>\n",
              "      <th>UserType</th>\n",
              "      <th>Revenue</th>\n",
              "    </tr>\n",
              "  </thead>\n",
              "  <tbody>\n",
              "    <tr>\n",
              "      <th>1</th>\n",
              "      <td>201101</td>\n",
              "      <td>Existing user</td>\n",
              "      <td>195275.510</td>\n",
              "    </tr>\n",
              "    <tr>\n",
              "      <th>2</th>\n",
              "      <td>201101</td>\n",
              "      <td>New user</td>\n",
              "      <td>156705.770</td>\n",
              "    </tr>\n",
              "    <tr>\n",
              "      <th>3</th>\n",
              "      <td>201102</td>\n",
              "      <td>Existing user</td>\n",
              "      <td>220994.630</td>\n",
              "    </tr>\n",
              "    <tr>\n",
              "      <th>4</th>\n",
              "      <td>201102</td>\n",
              "      <td>New user</td>\n",
              "      <td>127859.000</td>\n",
              "    </tr>\n",
              "    <tr>\n",
              "      <th>5</th>\n",
              "      <td>201103</td>\n",
              "      <td>Existing user</td>\n",
              "      <td>296350.030</td>\n",
              "    </tr>\n",
              "    <tr>\n",
              "      <th>6</th>\n",
              "      <td>201103</td>\n",
              "      <td>New user</td>\n",
              "      <td>160567.840</td>\n",
              "    </tr>\n",
              "    <tr>\n",
              "      <th>7</th>\n",
              "      <td>201104</td>\n",
              "      <td>Existing user</td>\n",
              "      <td>268226.660</td>\n",
              "    </tr>\n",
              "    <tr>\n",
              "      <th>8</th>\n",
              "      <td>201104</td>\n",
              "      <td>New user</td>\n",
              "      <td>108517.751</td>\n",
              "    </tr>\n",
              "    <tr>\n",
              "      <th>9</th>\n",
              "      <td>201105</td>\n",
              "      <td>Existing user</td>\n",
              "      <td>434725.860</td>\n",
              "    </tr>\n",
              "    <tr>\n",
              "      <th>10</th>\n",
              "      <td>201105</td>\n",
              "      <td>New user</td>\n",
              "      <td>90847.490</td>\n",
              "    </tr>\n",
              "    <tr>\n",
              "      <th>11</th>\n",
              "      <td>201106</td>\n",
              "      <td>Existing user</td>\n",
              "      <td>408030.060</td>\n",
              "    </tr>\n",
              "    <tr>\n",
              "      <th>12</th>\n",
              "      <td>201106</td>\n",
              "      <td>New user</td>\n",
              "      <td>64479.190</td>\n",
              "    </tr>\n",
              "    <tr>\n",
              "      <th>13</th>\n",
              "      <td>201107</td>\n",
              "      <td>Existing user</td>\n",
              "      <td>407693.610</td>\n",
              "    </tr>\n",
              "    <tr>\n",
              "      <th>14</th>\n",
              "      <td>201107</td>\n",
              "      <td>New user</td>\n",
              "      <td>53453.991</td>\n",
              "    </tr>\n",
              "    <tr>\n",
              "      <th>15</th>\n",
              "      <td>201108</td>\n",
              "      <td>Existing user</td>\n",
              "      <td>421388.930</td>\n",
              "    </tr>\n",
              "    <tr>\n",
              "      <th>16</th>\n",
              "      <td>201108</td>\n",
              "      <td>New user</td>\n",
              "      <td>55619.480</td>\n",
              "    </tr>\n",
              "    <tr>\n",
              "      <th>17</th>\n",
              "      <td>201109</td>\n",
              "      <td>Existing user</td>\n",
              "      <td>640861.901</td>\n",
              "    </tr>\n",
              "    <tr>\n",
              "      <th>18</th>\n",
              "      <td>201109</td>\n",
              "      <td>New user</td>\n",
              "      <td>135667.941</td>\n",
              "    </tr>\n",
              "    <tr>\n",
              "      <th>19</th>\n",
              "      <td>201110</td>\n",
              "      <td>Existing user</td>\n",
              "      <td>648837.600</td>\n",
              "    </tr>\n",
              "    <tr>\n",
              "      <th>20</th>\n",
              "      <td>201110</td>\n",
              "      <td>New user</td>\n",
              "      <td>133940.280</td>\n",
              "    </tr>\n",
              "    <tr>\n",
              "      <th>21</th>\n",
              "      <td>201111</td>\n",
              "      <td>Existing user</td>\n",
              "      <td>838955.910</td>\n",
              "    </tr>\n",
              "    <tr>\n",
              "      <th>22</th>\n",
              "      <td>201111</td>\n",
              "      <td>New user</td>\n",
              "      <td>117153.750</td>\n",
              "    </tr>\n",
              "  </tbody>\n",
              "</table>\n",
              "</div>"
            ],
            "text/plain": [
              "    InvoiceYearMonth        UserType     Revenue\n",
              "1             201101   Existing user  195275.510\n",
              "2             201101        New user  156705.770\n",
              "3             201102   Existing user  220994.630\n",
              "4             201102        New user  127859.000\n",
              "5             201103   Existing user  296350.030\n",
              "6             201103        New user  160567.840\n",
              "7             201104   Existing user  268226.660\n",
              "8             201104        New user  108517.751\n",
              "9             201105   Existing user  434725.860\n",
              "10            201105        New user   90847.490\n",
              "11            201106   Existing user  408030.060\n",
              "12            201106        New user   64479.190\n",
              "13            201107   Existing user  407693.610\n",
              "14            201107        New user   53453.991\n",
              "15            201108   Existing user  421388.930\n",
              "16            201108        New user   55619.480\n",
              "17            201109   Existing user  640861.901\n",
              "18            201109        New user  135667.941\n",
              "19            201110   Existing user  648837.600\n",
              "20            201110        New user  133940.280\n",
              "21            201111   Existing user  838955.910\n",
              "22            201111        New user  117153.750"
            ]
          },
          "execution_count": 37,
          "metadata": {},
          "output_type": "execute_result"
        }
      ],
      "source": [
        "CustomerMonth"
      ]
    },
    {
      "cell_type": "code",
      "execution_count": null,
      "id": "iPPeZugHrytE",
      "metadata": {
        "hidden": true,
        "id": "iPPeZugHrytE"
      },
      "outputs": [],
      "source": [
        "# After this, you should have a dataframe like this"
      ]
    },
    {
      "cell_type": "markdown",
      "id": "lYvKZPraxtOC",
      "metadata": {
        "id": "lYvKZPraxtOC"
      },
      "source": [
        "Let's plot the monthly revenue for each UserType. You can use seaborn and lineplot for this"
      ]
    },
    {
      "cell_type": "code",
      "execution_count": null,
      "id": "wK5b8Wp_XQcI",
      "metadata": {
        "id": "wK5b8Wp_XQcI"
      },
      "outputs": [],
      "source": [
        "CustomerMonth['InvoiceYearMonth']=CustomerMonth['InvoiceYearMonth'].astype('str')"
      ]
    },
    {
      "cell_type": "code",
      "execution_count": null,
      "id": "vaUeMJAVrytF",
      "metadata": {
        "colab": {
          "base_uri": "https://localhost:8080/",
          "height": 356
        },
        "hidden": true,
        "id": "vaUeMJAVrytF",
        "outputId": "43937727-216f-44cf-8491-f48b495e9e0b"
      },
      "outputs": [
        {
          "data": {
            "text/plain": [
              "<matplotlib.axes._subplots.AxesSubplot at 0x7ff3ec7c6d90>"
            ]
          },
          "execution_count": 39,
          "metadata": {},
          "output_type": "execute_result"
        },
        {
          "data": {
            "image/png": "[encoded data removed]",
            "text/plain": [
              "<Figure size 936x360 with 1 Axes>"
            ]
          },
          "metadata": {},
          "output_type": "display_data"
        }
      ],
      "source": [
        "# YOUR CODE HERE\n",
        "plt.figure(figsize=(13,5))\n",
        "sns.lineplot(data=CustomerMonth,x='InvoiceYearMonth',y='Revenue',hue='UserType')"
      ]
    },
    {
      "cell_type": "markdown",
      "id": "sjQDLbDRrytF",
      "metadata": {
        "hidden": true,
        "id": "sjQDLbDRrytF"
      },
      "source": [
        "Existing customers are showing a positive trend and tell us that our customer base is growing. New customers, however, have a slight negative trend between March 2011 to August 2011."
      ]
    },
    {
      "cell_type": "markdown",
      "id": "TjUHllsdrytF",
      "metadata": {
        "hidden": true,
        "id": "TjUHllsdrytF"
      },
      "source": [
        "### Retention Rate\n",
        "- indicates how many customers we retain over specific time window.\n",
        "- Should be monitored very closely because it indicates how well your service is and how well your product fits the market\n",
        "- The code to produce Retention Rate is provided to you, but **make sure to discuss the code with your classmates to fully understand it**"
      ]
    },
    {
      "cell_type": "markdown",
      "id": "tebf_LTz6JsY",
      "metadata": {
        "id": "tebf_LTz6JsY"
      },
      "source": [
        "**Step 1**: Create a crosstab between CustomerID and InvoiceYearMonth"
      ]
    },
    {
      "cell_type": "code",
      "execution_count": null,
      "id": "TujVQ9Hxgz9M",
      "metadata": {
        "id": "TujVQ9Hxgz9M"
      },
      "outputs": [],
      "source": [
        "#identify which users are active by looking at their revenue per month\n",
        "user_purchase = new_df.groupby(['CustomerID','InvoiceYearMonth'])['Revenue'].sum().reset_index()"
      ]
    },
    {
      "cell_type": "code",
      "execution_count": null,
      "id": "gezCRX5Jg604",
      "metadata": {
        "colab": {
          "base_uri": "https://localhost:8080/",
          "height": 206
        },
        "id": "gezCRX5Jg604",
        "outputId": "12faf86c-2828-4475-a58f-8ae6960f2f3e"
      },
      "outputs": [
        {
          "data": {
            "text/html": [
              "<div>\n",
              "<style scoped>\n",
              "    .dataframe tbody tr th:only-of-type {\n",
              "        vertical-align: middle;\n",
              "    }\n",
              "\n",
              "    .dataframe tbody tr th {\n",
              "        vertical-align: top;\n",
              "    }\n",
              "\n",
              "    .dataframe thead th {\n",
              "        text-align: right;\n",
              "    }\n",
              "</style>\n",
              "<table border=\"1\" class=\"dataframe\">\n",
              "  <thead>\n",
              "    <tr style=\"text-align: right;\">\n",
              "      <th></th>\n",
              "      <th>CustomerID</th>\n",
              "      <th>InvoiceYearMonth</th>\n",
              "      <th>Revenue</th>\n",
              "    </tr>\n",
              "  </thead>\n",
              "  <tbody>\n",
              "    <tr>\n",
              "      <th>0</th>\n",
              "      <td>12346.0</td>\n",
              "      <td>201101</td>\n",
              "      <td>0.00</td>\n",
              "    </tr>\n",
              "    <tr>\n",
              "      <th>1</th>\n",
              "      <td>12747.0</td>\n",
              "      <td>201012</td>\n",
              "      <td>706.27</td>\n",
              "    </tr>\n",
              "    <tr>\n",
              "      <th>2</th>\n",
              "      <td>12747.0</td>\n",
              "      <td>201101</td>\n",
              "      <td>303.04</td>\n",
              "    </tr>\n",
              "    <tr>\n",
              "      <th>3</th>\n",
              "      <td>12747.0</td>\n",
              "      <td>201103</td>\n",
              "      <td>310.78</td>\n",
              "    </tr>\n",
              "    <tr>\n",
              "      <th>4</th>\n",
              "      <td>12747.0</td>\n",
              "      <td>201105</td>\n",
              "      <td>771.31</td>\n",
              "    </tr>\n",
              "  </tbody>\n",
              "</table>\n",
              "</div>"
            ],
            "text/plain": [
              "   CustomerID  InvoiceYearMonth  Revenue\n",
              "0     12346.0            201101     0.00\n",
              "1     12747.0            201012   706.27\n",
              "2     12747.0            201101   303.04\n",
              "3     12747.0            201103   310.78\n",
              "4     12747.0            201105   771.31"
            ]
          },
          "execution_count": 41,
          "metadata": {},
          "output_type": "execute_result"
        }
      ],
      "source": [
        "user_purchase.head()"
      ]
    },
    {
      "cell_type": "code",
      "execution_count": null,
      "id": "-H8_3448rytF",
      "metadata": {
        "colab": {
          "base_uri": "https://localhost:8080/",
          "height": 206
        },
        "hidden": true,
        "id": "-H8_3448rytF",
        "outputId": "43e448c7-4591-4a76-a2a4-2b5733e63c4c"
      },
      "outputs": [
        {
          "data": {
            "text/html": [
              "<div>\n",
              "<style scoped>\n",
              "    .dataframe tbody tr th:only-of-type {\n",
              "        vertical-align: middle;\n",
              "    }\n",
              "\n",
              "    .dataframe tbody tr th {\n",
              "        vertical-align: top;\n",
              "    }\n",
              "\n",
              "    .dataframe thead th {\n",
              "        text-align: right;\n",
              "    }\n",
              "</style>\n",
              "<table border=\"1\" class=\"dataframe\">\n",
              "  <thead>\n",
              "    <tr style=\"text-align: right;\">\n",
              "      <th>InvoiceYearMonth</th>\n",
              "      <th>CustomerID</th>\n",
              "      <th>201012</th>\n",
              "      <th>201101</th>\n",
              "      <th>201102</th>\n",
              "      <th>201103</th>\n",
              "      <th>201104</th>\n",
              "      <th>201105</th>\n",
              "      <th>201106</th>\n",
              "      <th>201107</th>\n",
              "      <th>201108</th>\n",
              "      <th>201109</th>\n",
              "      <th>201110</th>\n",
              "      <th>201111</th>\n",
              "      <th>201112</th>\n",
              "    </tr>\n",
              "  </thead>\n",
              "  <tbody>\n",
              "    <tr>\n",
              "      <th>0</th>\n",
              "      <td>12346.0</td>\n",
              "      <td>0</td>\n",
              "      <td>1</td>\n",
              "      <td>0</td>\n",
              "      <td>0</td>\n",
              "      <td>0</td>\n",
              "      <td>0</td>\n",
              "      <td>0</td>\n",
              "      <td>0</td>\n",
              "      <td>0</td>\n",
              "      <td>0</td>\n",
              "      <td>0</td>\n",
              "      <td>0</td>\n",
              "      <td>0</td>\n",
              "    </tr>\n",
              "    <tr>\n",
              "      <th>1</th>\n",
              "      <td>12747.0</td>\n",
              "      <td>1</td>\n",
              "      <td>1</td>\n",
              "      <td>0</td>\n",
              "      <td>1</td>\n",
              "      <td>0</td>\n",
              "      <td>1</td>\n",
              "      <td>1</td>\n",
              "      <td>0</td>\n",
              "      <td>1</td>\n",
              "      <td>0</td>\n",
              "      <td>1</td>\n",
              "      <td>1</td>\n",
              "      <td>1</td>\n",
              "    </tr>\n",
              "    <tr>\n",
              "      <th>2</th>\n",
              "      <td>12748.0</td>\n",
              "      <td>1</td>\n",
              "      <td>1</td>\n",
              "      <td>1</td>\n",
              "      <td>1</td>\n",
              "      <td>1</td>\n",
              "      <td>1</td>\n",
              "      <td>1</td>\n",
              "      <td>1</td>\n",
              "      <td>1</td>\n",
              "      <td>1</td>\n",
              "      <td>1</td>\n",
              "      <td>1</td>\n",
              "      <td>1</td>\n",
              "    </tr>\n",
              "    <tr>\n",
              "      <th>3</th>\n",
              "      <td>12749.0</td>\n",
              "      <td>0</td>\n",
              "      <td>0</td>\n",
              "      <td>0</td>\n",
              "      <td>0</td>\n",
              "      <td>0</td>\n",
              "      <td>1</td>\n",
              "      <td>0</td>\n",
              "      <td>0</td>\n",
              "      <td>1</td>\n",
              "      <td>0</td>\n",
              "      <td>0</td>\n",
              "      <td>1</td>\n",
              "      <td>1</td>\n",
              "    </tr>\n",
              "    <tr>\n",
              "      <th>4</th>\n",
              "      <td>12820.0</td>\n",
              "      <td>0</td>\n",
              "      <td>1</td>\n",
              "      <td>0</td>\n",
              "      <td>0</td>\n",
              "      <td>0</td>\n",
              "      <td>0</td>\n",
              "      <td>0</td>\n",
              "      <td>0</td>\n",
              "      <td>0</td>\n",
              "      <td>1</td>\n",
              "      <td>1</td>\n",
              "      <td>0</td>\n",
              "      <td>1</td>\n",
              "    </tr>\n",
              "  </tbody>\n",
              "</table>\n",
              "</div>"
            ],
            "text/plain": [
              "InvoiceYearMonth  CustomerID  201012  201101  ...  201110  201111  201112\n",
              "0                    12346.0       0       1  ...       0       0       0\n",
              "1                    12747.0       1       1  ...       1       1       1\n",
              "2                    12748.0       1       1  ...       1       1       1\n",
              "3                    12749.0       0       0  ...       0       1       1\n",
              "4                    12820.0       0       1  ...       1       0       1\n",
              "\n",
              "[5 rows x 14 columns]"
            ]
          },
          "execution_count": 42,
          "metadata": {},
          "output_type": "execute_result"
        }
      ],
      "source": [
        "#create retention matrix\n",
        "retention = pd.pivot_table(data=user_purchase,\n",
        "                           index='CustomerID',\n",
        "                           columns='InvoiceYearMonth',\n",
        "                           values='Revenue',\n",
        "                           aggfunc='count',\n",
        "                           fill_value=0).reset_index()\n",
        "\n",
        "retention.head()"
      ]
    },
    {
      "cell_type": "code",
      "execution_count": null,
      "id": "tXhC3IWlr2RU",
      "metadata": {
        "colab": {
          "base_uri": "https://localhost:8080/"
        },
        "id": "tXhC3IWlr2RU",
        "outputId": "e3eeecda-d526-4b47-d569-cfa92508eb82"
      },
      "outputs": [
        {
          "data": {
            "text/plain": [
              "Index([201012, 201101, 201102, 201103, 201104, 201105, 201106, 201107, 201108,\n",
              "       201109, 201110, 201111],\n",
              "      dtype='object', name='InvoiceYearMonth')"
            ]
          },
          "execution_count": 43,
          "metadata": {},
          "output_type": "execute_result"
        }
      ],
      "source": [
        "months = retention.columns[1:-1] # skip the last month\n",
        "months"
      ]
    },
    {
      "cell_type": "markdown",
      "id": "gDKGWi3H82tU",
      "metadata": {
        "id": "gDKGWi3H82tU"
      },
      "source": [
        "**Step 2**: Create an array of dictionary which keeps Retained & Total User count for each month\n"
      ]
    },
    {
      "cell_type": "code",
      "execution_count": null,
      "id": "WaHw3bcarytG",
      "metadata": {
        "hidden": true,
        "id": "WaHw3bcarytG"
      },
      "outputs": [],
      "source": [
        "#create an array of dictionary which keeps Retained & Total User count for each month\n",
        "months = retention.columns[1:-1] # skip the first and last month\n",
        "\n",
        "retention_list = []\n",
        "for i in range(len(months)-1):\n",
        "    retention_data = {}\n",
        "    selected_month = months[i+1]\n",
        "    prev_month = months[i]\n",
        "    retention_data['InvoiceYearMonth'] = selected_month\n",
        "    retention_data['TotalUserCount'] = retention[selected_month].sum()\n",
        "    retention_data['RetainedUserCount'] = retention.loc[(retention[selected_month]>0) & (retention[prev_month]>0),selected_month].sum()\n",
        "    retention_list.append(retention_data)"
      ]
    },
    {
      "cell_type": "code",
      "execution_count": null,
      "id": "niVoVfn6rytG",
      "metadata": {
        "hidden": true,
        "id": "niVoVfn6rytG"
      },
      "outputs": [],
      "source": [
        "retention_df= pd.DataFrame(retention_list)\n",
        "retention_df['RetentionRate'] = retention_df['RetainedUserCount']/retention_df['TotalUserCount']"
      ]
    },
    {
      "cell_type": "code",
      "execution_count": null,
      "id": "cm1y5FD3uCp4",
      "metadata": {
        "colab": {
          "base_uri": "https://localhost:8080/",
          "height": 394
        },
        "id": "cm1y5FD3uCp4",
        "outputId": "bbb50547-13c5-4f08-bca0-4c643f135f03"
      },
      "outputs": [
        {
          "data": {
            "text/html": [
              "<div>\n",
              "<style scoped>\n",
              "    .dataframe tbody tr th:only-of-type {\n",
              "        vertical-align: middle;\n",
              "    }\n",
              "\n",
              "    .dataframe tbody tr th {\n",
              "        vertical-align: top;\n",
              "    }\n",
              "\n",
              "    .dataframe thead th {\n",
              "        text-align: right;\n",
              "    }\n",
              "</style>\n",
              "<table border=\"1\" class=\"dataframe\">\n",
              "  <thead>\n",
              "    <tr style=\"text-align: right;\">\n",
              "      <th></th>\n",
              "      <th>InvoiceYearMonth</th>\n",
              "      <th>TotalUserCount</th>\n",
              "      <th>RetainedUserCount</th>\n",
              "      <th>RetentionRate</th>\n",
              "    </tr>\n",
              "  </thead>\n",
              "  <tbody>\n",
              "    <tr>\n",
              "      <th>0</th>\n",
              "      <td>201101</td>\n",
              "      <td>684</td>\n",
              "      <td>322</td>\n",
              "      <td>0.470760</td>\n",
              "    </tr>\n",
              "    <tr>\n",
              "      <th>1</th>\n",
              "      <td>201102</td>\n",
              "      <td>714</td>\n",
              "      <td>263</td>\n",
              "      <td>0.368347</td>\n",
              "    </tr>\n",
              "    <tr>\n",
              "      <th>2</th>\n",
              "      <td>201103</td>\n",
              "      <td>923</td>\n",
              "      <td>305</td>\n",
              "      <td>0.330444</td>\n",
              "    </tr>\n",
              "    <tr>\n",
              "      <th>3</th>\n",
              "      <td>201104</td>\n",
              "      <td>817</td>\n",
              "      <td>310</td>\n",
              "      <td>0.379437</td>\n",
              "    </tr>\n",
              "    <tr>\n",
              "      <th>4</th>\n",
              "      <td>201105</td>\n",
              "      <td>985</td>\n",
              "      <td>369</td>\n",
              "      <td>0.374619</td>\n",
              "    </tr>\n",
              "    <tr>\n",
              "      <th>5</th>\n",
              "      <td>201106</td>\n",
              "      <td>943</td>\n",
              "      <td>417</td>\n",
              "      <td>0.442206</td>\n",
              "    </tr>\n",
              "    <tr>\n",
              "      <th>6</th>\n",
              "      <td>201107</td>\n",
              "      <td>899</td>\n",
              "      <td>379</td>\n",
              "      <td>0.421580</td>\n",
              "    </tr>\n",
              "    <tr>\n",
              "      <th>7</th>\n",
              "      <td>201108</td>\n",
              "      <td>867</td>\n",
              "      <td>391</td>\n",
              "      <td>0.450980</td>\n",
              "    </tr>\n",
              "    <tr>\n",
              "      <th>8</th>\n",
              "      <td>201109</td>\n",
              "      <td>1177</td>\n",
              "      <td>417</td>\n",
              "      <td>0.354291</td>\n",
              "    </tr>\n",
              "    <tr>\n",
              "      <th>9</th>\n",
              "      <td>201110</td>\n",
              "      <td>1285</td>\n",
              "      <td>502</td>\n",
              "      <td>0.390661</td>\n",
              "    </tr>\n",
              "    <tr>\n",
              "      <th>10</th>\n",
              "      <td>201111</td>\n",
              "      <td>1548</td>\n",
              "      <td>616</td>\n",
              "      <td>0.397933</td>\n",
              "    </tr>\n",
              "  </tbody>\n",
              "</table>\n",
              "</div>"
            ],
            "text/plain": [
              "    InvoiceYearMonth  TotalUserCount  RetainedUserCount  RetentionRate\n",
              "0             201101             684                322       0.470760\n",
              "1             201102             714                263       0.368347\n",
              "2             201103             923                305       0.330444\n",
              "3             201104             817                310       0.379437\n",
              "4             201105             985                369       0.374619\n",
              "5             201106             943                417       0.442206\n",
              "6             201107             899                379       0.421580\n",
              "7             201108             867                391       0.450980\n",
              "8             201109            1177                417       0.354291\n",
              "9             201110            1285                502       0.390661\n",
              "10            201111            1548                616       0.397933"
            ]
          },
          "execution_count": 46,
          "metadata": {},
          "output_type": "execute_result"
        }
      ],
      "source": [
        "retention_df"
      ]
    },
    {
      "cell_type": "markdown",
      "id": "_pQ1Tkc9rytH",
      "metadata": {
        "hidden": true,
        "id": "_pQ1Tkc9rytH"
      },
      "source": [
        "Plot Retention rate vs month"
      ]
    },
    {
      "cell_type": "code",
      "execution_count": null,
      "id": "2_9kVoH-rytH",
      "metadata": {
        "colab": {
          "base_uri": "https://localhost:8080/",
          "height": 356
        },
        "hidden": true,
        "id": "2_9kVoH-rytH",
        "outputId": "56552a8f-e248-4682-fbf9-3e89cd4b9372"
      },
      "outputs": [
        {
          "data": {
            "text/plain": [
              "<matplotlib.axes._subplots.AxesSubplot at 0x7ff3ea587b90>"
            ]
          },
          "execution_count": 47,
          "metadata": {},
          "output_type": "execute_result"
        },
        {
          "data": {
            "image/png": "[encoded data removed]",
            "text/plain": [
              "<Figure size 720x360 with 1 Axes>"
            ]
          },
          "metadata": {},
          "output_type": "display_data"
        }
      ],
      "source": [
        "retention_df.InvoiceYearMonth = retention_df.InvoiceYearMonth.map(str)\n",
        "plt.figure(figsize=(10,5))\n",
        "sns.lineplot(data=retention_df,x='InvoiceYearMonth',y='RetentionRate')"
      ]
    },
    {
      "cell_type": "markdown",
      "id": "KhQks9tirytH",
      "metadata": {
        "hidden": true,
        "id": "KhQks9tirytH"
      },
      "source": [
        "Monthly Retention Rate significantly jumped from June to August and went back to previous levels afterwards. You might want to dig deep into September 2011 as there is a massive drop (45% down to 35%)"
      ]
    },
    {
      "cell_type": "markdown",
      "id": "B85-1A5PrytH",
      "metadata": {
        "id": "B85-1A5PrytH"
      },
      "source": [
        "# Customer Segmentation"
      ]
    },
    {
      "cell_type": "code",
      "execution_count": null,
      "id": "d8c41d57",
      "metadata": {
        "cellView": "form",
        "colab": {
          "base_uri": "https://localhost:8080/",
          "height": 170,
          "referenced_widgets": [
            "bd5901fe978a449eb6248350cfbb999b",
            "67b37f32cd6f4dc7b4d799b1e1c0413c",
            "dfd4103ca538413c97da79bf692bee3f",
            "d7b524e940494c50abb956e32d434d70",
            "5f80e3e9d94543f0a59e9a07f5c3ff0e",
            "12199cd4749e48c58b60b66a89fa0b12",
            "a1732aaa5de64160ad4dad6fc5a27894",
            "a25ca9c6890247e9adda49c1cdb12d23",
            "32472916f8784028b2d1912aa2c00c81",
            "7904b40fe2db489c81bf5eab8c6135eb",
            "a727b7613d0f4a89889893407fc54dd0",
            "7ec2776f932648f2b750f81c0c8e2774",
            "ed84be58ec73446da83bc69e582d8263"
          ]
        },
        "id": "d8c41d57",
        "outputId": "4c0fc3f2-a4cc-4fa2-fbf8-302e9d942fcb"
      },
      "outputs": [
        {
          "data": {
            "text/markdown": [
              "Your answer :"
            ],
            "text/plain": [
              "<IPython.core.display.Markdown object>"
            ]
          },
          "metadata": {},
          "output_type": "display_data"
        },
        {
          "data": {
            "application/vnd.jupyter.widget-view+json": {
              "model_id": "bd5901fe978a449eb6248350cfbb999b",
              "version_major": 2,
              "version_minor": 0
            },
            "text/plain": [
              "SelectMultiple(description='Your answer:', options=('A', 'B', 'C'), value=())"
            ]
          },
          "metadata": {},
          "output_type": "display_data"
        },
        {
          "data": {
            "application/vnd.jupyter.widget-view+json": {
              "model_id": "d7b524e940494c50abb956e32d434d70",
              "version_major": 2,
              "version_minor": 0
            },
            "text/plain": [
              "HBox(children=(Button(button_style='success', description='Submit', icon='paper-plane', style=ButtonStyle(), t…"
            ]
          },
          "metadata": {},
          "output_type": "display_data"
        },
        {
          "data": {
            "application/vnd.jupyter.widget-view+json": {
              "model_id": "7ec2776f932648f2b750f81c0c8e2774",
              "version_major": 2,
              "version_minor": 0
            },
            "text/plain": [
              "Output()"
            ]
          },
          "metadata": {},
          "output_type": "display_data"
        }
      ],
      "source": [
        "#@title Run this to start question 1\n",
        "\n",
        "submission.generate_question(0, globals(), height='100px')"
      ]
    },
    {
      "cell_type": "markdown",
      "id": "sNQLTKwTrytI",
      "metadata": {
        "id": "sNQLTKwTrytI"
      },
      "source": [
        "Why we do segmentation?\n",
        "\n",
        "**Because you can’t treat every customer the same way with the same content, same channel, same importance. They will find another option which understands them better.**\n",
        "\n",
        "Customers who use your platform have **different needs** and they have **their own different profile.**"
      ]
    },
    {
      "cell_type": "markdown",
      "id": "7u4We3_XrytI",
      "metadata": {
        "id": "7u4We3_XrytI"
      },
      "source": [
        "You can do many different segmentations according to what you are trying to achieve. If you want to increase retention rate, you can do a segmentation based on churn probability and take actions. \n",
        "\n",
        "**There are some common and useful segmentation methods as well. We are going to implement one of them to our business: RFM.**"
      ]
    },
    {
      "cell_type": "markdown",
      "id": "Ap3q-50JrytI",
      "metadata": {
        "id": "Ap3q-50JrytI"
      },
      "source": [
        "**RFM stands for Recency - Frequency - Monetary Value.**\n",
        "\n",
        "RFM analysis numerically ranks a customer in each of these three categories, generally on a scale of 1 to 5 (the higher the number, the better the result). The \"best\" customer would receive a top score in every category."
      ]
    },
    {
      "cell_type": "markdown",
      "id": "GT9ySeC6rytJ",
      "metadata": {
        "id": "GT9ySeC6rytJ"
      },
      "source": [
        "Theoretically we will have segments like below:\n",
        "\n",
        "- **Low Values**: Customers who are less active than others, not very frequent buyer/visitor and generates very low or zero net revenue.\n",
        "- **Mid Values**: In the middle of everything. Using our platform oftently (but not as much as our High Values), fairly frequent and generates moderate revenue.\n",
        "- **High Values**: The group we don’t want to lose. High Revenue, Frequency and low Inactivity."
      ]
    },
    {
      "cell_type": "markdown",
      "id": "4IOze-8mrytJ",
      "metadata": {
        "id": "4IOze-8mrytJ"
      },
      "source": [
        "## Recency"
      ]
    },
    {
      "cell_type": "markdown",
      "id": "MmKjuGQSrytJ",
      "metadata": {
        "id": "MmKjuGQSrytJ"
      },
      "source": [
        "**How can we calculate Recency in this dataset**\n",
        "- Find out most recent purchase date of each customer and **see how many days they are inactive for**\n",
        "- After having number of inactive days for each customer, **we will apply K-means clustering to assign customers a recency score.**"
      ]
    },
    {
      "cell_type": "markdown",
      "id": "8tZHs84IrytJ",
      "metadata": {
        "id": "8tZHs84IrytJ"
      },
      "source": [
        "**Why do we need this**\n",
        "\n",
        "- The more recently a customer has made a purchase with a company, the more likely he or she will continue to keep the business and brand in mind for subsequent purchases\n",
        "- Such information can be used to remind recent customers to revisit the business soon to continue meeting their purchase needs. Marketing efforts could be made to remind them that it has been a while since their last transaction while offering them an incentive to rekindle their interests."
      ]
    },
    {
      "cell_type": "markdown",
      "id": "WATZnZFB-3E0",
      "metadata": {
        "id": "WATZnZFB-3E0"
      },
      "source": [
        "Steps:\n",
        "1. Find the latest InvoiceDate for each Customer\n",
        "2. Find the differences between the latest date of our entire dataset and the latest InvoiceDate for each customer. This will be the Recency"
      ]
    },
    {
      "cell_type": "code",
      "execution_count": null,
      "id": "CF_jwQZGE8KP",
      "metadata": {
        "id": "CF_jwQZGE8KP"
      },
      "outputs": [],
      "source": [
        "recency = new_df[['CustomerID','InvoiceDate']].groupby('CustomerID').max()"
      ]
    },
    {
      "cell_type": "code",
      "execution_count": null,
      "id": "WhRaW1D4tlda",
      "metadata": {
        "colab": {
          "base_uri": "https://localhost:8080/",
          "height": 455
        },
        "id": "WhRaW1D4tlda",
        "outputId": "adc69b5a-55ae-4d1f-8156-2da8c5f6b5a1"
      },
      "outputs": [
        {
          "data": {
            "text/html": [
              "<div>\n",
              "<style scoped>\n",
              "    .dataframe tbody tr th:only-of-type {\n",
              "        vertical-align: middle;\n",
              "    }\n",
              "\n",
              "    .dataframe tbody tr th {\n",
              "        vertical-align: top;\n",
              "    }\n",
              "\n",
              "    .dataframe thead th {\n",
              "        text-align: right;\n",
              "    }\n",
              "</style>\n",
              "<table border=\"1\" class=\"dataframe\">\n",
              "  <thead>\n",
              "    <tr style=\"text-align: right;\">\n",
              "      <th></th>\n",
              "      <th>InvoiceDate</th>\n",
              "    </tr>\n",
              "    <tr>\n",
              "      <th>CustomerID</th>\n",
              "      <th></th>\n",
              "    </tr>\n",
              "  </thead>\n",
              "  <tbody>\n",
              "    <tr>\n",
              "      <th>12346.0</th>\n",
              "      <td>2011-01-18 10:17:00</td>\n",
              "    </tr>\n",
              "    <tr>\n",
              "      <th>12747.0</th>\n",
              "      <td>2011-12-07 14:34:00</td>\n",
              "    </tr>\n",
              "    <tr>\n",
              "      <th>12748.0</th>\n",
              "      <td>2011-12-09 12:20:00</td>\n",
              "    </tr>\n",
              "    <tr>\n",
              "      <th>12749.0</th>\n",
              "      <td>2011-12-06 09:56:00</td>\n",
              "    </tr>\n",
              "    <tr>\n",
              "      <th>12820.0</th>\n",
              "      <td>2011-12-06 15:12:00</td>\n",
              "    </tr>\n",
              "    <tr>\n",
              "      <th>...</th>\n",
              "      <td>...</td>\n",
              "    </tr>\n",
              "    <tr>\n",
              "      <th>18280.0</th>\n",
              "      <td>2011-03-07 09:52:00</td>\n",
              "    </tr>\n",
              "    <tr>\n",
              "      <th>18281.0</th>\n",
              "      <td>2011-06-12 10:53:00</td>\n",
              "    </tr>\n",
              "    <tr>\n",
              "      <th>18282.0</th>\n",
              "      <td>2011-12-02 11:43:00</td>\n",
              "    </tr>\n",
              "    <tr>\n",
              "      <th>18283.0</th>\n",
              "      <td>2011-12-06 12:02:00</td>\n",
              "    </tr>\n",
              "    <tr>\n",
              "      <th>18287.0</th>\n",
              "      <td>2011-10-28 09:29:00</td>\n",
              "    </tr>\n",
              "  </tbody>\n",
              "</table>\n",
              "<p>3950 rows × 1 columns</p>\n",
              "</div>"
            ],
            "text/plain": [
              "                   InvoiceDate\n",
              "CustomerID                    \n",
              "12346.0    2011-01-18 10:17:00\n",
              "12747.0    2011-12-07 14:34:00\n",
              "12748.0    2011-12-09 12:20:00\n",
              "12749.0    2011-12-06 09:56:00\n",
              "12820.0    2011-12-06 15:12:00\n",
              "...                        ...\n",
              "18280.0    2011-03-07 09:52:00\n",
              "18281.0    2011-06-12 10:53:00\n",
              "18282.0    2011-12-02 11:43:00\n",
              "18283.0    2011-12-06 12:02:00\n",
              "18287.0    2011-10-28 09:29:00\n",
              "\n",
              "[3950 rows x 1 columns]"
            ]
          },
          "execution_count": 51,
          "metadata": {},
          "output_type": "execute_result"
        }
      ],
      "source": [
        "recency"
      ]
    },
    {
      "cell_type": "code",
      "execution_count": null,
      "id": "ucLDIkkiIhq-",
      "metadata": {
        "id": "ucLDIkkiIhq-"
      },
      "outputs": [],
      "source": [
        "recency['Recency']=(new_df['InvoiceDate'].max() - recency.InvoiceDate).dt.days"
      ]
    },
    {
      "cell_type": "code",
      "execution_count": null,
      "id": "QpkFz964K899",
      "metadata": {
        "id": "QpkFz964K899"
      },
      "outputs": [],
      "source": [
        "recency=recency.reset_index()"
      ]
    },
    {
      "cell_type": "code",
      "execution_count": null,
      "id": "wqYsrH5ZTO1d",
      "metadata": {
        "colab": {
          "base_uri": "https://localhost:8080/",
          "height": 206
        },
        "id": "wqYsrH5ZTO1d",
        "outputId": "73e79d7c-f28e-4874-9007-2cdb6ac78361"
      },
      "outputs": [
        {
          "data": {
            "text/html": [
              "<div>\n",
              "<style scoped>\n",
              "    .dataframe tbody tr th:only-of-type {\n",
              "        vertical-align: middle;\n",
              "    }\n",
              "\n",
              "    .dataframe tbody tr th {\n",
              "        vertical-align: top;\n",
              "    }\n",
              "\n",
              "    .dataframe thead th {\n",
              "        text-align: right;\n",
              "    }\n",
              "</style>\n",
              "<table border=\"1\" class=\"dataframe\">\n",
              "  <thead>\n",
              "    <tr style=\"text-align: right;\">\n",
              "      <th></th>\n",
              "      <th>CustomerID</th>\n",
              "      <th>InvoiceDate</th>\n",
              "      <th>Recency</th>\n",
              "    </tr>\n",
              "  </thead>\n",
              "  <tbody>\n",
              "    <tr>\n",
              "      <th>0</th>\n",
              "      <td>12346.0</td>\n",
              "      <td>2011-01-18 10:17:00</td>\n",
              "      <td>325</td>\n",
              "    </tr>\n",
              "    <tr>\n",
              "      <th>1</th>\n",
              "      <td>12747.0</td>\n",
              "      <td>2011-12-07 14:34:00</td>\n",
              "      <td>1</td>\n",
              "    </tr>\n",
              "    <tr>\n",
              "      <th>2</th>\n",
              "      <td>12748.0</td>\n",
              "      <td>2011-12-09 12:20:00</td>\n",
              "      <td>0</td>\n",
              "    </tr>\n",
              "    <tr>\n",
              "      <th>3</th>\n",
              "      <td>12749.0</td>\n",
              "      <td>2011-12-06 09:56:00</td>\n",
              "      <td>3</td>\n",
              "    </tr>\n",
              "    <tr>\n",
              "      <th>4</th>\n",
              "      <td>12820.0</td>\n",
              "      <td>2011-12-06 15:12:00</td>\n",
              "      <td>2</td>\n",
              "    </tr>\n",
              "  </tbody>\n",
              "</table>\n",
              "</div>"
            ],
            "text/plain": [
              "   CustomerID         InvoiceDate  Recency\n",
              "0     12346.0 2011-01-18 10:17:00      325\n",
              "1     12747.0 2011-12-07 14:34:00        1\n",
              "2     12748.0 2011-12-09 12:20:00        0\n",
              "3     12749.0 2011-12-06 09:56:00        3\n",
              "4     12820.0 2011-12-06 15:12:00        2"
            ]
          },
          "execution_count": 54,
          "metadata": {},
          "output_type": "execute_result"
        }
      ],
      "source": [
        "recency.head()"
      ]
    },
    {
      "cell_type": "code",
      "execution_count": null,
      "id": "ALhyaG3OxHE1",
      "metadata": {
        "id": "ALhyaG3OxHE1"
      },
      "outputs": [],
      "source": [
        "# You should have something like this (I am showing only the first 5 rows)"
      ]
    },
    {
      "cell_type": "code",
      "execution_count": null,
      "id": "d-MsUVWDrytK",
      "metadata": {
        "colab": {
          "base_uri": "https://localhost:8080/",
          "height": 519
        },
        "id": "d-MsUVWDrytK",
        "outputId": "1af3672c-dd2b-41d7-8a97-ac14d957cfd1"
      },
      "outputs": [
        {
          "data": {
            "text/plain": [
              "<matplotlib.axes._subplots.AxesSubplot at 0x7ff3ec527050>"
            ]
          },
          "execution_count": 55,
          "metadata": {},
          "output_type": "execute_result"
        },
        {
          "data": {
            "image/png": "[encoded data removed]",
            "text/plain": [
              "<Figure size 1080x576 with 1 Axes>"
            ]
          },
          "metadata": {},
          "output_type": "display_data"
        }
      ],
      "source": [
        "# You can quickly plot a histogram of Recency to see their distribution\n",
        "plt.figure(figsize=(15,8))\n",
        "sns.histplot(data=recency,x='Recency')"
      ]
    },
    {
      "cell_type": "markdown",
      "id": "EqgieoefrytL",
      "metadata": {
        "id": "EqgieoefrytL"
      },
      "source": [
        "### Apply kmeans on Recency to put users in groups"
      ]
    },
    {
      "cell_type": "markdown",
      "id": "Cr0kikRBrytL",
      "metadata": {
        "id": "Cr0kikRBrytL"
      },
      "source": [
        "Using elbow method to approximate the number of clusters"
      ]
    },
    {
      "cell_type": "code",
      "execution_count": null,
      "id": "XAmFwkoRtQ-_",
      "metadata": {
        "id": "XAmFwkoRtQ-_"
      },
      "outputs": [],
      "source": [
        "from sklearn.cluster import KMeans"
      ]
    },
    {
      "cell_type": "code",
      "execution_count": null,
      "id": "MPT3krFuDUPp",
      "metadata": {
        "id": "MPT3krFuDUPp"
      },
      "outputs": [],
      "source": [
        "recency.drop(columns='InvoiceDate',inplace=True)"
      ]
    },
    {
      "cell_type": "code",
      "execution_count": null,
      "id": "arGWnDtjtAFq",
      "metadata": {
        "colab": {
          "base_uri": "https://localhost:8080/",
          "height": 285
        },
        "id": "arGWnDtjtAFq",
        "outputId": "91b0b3f0-6b63-437a-ebc7-4ae07038c450"
      },
      "outputs": [
        {
          "data": {
            "image/png": "[encoded data removed]",
            "text/plain": [
              "<Figure size 432x288 with 1 Axes>"
            ]
          },
          "metadata": {},
          "output_type": "display_data"
        }
      ],
      "source": [
        "k_values = range(1,10)\n",
        "k_mean_models = [KMeans(n_clusters=k) for k in k_values]\n",
        "scores = [kmean.fit(recency).score(recency) for kmean in k_mean_models]\n",
        "\n",
        "norm_scores = [score/max(scores) for score in scores]\n",
        "\n",
        "plt.plot(k_values,norm_scores)\n",
        "plt.xlabel('k')\n",
        "# plt.xticks(range(1, 10))\n",
        "plt.ylabel('score');"
      ]
    },
    {
      "cell_type": "markdown",
      "id": "uLvtSSzzHqaP",
      "metadata": {
        "id": "uLvtSSzzHqaP"
      },
      "source": [
        "For this LAB we will use K = 4 to help with the diversity of our customer segmentation"
      ]
    },
    {
      "cell_type": "code",
      "execution_count": null,
      "id": "ByqCh7cArytL",
      "metadata": {
        "id": "ByqCh7cArytL"
      },
      "outputs": [],
      "source": [
        "# YOUR CODE HERE\n",
        "kmeans = KMeans(n_clusters=4)\n",
        "kmeans.fit(recency[['Recency']])\n",
        "recency['RecencyCluster'] = kmeans.predict(recency[['Recency']])"
      ]
    },
    {
      "cell_type": "code",
      "execution_count": null,
      "id": "LvcKoOdtrytL",
      "metadata": {
        "colab": {
          "base_uri": "https://localhost:8080/",
          "height": 206
        },
        "id": "LvcKoOdtrytL",
        "outputId": "372d7f05-074f-449f-9d5b-9e5fd568bf85"
      },
      "outputs": [
        {
          "data": {
            "text/html": [
              "<div>\n",
              "<style scoped>\n",
              "    .dataframe tbody tr th:only-of-type {\n",
              "        vertical-align: middle;\n",
              "    }\n",
              "\n",
              "    .dataframe tbody tr th {\n",
              "        vertical-align: top;\n",
              "    }\n",
              "\n",
              "    .dataframe thead th {\n",
              "        text-align: right;\n",
              "    }\n",
              "</style>\n",
              "<table border=\"1\" class=\"dataframe\">\n",
              "  <thead>\n",
              "    <tr style=\"text-align: right;\">\n",
              "      <th></th>\n",
              "      <th>CustomerID</th>\n",
              "      <th>Recency</th>\n",
              "      <th>RecencyCluster</th>\n",
              "    </tr>\n",
              "  </thead>\n",
              "  <tbody>\n",
              "    <tr>\n",
              "      <th>0</th>\n",
              "      <td>12346.0</td>\n",
              "      <td>325</td>\n",
              "      <td>1</td>\n",
              "    </tr>\n",
              "    <tr>\n",
              "      <th>1</th>\n",
              "      <td>12747.0</td>\n",
              "      <td>1</td>\n",
              "      <td>3</td>\n",
              "    </tr>\n",
              "    <tr>\n",
              "      <th>2</th>\n",
              "      <td>12748.0</td>\n",
              "      <td>0</td>\n",
              "      <td>3</td>\n",
              "    </tr>\n",
              "    <tr>\n",
              "      <th>3</th>\n",
              "      <td>12749.0</td>\n",
              "      <td>3</td>\n",
              "      <td>3</td>\n",
              "    </tr>\n",
              "    <tr>\n",
              "      <th>4</th>\n",
              "      <td>12820.0</td>\n",
              "      <td>2</td>\n",
              "      <td>3</td>\n",
              "    </tr>\n",
              "  </tbody>\n",
              "</table>\n",
              "</div>"
            ],
            "text/plain": [
              "   CustomerID  Recency  RecencyCluster\n",
              "0     12346.0      325               1\n",
              "1     12747.0        1               3\n",
              "2     12748.0        0               3\n",
              "3     12749.0        3               3\n",
              "4     12820.0        2               3"
            ]
          },
          "execution_count": 61,
          "metadata": {},
          "output_type": "execute_result"
        }
      ],
      "source": [
        "recency.head()"
      ]
    },
    {
      "cell_type": "code",
      "execution_count": null,
      "id": "L_aSK12I6shR",
      "metadata": {
        "cellView": "form",
        "colab": {
          "base_uri": "https://localhost:8080/",
          "height": 53
        },
        "id": "L_aSK12I6shR",
        "outputId": "d07a48c3-c56d-4229-95a8-ea09d342f9db"
      },
      "outputs": [
        {
          "data": {
            "application/vnd.google.colaboratory.intrinsic+json": {
              "type": "string"
            },
            "text/plain": [
              "'\\nWe have sucessfully cluster our customers. \\nHowever, in order to use the cluster indices to be our Recency Score, we need to rearrange the indices a bit. \\nThe higher the recency, the less the value that customer brings to us, \\nso higher recency should result in a lower score.\\n'"
            ]
          },
          "execution_count": 71,
          "metadata": {},
          "output_type": "execute_result"
        }
      ],
      "source": [
        "#@title Hint\n",
        "\n",
        "'''\n",
        "We have sucessfully cluster our customers. \n",
        "However, in order to use the cluster indices to be our Recency Score, we need to rearrange the indices a bit. \n",
        "The higher the recency, the less the value that customer brings to us, \n",
        "so higher recency should result in a lower score.\n",
        "'''"
      ]
    },
    {
      "cell_type": "markdown",
      "id": "7SO12-fy6yOC",
      "metadata": {
        "id": "7SO12-fy6yOC"
      },
      "source": [
        "We will use the function below for this task (Make sure to set ascending)"
      ]
    },
    {
      "cell_type": "code",
      "execution_count": null,
      "id": "CxMrB8oArytM",
      "metadata": {
        "id": "CxMrB8oArytM"
      },
      "outputs": [],
      "source": [
        "#function for ordering cluster numbers\n",
        "def order_cluster(cluster_field_name, target_field_name,df,ascending):\n",
        "    df_new = df.groupby(cluster_field_name)[target_field_name].mean().reset_index()\n",
        "    df_new = df_new.sort_values(by=target_field_name,ascending=ascending).reset_index(drop=True)\n",
        "    df_new['index'] = df_new.index\n",
        "    df_final = pd.merge(df,df_new[[cluster_field_name,'index']], on=cluster_field_name)\n",
        "    df_final = df_final.drop([cluster_field_name],axis=1)\n",
        "    df_final = df_final.rename(columns={\"index\":cluster_field_name})\n",
        "    return df_final\n",
        "\n",
        "recency = order_cluster('RecencyCluster', 'Recency',recency,False)"
      ]
    },
    {
      "cell_type": "code",
      "execution_count": null,
      "id": "R2sqXeIarytM",
      "metadata": {
        "colab": {
          "base_uri": "https://localhost:8080/",
          "height": 206
        },
        "id": "R2sqXeIarytM",
        "outputId": "8c73f042-b0f1-4c9e-c355-7180618da8e7"
      },
      "outputs": [
        {
          "data": {
            "text/html": [
              "<div>\n",
              "<style scoped>\n",
              "    .dataframe tbody tr th:only-of-type {\n",
              "        vertical-align: middle;\n",
              "    }\n",
              "\n",
              "    .dataframe tbody tr th {\n",
              "        vertical-align: top;\n",
              "    }\n",
              "\n",
              "    .dataframe thead th {\n",
              "        text-align: right;\n",
              "    }\n",
              "</style>\n",
              "<table border=\"1\" class=\"dataframe\">\n",
              "  <thead>\n",
              "    <tr style=\"text-align: right;\">\n",
              "      <th></th>\n",
              "      <th>CustomerID</th>\n",
              "      <th>Recency</th>\n",
              "      <th>RecencyCluster</th>\n",
              "    </tr>\n",
              "  </thead>\n",
              "  <tbody>\n",
              "    <tr>\n",
              "      <th>0</th>\n",
              "      <td>12346.0</td>\n",
              "      <td>325</td>\n",
              "      <td>0</td>\n",
              "    </tr>\n",
              "    <tr>\n",
              "      <th>1</th>\n",
              "      <td>12829.0</td>\n",
              "      <td>321</td>\n",
              "      <td>0</td>\n",
              "    </tr>\n",
              "    <tr>\n",
              "      <th>2</th>\n",
              "      <td>12831.0</td>\n",
              "      <td>261</td>\n",
              "      <td>0</td>\n",
              "    </tr>\n",
              "    <tr>\n",
              "      <th>3</th>\n",
              "      <td>12834.0</td>\n",
              "      <td>282</td>\n",
              "      <td>0</td>\n",
              "    </tr>\n",
              "    <tr>\n",
              "      <th>4</th>\n",
              "      <td>12845.0</td>\n",
              "      <td>266</td>\n",
              "      <td>0</td>\n",
              "    </tr>\n",
              "  </tbody>\n",
              "</table>\n",
              "</div>"
            ],
            "text/plain": [
              "   CustomerID  Recency  RecencyCluster\n",
              "0     12346.0      325               0\n",
              "1     12829.0      321               0\n",
              "2     12831.0      261               0\n",
              "3     12834.0      282               0\n",
              "4     12845.0      266               0"
            ]
          },
          "execution_count": 63,
          "metadata": {},
          "output_type": "execute_result"
        }
      ],
      "source": [
        "recency.head()"
      ]
    },
    {
      "cell_type": "code",
      "execution_count": null,
      "id": "CF1F0wQ1rytM",
      "metadata": {
        "colab": {
          "base_uri": "https://localhost:8080/",
          "height": 206
        },
        "id": "CF1F0wQ1rytM",
        "outputId": "1310b699-c23c-4f97-e219-cfae3fc23d84"
      },
      "outputs": [
        {
          "data": {
            "text/html": [
              "<div>\n",
              "<style scoped>\n",
              "    .dataframe tbody tr th:only-of-type {\n",
              "        vertical-align: middle;\n",
              "    }\n",
              "\n",
              "    .dataframe tbody tr th {\n",
              "        vertical-align: top;\n",
              "    }\n",
              "\n",
              "    .dataframe thead th {\n",
              "        text-align: right;\n",
              "    }\n",
              "</style>\n",
              "<table border=\"1\" class=\"dataframe\">\n",
              "  <thead>\n",
              "    <tr style=\"text-align: right;\">\n",
              "      <th></th>\n",
              "      <th>count</th>\n",
              "      <th>mean</th>\n",
              "      <th>std</th>\n",
              "      <th>min</th>\n",
              "      <th>25%</th>\n",
              "      <th>50%</th>\n",
              "      <th>75%</th>\n",
              "      <th>max</th>\n",
              "    </tr>\n",
              "    <tr>\n",
              "      <th>RecencyCluster</th>\n",
              "      <th></th>\n",
              "      <th></th>\n",
              "      <th></th>\n",
              "      <th></th>\n",
              "      <th></th>\n",
              "      <th></th>\n",
              "      <th></th>\n",
              "      <th></th>\n",
              "    </tr>\n",
              "  </thead>\n",
              "  <tbody>\n",
              "    <tr>\n",
              "      <th>0</th>\n",
              "      <td>478.0</td>\n",
              "      <td>304.393305</td>\n",
              "      <td>41.183489</td>\n",
              "      <td>245.0</td>\n",
              "      <td>266.25</td>\n",
              "      <td>300.0</td>\n",
              "      <td>336.00</td>\n",
              "      <td>373.0</td>\n",
              "    </tr>\n",
              "    <tr>\n",
              "      <th>1</th>\n",
              "      <td>568.0</td>\n",
              "      <td>184.625000</td>\n",
              "      <td>31.753602</td>\n",
              "      <td>132.0</td>\n",
              "      <td>156.75</td>\n",
              "      <td>184.0</td>\n",
              "      <td>211.25</td>\n",
              "      <td>244.0</td>\n",
              "    </tr>\n",
              "    <tr>\n",
              "      <th>2</th>\n",
              "      <td>954.0</td>\n",
              "      <td>77.679245</td>\n",
              "      <td>22.850898</td>\n",
              "      <td>48.0</td>\n",
              "      <td>59.00</td>\n",
              "      <td>72.5</td>\n",
              "      <td>93.00</td>\n",
              "      <td>131.0</td>\n",
              "    </tr>\n",
              "    <tr>\n",
              "      <th>3</th>\n",
              "      <td>1950.0</td>\n",
              "      <td>17.488205</td>\n",
              "      <td>13.237058</td>\n",
              "      <td>0.0</td>\n",
              "      <td>6.00</td>\n",
              "      <td>16.0</td>\n",
              "      <td>28.00</td>\n",
              "      <td>47.0</td>\n",
              "    </tr>\n",
              "  </tbody>\n",
              "</table>\n",
              "</div>"
            ],
            "text/plain": [
              "                 count        mean        std  ...    50%     75%    max\n",
              "RecencyCluster                                 ...                      \n",
              "0                478.0  304.393305  41.183489  ...  300.0  336.00  373.0\n",
              "1                568.0  184.625000  31.753602  ...  184.0  211.25  244.0\n",
              "2                954.0   77.679245  22.850898  ...   72.5   93.00  131.0\n",
              "3               1950.0   17.488205  13.237058  ...   16.0   28.00   47.0\n",
              "\n",
              "[4 rows x 8 columns]"
            ]
          },
          "execution_count": 64,
          "metadata": {},
          "output_type": "execute_result"
        }
      ],
      "source": [
        "recency.groupby('RecencyCluster').Recency.describe()"
      ]
    },
    {
      "cell_type": "markdown",
      "id": "6A09rcgUrytM",
      "metadata": {
        "id": "6A09rcgUrytM"
      },
      "source": [
        "Higher score for Recency = better customers (as their inactive time is low)"
      ]
    },
    {
      "cell_type": "markdown",
      "id": "5_BvccvzrytN",
      "metadata": {
        "id": "5_BvccvzrytN"
      },
      "source": [
        "## Frequency"
      ]
    },
    {
      "cell_type": "markdown",
      "id": "eBtTGsk-rytN",
      "metadata": {
        "id": "eBtTGsk-rytN"
      },
      "source": [
        "**How can we calculate frequency for this dataset**\n",
        "\n",
        "We just need to find total number orders for each customer. "
      ]
    },
    {
      "cell_type": "markdown",
      "id": "DVvZfvNsrytN",
      "metadata": {
        "id": "DVvZfvNsrytN"
      },
      "source": [
        "**Why do we need this**\n",
        "\n",
        "The frequency of a customer’s transactions may be affected by factors such as the type of product, the price point for the purchase, and the need for replenishment or replacement. \n",
        "\n",
        "In order to increase customers' frequency, we can try to predict their purchase cycle, for example when a customer needs to buy new groceries, marketing efforts could be directed towards reminding them to visit the business when items such as eggs or milk have been depleted."
      ]
    },
    {
      "cell_type": "code",
      "execution_count": null,
      "id": "v3ThUgqPrytN",
      "metadata": {
        "id": "v3ThUgqPrytN"
      },
      "outputs": [],
      "source": [
        "# YOUR CODE HERE\n",
        "frequency=new_df[['CustomerID','InvoiceDate']].groupby('CustomerID').count().reset_index()"
      ]
    },
    {
      "cell_type": "code",
      "execution_count": null,
      "id": "KthTXtkOyrBu",
      "metadata": {
        "id": "KthTXtkOyrBu"
      },
      "outputs": [],
      "source": [
        "frequency.rename(columns={'InvoiceDate':'Frequency'},inplace=True)"
      ]
    },
    {
      "cell_type": "code",
      "execution_count": null,
      "id": "PF_BU6exrytN",
      "metadata": {
        "colab": {
          "base_uri": "https://localhost:8080/",
          "height": 206
        },
        "id": "PF_BU6exrytN",
        "outputId": "bbf614c5-133d-49f4-d92e-70651789ac86"
      },
      "outputs": [
        {
          "data": {
            "text/html": [
              "<div>\n",
              "<style scoped>\n",
              "    .dataframe tbody tr th:only-of-type {\n",
              "        vertical-align: middle;\n",
              "    }\n",
              "\n",
              "    .dataframe tbody tr th {\n",
              "        vertical-align: top;\n",
              "    }\n",
              "\n",
              "    .dataframe thead th {\n",
              "        text-align: right;\n",
              "    }\n",
              "</style>\n",
              "<table border=\"1\" class=\"dataframe\">\n",
              "  <thead>\n",
              "    <tr style=\"text-align: right;\">\n",
              "      <th></th>\n",
              "      <th>CustomerID</th>\n",
              "      <th>Frequency</th>\n",
              "    </tr>\n",
              "  </thead>\n",
              "  <tbody>\n",
              "    <tr>\n",
              "      <th>0</th>\n",
              "      <td>12346.0</td>\n",
              "      <td>2</td>\n",
              "    </tr>\n",
              "    <tr>\n",
              "      <th>1</th>\n",
              "      <td>12747.0</td>\n",
              "      <td>103</td>\n",
              "    </tr>\n",
              "    <tr>\n",
              "      <th>2</th>\n",
              "      <td>12748.0</td>\n",
              "      <td>4642</td>\n",
              "    </tr>\n",
              "    <tr>\n",
              "      <th>3</th>\n",
              "      <td>12749.0</td>\n",
              "      <td>231</td>\n",
              "    </tr>\n",
              "    <tr>\n",
              "      <th>4</th>\n",
              "      <td>12820.0</td>\n",
              "      <td>59</td>\n",
              "    </tr>\n",
              "  </tbody>\n",
              "</table>\n",
              "</div>"
            ],
            "text/plain": [
              "   CustomerID  Frequency\n",
              "0     12346.0          2\n",
              "1     12747.0        103\n",
              "2     12748.0       4642\n",
              "3     12749.0        231\n",
              "4     12820.0         59"
            ]
          },
          "execution_count": 67,
          "metadata": {},
          "output_type": "execute_result"
        }
      ],
      "source": [
        "# This is what you should have (first 5 rows)\n",
        "frequency.head()"
      ]
    },
    {
      "cell_type": "code",
      "execution_count": null,
      "id": "FX4auBPQy9dm",
      "metadata": {
        "colab": {
          "base_uri": "https://localhost:8080/",
          "height": 502
        },
        "id": "FX4auBPQy9dm",
        "outputId": "e91405e3-e1c6-4c2e-9895-a88a9a55d3a6"
      },
      "outputs": [
        {
          "data": {
            "image/png": "[encoded data removed]",
            "text/plain": [
              "<Figure size 1080x576 with 1 Axes>"
            ]
          },
          "metadata": {},
          "output_type": "display_data"
        }
      ],
      "source": [
        "plt.figure(figsize=(15,8))\n",
        "sns.histplot(data=frequency[frequency['Frequency']<=500],x='Frequency')\n",
        "plt.xticks=[x for x in range(0,600,100)]"
      ]
    },
    {
      "cell_type": "code",
      "execution_count": null,
      "id": "f-vVmHUyrytN",
      "metadata": {
        "id": "f-vVmHUyrytN"
      },
      "outputs": [],
      "source": [
        "# Plot the histogram on Frequency\n",
        "# YOUR CODE HERE"
      ]
    },
    {
      "cell_type": "markdown",
      "id": "Z7IMRGtVrytO",
      "metadata": {
        "id": "Z7IMRGtVrytO"
      },
      "source": [
        "### Applying kmeans"
      ]
    },
    {
      "cell_type": "markdown",
      "id": "D0c3yWuFH7nL",
      "metadata": {
        "id": "D0c3yWuFH7nL"
      },
      "source": [
        "Used the same K as above to keep the range of score consistent"
      ]
    },
    {
      "cell_type": "code",
      "execution_count": null,
      "id": "PlfKBuiJrytO",
      "metadata": {
        "id": "PlfKBuiJrytO"
      },
      "outputs": [],
      "source": [
        "# YOUR CODE HERE\n",
        "kmeans = KMeans(n_clusters=4)\n",
        "kmeans.fit(frequency[['Frequency']])\n",
        "frequency['FrequencyCluster'] = kmeans.predict(frequency[['Frequency']])"
      ]
    },
    {
      "cell_type": "code",
      "execution_count": null,
      "id": "xGT60EX-Dnq3",
      "metadata": {
        "id": "xGT60EX-Dnq3"
      },
      "outputs": [],
      "source": [
        "#order the frequency cluster\n",
        "frequency = order_cluster('FrequencyCluster', 'Frequency',frequency,True)"
      ]
    },
    {
      "cell_type": "code",
      "execution_count": null,
      "id": "Ji4SfBUcAXBg",
      "metadata": {
        "colab": {
          "base_uri": "https://localhost:8080/",
          "height": 206
        },
        "id": "Ji4SfBUcAXBg",
        "outputId": "390f8e92-be11-42ec-8a48-e6531ebeec3f"
      },
      "outputs": [
        {
          "data": {
            "text/html": [
              "<div>\n",
              "<style scoped>\n",
              "    .dataframe tbody tr th:only-of-type {\n",
              "        vertical-align: middle;\n",
              "    }\n",
              "\n",
              "    .dataframe tbody tr th {\n",
              "        vertical-align: top;\n",
              "    }\n",
              "\n",
              "    .dataframe thead th {\n",
              "        text-align: right;\n",
              "    }\n",
              "</style>\n",
              "<table border=\"1\" class=\"dataframe\">\n",
              "  <thead>\n",
              "    <tr style=\"text-align: right;\">\n",
              "      <th></th>\n",
              "      <th>CustomerID</th>\n",
              "      <th>Frequency</th>\n",
              "      <th>FrequencyCluster</th>\n",
              "    </tr>\n",
              "  </thead>\n",
              "  <tbody>\n",
              "    <tr>\n",
              "      <th>0</th>\n",
              "      <td>12346.0</td>\n",
              "      <td>2</td>\n",
              "      <td>0</td>\n",
              "    </tr>\n",
              "    <tr>\n",
              "      <th>1</th>\n",
              "      <td>12747.0</td>\n",
              "      <td>103</td>\n",
              "      <td>0</td>\n",
              "    </tr>\n",
              "    <tr>\n",
              "      <th>2</th>\n",
              "      <td>12820.0</td>\n",
              "      <td>59</td>\n",
              "      <td>0</td>\n",
              "    </tr>\n",
              "    <tr>\n",
              "      <th>3</th>\n",
              "      <td>12821.0</td>\n",
              "      <td>6</td>\n",
              "      <td>0</td>\n",
              "    </tr>\n",
              "    <tr>\n",
              "      <th>4</th>\n",
              "      <td>12822.0</td>\n",
              "      <td>47</td>\n",
              "      <td>0</td>\n",
              "    </tr>\n",
              "  </tbody>\n",
              "</table>\n",
              "</div>"
            ],
            "text/plain": [
              "   CustomerID  Frequency  FrequencyCluster\n",
              "0     12346.0          2                 0\n",
              "1     12747.0        103                 0\n",
              "2     12820.0         59                 0\n",
              "3     12821.0          6                 0\n",
              "4     12822.0         47                 0"
            ]
          },
          "execution_count": 71,
          "metadata": {},
          "output_type": "execute_result"
        }
      ],
      "source": [
        "frequency.head()"
      ]
    },
    {
      "cell_type": "code",
      "execution_count": null,
      "id": "LdLRHZxErytO",
      "metadata": {
        "colab": {
          "base_uri": "https://localhost:8080/",
          "height": 206
        },
        "id": "LdLRHZxErytO",
        "outputId": "dea36853-6ab3-4a21-8e7f-67c1922248b1"
      },
      "outputs": [
        {
          "data": {
            "text/html": [
              "<div>\n",
              "<style scoped>\n",
              "    .dataframe tbody tr th:only-of-type {\n",
              "        vertical-align: middle;\n",
              "    }\n",
              "\n",
              "    .dataframe tbody tr th {\n",
              "        vertical-align: top;\n",
              "    }\n",
              "\n",
              "    .dataframe thead th {\n",
              "        text-align: right;\n",
              "    }\n",
              "</style>\n",
              "<table border=\"1\" class=\"dataframe\">\n",
              "  <thead>\n",
              "    <tr style=\"text-align: right;\">\n",
              "      <th></th>\n",
              "      <th>count</th>\n",
              "      <th>mean</th>\n",
              "      <th>std</th>\n",
              "      <th>min</th>\n",
              "      <th>25%</th>\n",
              "      <th>50%</th>\n",
              "      <th>75%</th>\n",
              "      <th>max</th>\n",
              "    </tr>\n",
              "    <tr>\n",
              "      <th>FrequencyCluster</th>\n",
              "      <th></th>\n",
              "      <th></th>\n",
              "      <th></th>\n",
              "      <th></th>\n",
              "      <th></th>\n",
              "      <th></th>\n",
              "      <th></th>\n",
              "      <th></th>\n",
              "    </tr>\n",
              "  </thead>\n",
              "  <tbody>\n",
              "    <tr>\n",
              "      <th>0</th>\n",
              "      <td>3496.0</td>\n",
              "      <td>49.525744</td>\n",
              "      <td>44.954212</td>\n",
              "      <td>1.0</td>\n",
              "      <td>15.0</td>\n",
              "      <td>33.0</td>\n",
              "      <td>73.0</td>\n",
              "      <td>190.0</td>\n",
              "    </tr>\n",
              "    <tr>\n",
              "      <th>1</th>\n",
              "      <td>429.0</td>\n",
              "      <td>331.221445</td>\n",
              "      <td>133.856510</td>\n",
              "      <td>191.0</td>\n",
              "      <td>228.0</td>\n",
              "      <td>287.0</td>\n",
              "      <td>399.0</td>\n",
              "      <td>803.0</td>\n",
              "    </tr>\n",
              "    <tr>\n",
              "      <th>2</th>\n",
              "      <td>22.0</td>\n",
              "      <td>1313.136364</td>\n",
              "      <td>505.934524</td>\n",
              "      <td>872.0</td>\n",
              "      <td>988.5</td>\n",
              "      <td>1140.0</td>\n",
              "      <td>1452.0</td>\n",
              "      <td>2782.0</td>\n",
              "    </tr>\n",
              "    <tr>\n",
              "      <th>3</th>\n",
              "      <td>3.0</td>\n",
              "      <td>5917.666667</td>\n",
              "      <td>1805.062418</td>\n",
              "      <td>4642.0</td>\n",
              "      <td>4885.0</td>\n",
              "      <td>5128.0</td>\n",
              "      <td>6555.5</td>\n",
              "      <td>7983.0</td>\n",
              "    </tr>\n",
              "  </tbody>\n",
              "</table>\n",
              "</div>"
            ],
            "text/plain": [
              "                   count         mean          std  ...     50%     75%     max\n",
              "FrequencyCluster                                    ...                        \n",
              "0                 3496.0    49.525744    44.954212  ...    33.0    73.0   190.0\n",
              "1                  429.0   331.221445   133.856510  ...   287.0   399.0   803.0\n",
              "2                   22.0  1313.136364   505.934524  ...  1140.0  1452.0  2782.0\n",
              "3                    3.0  5917.666667  1805.062418  ...  5128.0  6555.5  7983.0\n",
              "\n",
              "[4 rows x 8 columns]"
            ]
          },
          "execution_count": 72,
          "metadata": {},
          "output_type": "execute_result"
        }
      ],
      "source": [
        "#see details of each cluster\n",
        "frequency.groupby('FrequencyCluster').Frequency.describe()"
      ]
    },
    {
      "cell_type": "markdown",
      "id": "fzzCVpF2rytO",
      "metadata": {
        "id": "fzzCVpF2rytO"
      },
      "source": [
        "As the same notation as recency clusters, high frequency number indicates better customers."
      ]
    },
    {
      "cell_type": "markdown",
      "id": "BUs0RyOgrytO",
      "metadata": {
        "id": "BUs0RyOgrytO"
      },
      "source": [
        "## Revenue"
      ]
    },
    {
      "cell_type": "markdown",
      "id": "0St82zwr7ATC",
      "metadata": {
        "id": "0St82zwr7ATC"
      },
      "source": [
        "Revenue shows the intention of customers to spend, or the purchasing power of customers\n",
        "\n",
        "Note: Businesses that focus more on viewership, readership, or surfing-oriented products, could use Engagement parameters instead of Monetary factors. This results in using RFE – a variation of RFM. Also, this Engagement parameter could be defined based on bounce rate, visit duration, number of pages visited, time spent per page, etc."
      ]
    },
    {
      "cell_type": "code",
      "execution_count": null,
      "id": "XkBmvWfLrytP",
      "metadata": {
        "id": "XkBmvWfLrytP"
      },
      "outputs": [],
      "source": [
        "# YOUR CODE HERE\n",
        "revenue=new_df[['CustomerID','Revenue']].groupby('CustomerID').sum().reset_index()"
      ]
    },
    {
      "cell_type": "code",
      "execution_count": null,
      "id": "_tsnnspO1xGf",
      "metadata": {
        "colab": {
          "base_uri": "https://localhost:8080/",
          "height": 206
        },
        "id": "_tsnnspO1xGf",
        "outputId": "ca10ea1b-e76b-4a92-abbe-c9cd241d0c32"
      },
      "outputs": [
        {
          "data": {
            "text/html": [
              "<div>\n",
              "<style scoped>\n",
              "    .dataframe tbody tr th:only-of-type {\n",
              "        vertical-align: middle;\n",
              "    }\n",
              "\n",
              "    .dataframe tbody tr th {\n",
              "        vertical-align: top;\n",
              "    }\n",
              "\n",
              "    .dataframe thead th {\n",
              "        text-align: right;\n",
              "    }\n",
              "</style>\n",
              "<table border=\"1\" class=\"dataframe\">\n",
              "  <thead>\n",
              "    <tr style=\"text-align: right;\">\n",
              "      <th></th>\n",
              "      <th>CustomerID</th>\n",
              "      <th>Revenue</th>\n",
              "    </tr>\n",
              "  </thead>\n",
              "  <tbody>\n",
              "    <tr>\n",
              "      <th>0</th>\n",
              "      <td>12346.0</td>\n",
              "      <td>0.00</td>\n",
              "    </tr>\n",
              "    <tr>\n",
              "      <th>1</th>\n",
              "      <td>12747.0</td>\n",
              "      <td>4196.01</td>\n",
              "    </tr>\n",
              "    <tr>\n",
              "      <th>2</th>\n",
              "      <td>12748.0</td>\n",
              "      <td>29072.10</td>\n",
              "    </tr>\n",
              "    <tr>\n",
              "      <th>3</th>\n",
              "      <td>12749.0</td>\n",
              "      <td>3868.20</td>\n",
              "    </tr>\n",
              "    <tr>\n",
              "      <th>4</th>\n",
              "      <td>12820.0</td>\n",
              "      <td>942.34</td>\n",
              "    </tr>\n",
              "  </tbody>\n",
              "</table>\n",
              "</div>"
            ],
            "text/plain": [
              "   CustomerID   Revenue\n",
              "0     12346.0      0.00\n",
              "1     12747.0   4196.01\n",
              "2     12748.0  29072.10\n",
              "3     12749.0   3868.20\n",
              "4     12820.0    942.34"
            ]
          },
          "execution_count": 74,
          "metadata": {},
          "output_type": "execute_result"
        }
      ],
      "source": [
        "revenue.head()"
      ]
    },
    {
      "cell_type": "code",
      "execution_count": null,
      "id": "JYzNnndvrytP",
      "metadata": {
        "colab": {
          "base_uri": "https://localhost:8080/",
          "height": 206
        },
        "id": "JYzNnndvrytP",
        "outputId": "908c25e0-ddde-4a46-ea54-d76d474fd7dc"
      },
      "outputs": [
        {
          "data": {
            "text/html": [
              "<div>\n",
              "<style scoped>\n",
              "    .dataframe tbody tr th:only-of-type {\n",
              "        vertical-align: middle;\n",
              "    }\n",
              "\n",
              "    .dataframe tbody tr th {\n",
              "        vertical-align: top;\n",
              "    }\n",
              "\n",
              "    .dataframe thead th {\n",
              "        text-align: right;\n",
              "    }\n",
              "</style>\n",
              "<table border=\"1\" class=\"dataframe\">\n",
              "  <thead>\n",
              "    <tr style=\"text-align: right;\">\n",
              "      <th></th>\n",
              "      <th>CustomerID</th>\n",
              "      <th>Revenue</th>\n",
              "    </tr>\n",
              "  </thead>\n",
              "  <tbody>\n",
              "    <tr>\n",
              "      <th>0</th>\n",
              "      <td>12346.0</td>\n",
              "      <td>0.00</td>\n",
              "    </tr>\n",
              "    <tr>\n",
              "      <th>1</th>\n",
              "      <td>12747.0</td>\n",
              "      <td>4196.01</td>\n",
              "    </tr>\n",
              "    <tr>\n",
              "      <th>2</th>\n",
              "      <td>12748.0</td>\n",
              "      <td>29072.10</td>\n",
              "    </tr>\n",
              "    <tr>\n",
              "      <th>3</th>\n",
              "      <td>12749.0</td>\n",
              "      <td>3868.20</td>\n",
              "    </tr>\n",
              "    <tr>\n",
              "      <th>4</th>\n",
              "      <td>12820.0</td>\n",
              "      <td>942.34</td>\n",
              "    </tr>\n",
              "  </tbody>\n",
              "</table>\n",
              "</div>"
            ],
            "text/plain": [
              "   CustomerID   Revenue\n",
              "0     12346.0      0.00\n",
              "1     12747.0   4196.01\n",
              "2     12748.0  29072.10\n",
              "3     12749.0   3868.20\n",
              "4     12820.0    942.34"
            ]
          },
          "execution_count": 75,
          "metadata": {},
          "output_type": "execute_result"
        }
      ],
      "source": [
        "# What you should have\n",
        "revenue.head()"
      ]
    },
    {
      "cell_type": "code",
      "execution_count": null,
      "id": "LztUKYizrytP",
      "metadata": {
        "colab": {
          "base_uri": "https://localhost:8080/",
          "height": 519
        },
        "id": "LztUKYizrytP",
        "outputId": "87b567e9-2a92-4570-a450-549bc5e84aba"
      },
      "outputs": [
        {
          "data": {
            "text/plain": [
              "<matplotlib.axes._subplots.AxesSubplot at 0x7ff3e84acf50>"
            ]
          },
          "execution_count": 76,
          "metadata": {},
          "output_type": "execute_result"
        },
        {
          "data": {
            "image/png": "[encoded data removed]",
            "text/plain": [
              "<Figure size 1080x576 with 1 Axes>"
            ]
          },
          "metadata": {},
          "output_type": "display_data"
        }
      ],
      "source": [
        "# plot histogram for Revenue\n",
        "plt.figure(figsize=(15,8))\n",
        "sns.histplot(data=revenue[revenue['Revenue']<5000],x='Revenue')\n",
        "# YOUR CODE HERE"
      ]
    },
    {
      "cell_type": "code",
      "execution_count": null,
      "id": "OYNxOfr2FDOe",
      "metadata": {
        "id": "OYNxOfr2FDOe"
      },
      "outputs": [],
      "source": [
        "# YOUR CODE HERE\n",
        "kmeans =KMeans(n_clusters=4)\n",
        "kmeans.fit(revenue[['Revenue']])\n",
        "revenue['RevenueCluster'] = kmeans.predict(revenue[['Revenue']])"
      ]
    },
    {
      "cell_type": "code",
      "execution_count": null,
      "id": "kl97S1nFFEuo",
      "metadata": {
        "id": "kl97S1nFFEuo"
      },
      "outputs": [],
      "source": [
        "#order the cluster numbers\n",
        "revenue = order_cluster('RevenueCluster', 'Revenue',revenue,True)"
      ]
    },
    {
      "cell_type": "code",
      "execution_count": null,
      "id": "g-qVVDcNrytP",
      "metadata": {
        "colab": {
          "base_uri": "https://localhost:8080/",
          "height": 206
        },
        "id": "g-qVVDcNrytP",
        "outputId": "e5551e98-f9e2-4f1b-8c27-b7c2abb70c86"
      },
      "outputs": [
        {
          "data": {
            "text/html": [
              "<div>\n",
              "<style scoped>\n",
              "    .dataframe tbody tr th:only-of-type {\n",
              "        vertical-align: middle;\n",
              "    }\n",
              "\n",
              "    .dataframe tbody tr th {\n",
              "        vertical-align: top;\n",
              "    }\n",
              "\n",
              "    .dataframe thead th {\n",
              "        text-align: right;\n",
              "    }\n",
              "</style>\n",
              "<table border=\"1\" class=\"dataframe\">\n",
              "  <thead>\n",
              "    <tr style=\"text-align: right;\">\n",
              "      <th></th>\n",
              "      <th>count</th>\n",
              "      <th>mean</th>\n",
              "      <th>std</th>\n",
              "      <th>min</th>\n",
              "      <th>25%</th>\n",
              "      <th>50%</th>\n",
              "      <th>75%</th>\n",
              "      <th>max</th>\n",
              "    </tr>\n",
              "    <tr>\n",
              "      <th>RevenueCluster</th>\n",
              "      <th></th>\n",
              "      <th></th>\n",
              "      <th></th>\n",
              "      <th></th>\n",
              "      <th></th>\n",
              "      <th></th>\n",
              "      <th></th>\n",
              "      <th></th>\n",
              "    </tr>\n",
              "  </thead>\n",
              "  <tbody>\n",
              "    <tr>\n",
              "      <th>0</th>\n",
              "      <td>3687.0</td>\n",
              "      <td>907.254414</td>\n",
              "      <td>921.910820</td>\n",
              "      <td>-4287.63</td>\n",
              "      <td>263.115</td>\n",
              "      <td>572.56</td>\n",
              "      <td>1258.220</td>\n",
              "      <td>4314.72</td>\n",
              "    </tr>\n",
              "    <tr>\n",
              "      <th>1</th>\n",
              "      <td>234.0</td>\n",
              "      <td>7760.699530</td>\n",
              "      <td>3637.173671</td>\n",
              "      <td>4330.67</td>\n",
              "      <td>5161.485</td>\n",
              "      <td>6549.38</td>\n",
              "      <td>9142.305</td>\n",
              "      <td>21535.90</td>\n",
              "    </tr>\n",
              "    <tr>\n",
              "      <th>2</th>\n",
              "      <td>27.0</td>\n",
              "      <td>43070.445185</td>\n",
              "      <td>15939.249588</td>\n",
              "      <td>25748.35</td>\n",
              "      <td>28865.490</td>\n",
              "      <td>36351.42</td>\n",
              "      <td>53489.790</td>\n",
              "      <td>88125.38</td>\n",
              "    </tr>\n",
              "    <tr>\n",
              "      <th>3</th>\n",
              "      <td>2.0</td>\n",
              "      <td>221960.330000</td>\n",
              "      <td>48759.481478</td>\n",
              "      <td>187482.17</td>\n",
              "      <td>204721.250</td>\n",
              "      <td>221960.33</td>\n",
              "      <td>239199.410</td>\n",
              "      <td>256438.49</td>\n",
              "    </tr>\n",
              "  </tbody>\n",
              "</table>\n",
              "</div>"
            ],
            "text/plain": [
              "                 count           mean  ...         75%        max\n",
              "RevenueCluster                         ...                       \n",
              "0               3687.0     907.254414  ...    1258.220    4314.72\n",
              "1                234.0    7760.699530  ...    9142.305   21535.90\n",
              "2                 27.0   43070.445185  ...   53489.790   88125.38\n",
              "3                  2.0  221960.330000  ...  239199.410  256438.49\n",
              "\n",
              "[4 rows x 8 columns]"
            ]
          },
          "execution_count": 79,
          "metadata": {},
          "output_type": "execute_result"
        }
      ],
      "source": [
        "\n",
        "#show details of the dataframe\n",
        "revenue.groupby('RevenueCluster').Revenue.describe()"
      ]
    },
    {
      "cell_type": "markdown",
      "id": "tOZ4fowTrytQ",
      "metadata": {
        "id": "tOZ4fowTrytQ"
      },
      "source": [
        "# Calculate RFM score for each customer"
      ]
    },
    {
      "cell_type": "markdown",
      "id": "YeL2i7mKFdyU",
      "metadata": {
        "id": "YeL2i7mKFdyU"
      },
      "source": [
        "Merge recency, frequency and revenue together using pandas"
      ]
    },
    {
      "cell_type": "code",
      "execution_count": null,
      "id": "hmu_WXwlrytQ",
      "metadata": {
        "id": "hmu_WXwlrytQ"
      },
      "outputs": [],
      "source": [
        "\n",
        "# YOUR CODE HERE\n",
        "final_rfm = pd.merge(recency,frequency,how='left',on='CustomerID')\n",
        "final_rfm = pd.merge(final_rfm,revenue,how='left',on='CustomerID')"
      ]
    },
    {
      "cell_type": "code",
      "execution_count": null,
      "id": "oiuf0RRz6FE_",
      "metadata": {
        "colab": {
          "base_uri": "https://localhost:8080/",
          "height": 206
        },
        "id": "oiuf0RRz6FE_",
        "outputId": "666715fc-9623-4bdd-fc36-b378907ec7f2"
      },
      "outputs": [
        {
          "data": {
            "text/html": [
              "<div>\n",
              "<style scoped>\n",
              "    .dataframe tbody tr th:only-of-type {\n",
              "        vertical-align: middle;\n",
              "    }\n",
              "\n",
              "    .dataframe tbody tr th {\n",
              "        vertical-align: top;\n",
              "    }\n",
              "\n",
              "    .dataframe thead th {\n",
              "        text-align: right;\n",
              "    }\n",
              "</style>\n",
              "<table border=\"1\" class=\"dataframe\">\n",
              "  <thead>\n",
              "    <tr style=\"text-align: right;\">\n",
              "      <th></th>\n",
              "      <th>CustomerID</th>\n",
              "      <th>Recency</th>\n",
              "      <th>RecencyCluster</th>\n",
              "      <th>Frequency</th>\n",
              "      <th>FrequencyCluster</th>\n",
              "      <th>Revenue</th>\n",
              "      <th>RevenueCluster</th>\n",
              "    </tr>\n",
              "  </thead>\n",
              "  <tbody>\n",
              "    <tr>\n",
              "      <th>0</th>\n",
              "      <td>12346.0</td>\n",
              "      <td>325</td>\n",
              "      <td>0</td>\n",
              "      <td>2</td>\n",
              "      <td>0</td>\n",
              "      <td>0.00</td>\n",
              "      <td>0</td>\n",
              "    </tr>\n",
              "    <tr>\n",
              "      <th>1</th>\n",
              "      <td>12829.0</td>\n",
              "      <td>321</td>\n",
              "      <td>0</td>\n",
              "      <td>12</td>\n",
              "      <td>0</td>\n",
              "      <td>253.05</td>\n",
              "      <td>0</td>\n",
              "    </tr>\n",
              "    <tr>\n",
              "      <th>2</th>\n",
              "      <td>12831.0</td>\n",
              "      <td>261</td>\n",
              "      <td>0</td>\n",
              "      <td>9</td>\n",
              "      <td>0</td>\n",
              "      <td>215.05</td>\n",
              "      <td>0</td>\n",
              "    </tr>\n",
              "    <tr>\n",
              "      <th>3</th>\n",
              "      <td>12834.0</td>\n",
              "      <td>282</td>\n",
              "      <td>0</td>\n",
              "      <td>18</td>\n",
              "      <td>0</td>\n",
              "      <td>312.38</td>\n",
              "      <td>0</td>\n",
              "    </tr>\n",
              "    <tr>\n",
              "      <th>4</th>\n",
              "      <td>12845.0</td>\n",
              "      <td>266</td>\n",
              "      <td>0</td>\n",
              "      <td>27</td>\n",
              "      <td>0</td>\n",
              "      <td>354.09</td>\n",
              "      <td>0</td>\n",
              "    </tr>\n",
              "  </tbody>\n",
              "</table>\n",
              "</div>"
            ],
            "text/plain": [
              "   CustomerID  Recency  ...  Revenue  RevenueCluster\n",
              "0     12346.0      325  ...     0.00               0\n",
              "1     12829.0      321  ...   253.05               0\n",
              "2     12831.0      261  ...   215.05               0\n",
              "3     12834.0      282  ...   312.38               0\n",
              "4     12845.0      266  ...   354.09               0\n",
              "\n",
              "[5 rows x 7 columns]"
            ]
          },
          "execution_count": 81,
          "metadata": {},
          "output_type": "execute_result"
        }
      ],
      "source": [
        "final_rfm.head()"
      ]
    },
    {
      "cell_type": "code",
      "execution_count": null,
      "id": "yR9cK69brytQ",
      "metadata": {
        "colab": {
          "base_uri": "https://localhost:8080/",
          "height": 206
        },
        "id": "yR9cK69brytQ",
        "outputId": "2c3dc19f-1861-4bfe-9807-7e772579fe25"
      },
      "outputs": [
        {
          "data": {
            "text/html": [
              "<div>\n",
              "<style scoped>\n",
              "    .dataframe tbody tr th:only-of-type {\n",
              "        vertical-align: middle;\n",
              "    }\n",
              "\n",
              "    .dataframe tbody tr th {\n",
              "        vertical-align: top;\n",
              "    }\n",
              "\n",
              "    .dataframe thead th {\n",
              "        text-align: right;\n",
              "    }\n",
              "</style>\n",
              "<table border=\"1\" class=\"dataframe\">\n",
              "  <thead>\n",
              "    <tr style=\"text-align: right;\">\n",
              "      <th></th>\n",
              "      <th>CustomerID</th>\n",
              "      <th>Recency</th>\n",
              "      <th>RecencyCluster</th>\n",
              "      <th>Frequency</th>\n",
              "      <th>FrequencyCluster</th>\n",
              "      <th>Revenue</th>\n",
              "      <th>RevenueCluster</th>\n",
              "    </tr>\n",
              "  </thead>\n",
              "  <tbody>\n",
              "    <tr>\n",
              "      <th>0</th>\n",
              "      <td>12346.0</td>\n",
              "      <td>325</td>\n",
              "      <td>0</td>\n",
              "      <td>2</td>\n",
              "      <td>0</td>\n",
              "      <td>0.00</td>\n",
              "      <td>0</td>\n",
              "    </tr>\n",
              "    <tr>\n",
              "      <th>1</th>\n",
              "      <td>12829.0</td>\n",
              "      <td>321</td>\n",
              "      <td>0</td>\n",
              "      <td>12</td>\n",
              "      <td>0</td>\n",
              "      <td>253.05</td>\n",
              "      <td>0</td>\n",
              "    </tr>\n",
              "    <tr>\n",
              "      <th>2</th>\n",
              "      <td>12831.0</td>\n",
              "      <td>261</td>\n",
              "      <td>0</td>\n",
              "      <td>9</td>\n",
              "      <td>0</td>\n",
              "      <td>215.05</td>\n",
              "      <td>0</td>\n",
              "    </tr>\n",
              "    <tr>\n",
              "      <th>3</th>\n",
              "      <td>12834.0</td>\n",
              "      <td>282</td>\n",
              "      <td>0</td>\n",
              "      <td>18</td>\n",
              "      <td>0</td>\n",
              "      <td>312.38</td>\n",
              "      <td>0</td>\n",
              "    </tr>\n",
              "    <tr>\n",
              "      <th>4</th>\n",
              "      <td>12845.0</td>\n",
              "      <td>266</td>\n",
              "      <td>0</td>\n",
              "      <td>27</td>\n",
              "      <td>0</td>\n",
              "      <td>354.09</td>\n",
              "      <td>0</td>\n",
              "    </tr>\n",
              "  </tbody>\n",
              "</table>\n",
              "</div>"
            ],
            "text/plain": [
              "   CustomerID  Recency  ...  Revenue  RevenueCluster\n",
              "0     12346.0      325  ...     0.00               0\n",
              "1     12829.0      321  ...   253.05               0\n",
              "2     12831.0      261  ...   215.05               0\n",
              "3     12834.0      282  ...   312.38               0\n",
              "4     12845.0      266  ...   354.09               0\n",
              "\n",
              "[5 rows x 7 columns]"
            ]
          },
          "execution_count": 82,
          "metadata": {},
          "output_type": "execute_result"
        }
      ],
      "source": [
        "final_rfm.head()"
      ]
    },
    {
      "cell_type": "code",
      "execution_count": null,
      "id": "C3k5nJP-rytQ",
      "metadata": {
        "id": "C3k5nJP-rytQ"
      },
      "outputs": [],
      "source": [
        "final_rfm['RFM_score'] = final_rfm.RecencyCluster + final_rfm.FrequencyCluster + final_rfm.RevenueCluster*2"
      ]
    },
    {
      "cell_type": "markdown",
      "id": "ZjvZ77WVIKWq",
      "metadata": {
        "id": "ZjvZ77WVIKWq"
      },
      "source": [
        "Here we value Revenue more than Recency and Frequency, so we give it some weight.\n",
        "\n",
        "This depends of the bussiness goal of the company."
      ]
    },
    {
      "cell_type": "code",
      "execution_count": null,
      "id": "kdZIJ2_kB_Ld",
      "metadata": {
        "colab": {
          "base_uri": "https://localhost:8080/",
          "height": 206
        },
        "id": "kdZIJ2_kB_Ld",
        "outputId": "1584c1fc-a144-4eba-eaca-14d7e2b2de14"
      },
      "outputs": [
        {
          "data": {
            "text/html": [
              "<div>\n",
              "<style scoped>\n",
              "    .dataframe tbody tr th:only-of-type {\n",
              "        vertical-align: middle;\n",
              "    }\n",
              "\n",
              "    .dataframe tbody tr th {\n",
              "        vertical-align: top;\n",
              "    }\n",
              "\n",
              "    .dataframe thead th {\n",
              "        text-align: right;\n",
              "    }\n",
              "</style>\n",
              "<table border=\"1\" class=\"dataframe\">\n",
              "  <thead>\n",
              "    <tr style=\"text-align: right;\">\n",
              "      <th></th>\n",
              "      <th>CustomerID</th>\n",
              "      <th>Recency</th>\n",
              "      <th>RecencyCluster</th>\n",
              "      <th>Frequency</th>\n",
              "      <th>FrequencyCluster</th>\n",
              "      <th>Revenue</th>\n",
              "      <th>RevenueCluster</th>\n",
              "      <th>RFM_score</th>\n",
              "    </tr>\n",
              "  </thead>\n",
              "  <tbody>\n",
              "    <tr>\n",
              "      <th>0</th>\n",
              "      <td>12346.0</td>\n",
              "      <td>325</td>\n",
              "      <td>0</td>\n",
              "      <td>2</td>\n",
              "      <td>0</td>\n",
              "      <td>0.00</td>\n",
              "      <td>0</td>\n",
              "      <td>0</td>\n",
              "    </tr>\n",
              "    <tr>\n",
              "      <th>1</th>\n",
              "      <td>12829.0</td>\n",
              "      <td>321</td>\n",
              "      <td>0</td>\n",
              "      <td>12</td>\n",
              "      <td>0</td>\n",
              "      <td>253.05</td>\n",
              "      <td>0</td>\n",
              "      <td>0</td>\n",
              "    </tr>\n",
              "    <tr>\n",
              "      <th>2</th>\n",
              "      <td>12831.0</td>\n",
              "      <td>261</td>\n",
              "      <td>0</td>\n",
              "      <td>9</td>\n",
              "      <td>0</td>\n",
              "      <td>215.05</td>\n",
              "      <td>0</td>\n",
              "      <td>0</td>\n",
              "    </tr>\n",
              "    <tr>\n",
              "      <th>3</th>\n",
              "      <td>12834.0</td>\n",
              "      <td>282</td>\n",
              "      <td>0</td>\n",
              "      <td>18</td>\n",
              "      <td>0</td>\n",
              "      <td>312.38</td>\n",
              "      <td>0</td>\n",
              "      <td>0</td>\n",
              "    </tr>\n",
              "    <tr>\n",
              "      <th>4</th>\n",
              "      <td>12845.0</td>\n",
              "      <td>266</td>\n",
              "      <td>0</td>\n",
              "      <td>27</td>\n",
              "      <td>0</td>\n",
              "      <td>354.09</td>\n",
              "      <td>0</td>\n",
              "      <td>0</td>\n",
              "    </tr>\n",
              "  </tbody>\n",
              "</table>\n",
              "</div>"
            ],
            "text/plain": [
              "   CustomerID  Recency  RecencyCluster  ...  Revenue  RevenueCluster  RFM_score\n",
              "0     12346.0      325               0  ...     0.00               0          0\n",
              "1     12829.0      321               0  ...   253.05               0          0\n",
              "2     12831.0      261               0  ...   215.05               0          0\n",
              "3     12834.0      282               0  ...   312.38               0          0\n",
              "4     12845.0      266               0  ...   354.09               0          0\n",
              "\n",
              "[5 rows x 8 columns]"
            ]
          },
          "execution_count": 84,
          "metadata": {},
          "output_type": "execute_result"
        }
      ],
      "source": [
        "final_rfm.head()"
      ]
    },
    {
      "cell_type": "code",
      "execution_count": null,
      "id": "liUwRA16rytQ",
      "metadata": {
        "colab": {
          "base_uri": "https://localhost:8080/",
          "height": 426
        },
        "id": "liUwRA16rytQ",
        "outputId": "ffead7f0-17ed-40fa-f9d8-748b3b4d935c"
      },
      "outputs": [
        {
          "data": {
            "text/html": [
              "<div>\n",
              "<style scoped>\n",
              "    .dataframe tbody tr th:only-of-type {\n",
              "        vertical-align: middle;\n",
              "    }\n",
              "\n",
              "    .dataframe tbody tr th {\n",
              "        vertical-align: top;\n",
              "    }\n",
              "\n",
              "    .dataframe thead th {\n",
              "        text-align: right;\n",
              "    }\n",
              "</style>\n",
              "<table border=\"1\" class=\"dataframe\">\n",
              "  <thead>\n",
              "    <tr style=\"text-align: right;\">\n",
              "      <th></th>\n",
              "      <th>Recency</th>\n",
              "      <th>Frequency</th>\n",
              "      <th>Revenue</th>\n",
              "    </tr>\n",
              "    <tr>\n",
              "      <th>RFM_score</th>\n",
              "      <th></th>\n",
              "      <th></th>\n",
              "      <th></th>\n",
              "    </tr>\n",
              "  </thead>\n",
              "  <tbody>\n",
              "    <tr>\n",
              "      <th>0</th>\n",
              "      <td>304.584388</td>\n",
              "      <td>21.995781</td>\n",
              "      <td>303.339705</td>\n",
              "    </tr>\n",
              "    <tr>\n",
              "      <th>1</th>\n",
              "      <td>185.094643</td>\n",
              "      <td>32.310714</td>\n",
              "      <td>478.070770</td>\n",
              "    </tr>\n",
              "    <tr>\n",
              "      <th>2</th>\n",
              "      <td>78.802832</td>\n",
              "      <td>46.834423</td>\n",
              "      <td>840.153336</td>\n",
              "    </tr>\n",
              "    <tr>\n",
              "      <th>3</th>\n",
              "      <td>20.861886</td>\n",
              "      <td>68.438911</td>\n",
              "      <td>1079.151608</td>\n",
              "    </tr>\n",
              "    <tr>\n",
              "      <th>4</th>\n",
              "      <td>16.495868</td>\n",
              "      <td>302.942149</td>\n",
              "      <td>2666.011529</td>\n",
              "    </tr>\n",
              "    <tr>\n",
              "      <th>5</th>\n",
              "      <td>17.238806</td>\n",
              "      <td>154.910448</td>\n",
              "      <td>7469.424776</td>\n",
              "    </tr>\n",
              "    <tr>\n",
              "      <th>6</th>\n",
              "      <td>9.841727</td>\n",
              "      <td>377.985612</td>\n",
              "      <td>7819.577122</td>\n",
              "    </tr>\n",
              "    <tr>\n",
              "      <th>7</th>\n",
              "      <td>7.318182</td>\n",
              "      <td>888.863636</td>\n",
              "      <td>17212.819545</td>\n",
              "    </tr>\n",
              "    <tr>\n",
              "      <th>8</th>\n",
              "      <td>8.083333</td>\n",
              "      <td>403.916667</td>\n",
              "      <td>41205.515833</td>\n",
              "    </tr>\n",
              "    <tr>\n",
              "      <th>9</th>\n",
              "      <td>1.200000</td>\n",
              "      <td>1625.000000</td>\n",
              "      <td>56751.504000</td>\n",
              "    </tr>\n",
              "    <tr>\n",
              "      <th>10</th>\n",
              "      <td>2.200000</td>\n",
              "      <td>3707.400000</td>\n",
              "      <td>114090.890000</td>\n",
              "    </tr>\n",
              "  </tbody>\n",
              "</table>\n",
              "</div>"
            ],
            "text/plain": [
              "              Recency    Frequency        Revenue\n",
              "RFM_score                                        \n",
              "0          304.584388    21.995781     303.339705\n",
              "1          185.094643    32.310714     478.070770\n",
              "2           78.802832    46.834423     840.153336\n",
              "3           20.861886    68.438911    1079.151608\n",
              "4           16.495868   302.942149    2666.011529\n",
              "5           17.238806   154.910448    7469.424776\n",
              "6            9.841727   377.985612    7819.577122\n",
              "7            7.318182   888.863636   17212.819545\n",
              "8            8.083333   403.916667   41205.515833\n",
              "9            1.200000  1625.000000   56751.504000\n",
              "10           2.200000  3707.400000  114090.890000"
            ]
          },
          "execution_count": 85,
          "metadata": {},
          "output_type": "execute_result"
        }
      ],
      "source": [
        "final_rfm.groupby('RFM_score')[['Recency','Frequency','Revenue']].mean()"
      ]
    },
    {
      "cell_type": "markdown",
      "id": "XdNWtXHPrytR",
      "metadata": {
        "id": "XdNWtXHPrytR"
      },
      "source": [
        "The scoring above clearly shows us that customers with score 8 is our best customers whereas 0 is the worst.\n",
        "\n",
        "To keep things simple, better we name these scores:\n",
        "- 0 to 2: Low Value\n",
        "- 3 to 5: Mid Value\n",
        "- 5+: High Value"
      ]
    },
    {
      "cell_type": "code",
      "execution_count": null,
      "id": "7WDXOca3rytR",
      "metadata": {
        "id": "7WDXOca3rytR"
      },
      "outputs": [],
      "source": [
        "final_rfm['Segmentation'] = 'Low'\n",
        "final_rfm.loc[final_rfm.RFM_score>2,'Segmentation']='Mid'\n",
        "final_rfm.loc[final_rfm.RFM_score>5,'Segmentation']='High'"
      ]
    },
    {
      "cell_type": "code",
      "execution_count": null,
      "id": "BblqnURPrytR",
      "metadata": {
        "colab": {
          "base_uri": "https://localhost:8080/",
          "height": 206
        },
        "id": "BblqnURPrytR",
        "outputId": "1e431f06-f45f-43d5-875e-86f63cb47c0a"
      },
      "outputs": [
        {
          "data": {
            "text/html": [
              "<div>\n",
              "<style scoped>\n",
              "    .dataframe tbody tr th:only-of-type {\n",
              "        vertical-align: middle;\n",
              "    }\n",
              "\n",
              "    .dataframe tbody tr th {\n",
              "        vertical-align: top;\n",
              "    }\n",
              "\n",
              "    .dataframe thead th {\n",
              "        text-align: right;\n",
              "    }\n",
              "</style>\n",
              "<table border=\"1\" class=\"dataframe\">\n",
              "  <thead>\n",
              "    <tr style=\"text-align: right;\">\n",
              "      <th></th>\n",
              "      <th>CustomerID</th>\n",
              "      <th>Recency</th>\n",
              "      <th>RecencyCluster</th>\n",
              "      <th>Frequency</th>\n",
              "      <th>FrequencyCluster</th>\n",
              "      <th>Revenue</th>\n",
              "      <th>RevenueCluster</th>\n",
              "      <th>RFM_score</th>\n",
              "      <th>Segmentation</th>\n",
              "    </tr>\n",
              "  </thead>\n",
              "  <tbody>\n",
              "    <tr>\n",
              "      <th>0</th>\n",
              "      <td>12346.0</td>\n",
              "      <td>325</td>\n",
              "      <td>0</td>\n",
              "      <td>2</td>\n",
              "      <td>0</td>\n",
              "      <td>0.00</td>\n",
              "      <td>0</td>\n",
              "      <td>0</td>\n",
              "      <td>Low</td>\n",
              "    </tr>\n",
              "    <tr>\n",
              "      <th>1</th>\n",
              "      <td>12829.0</td>\n",
              "      <td>321</td>\n",
              "      <td>0</td>\n",
              "      <td>12</td>\n",
              "      <td>0</td>\n",
              "      <td>253.05</td>\n",
              "      <td>0</td>\n",
              "      <td>0</td>\n",
              "      <td>Low</td>\n",
              "    </tr>\n",
              "    <tr>\n",
              "      <th>2</th>\n",
              "      <td>12831.0</td>\n",
              "      <td>261</td>\n",
              "      <td>0</td>\n",
              "      <td>9</td>\n",
              "      <td>0</td>\n",
              "      <td>215.05</td>\n",
              "      <td>0</td>\n",
              "      <td>0</td>\n",
              "      <td>Low</td>\n",
              "    </tr>\n",
              "    <tr>\n",
              "      <th>3</th>\n",
              "      <td>12834.0</td>\n",
              "      <td>282</td>\n",
              "      <td>0</td>\n",
              "      <td>18</td>\n",
              "      <td>0</td>\n",
              "      <td>312.38</td>\n",
              "      <td>0</td>\n",
              "      <td>0</td>\n",
              "      <td>Low</td>\n",
              "    </tr>\n",
              "    <tr>\n",
              "      <th>4</th>\n",
              "      <td>12845.0</td>\n",
              "      <td>266</td>\n",
              "      <td>0</td>\n",
              "      <td>27</td>\n",
              "      <td>0</td>\n",
              "      <td>354.09</td>\n",
              "      <td>0</td>\n",
              "      <td>0</td>\n",
              "      <td>Low</td>\n",
              "    </tr>\n",
              "  </tbody>\n",
              "</table>\n",
              "</div>"
            ],
            "text/plain": [
              "   CustomerID  Recency  RecencyCluster  ...  RevenueCluster  RFM_score  Segmentation\n",
              "0     12346.0      325               0  ...               0          0           Low\n",
              "1     12829.0      321               0  ...               0          0           Low\n",
              "2     12831.0      261               0  ...               0          0           Low\n",
              "3     12834.0      282               0  ...               0          0           Low\n",
              "4     12845.0      266               0  ...               0          0           Low\n",
              "\n",
              "[5 rows x 9 columns]"
            ]
          },
          "execution_count": 87,
          "metadata": {},
          "output_type": "execute_result"
        }
      ],
      "source": [
        "final_rfm.head()"
      ]
    },
    {
      "cell_type": "code",
      "execution_count": null,
      "id": "Jnn8QY6ECioF",
      "metadata": {
        "colab": {
          "base_uri": "https://localhost:8080/"
        },
        "id": "Jnn8QY6ECioF",
        "outputId": "62810d39-be65-4cfb-f4f8-576e093648e5"
      },
      "outputs": [
        {
          "data": {
            "text/plain": [
              "Low     1952\n",
              "Mid     1815\n",
              "High     183\n",
              "Name: Segmentation, dtype: int64"
            ]
          },
          "execution_count": 101,
          "metadata": {},
          "output_type": "execute_result"
        }
      ],
      "source": [
        "final_rfm.Segmentation.value_counts()"
      ]
    },
    {
      "cell_type": "markdown",
      "id": "k-AFp54krytR",
      "metadata": {
        "id": "k-AFp54krytR"
      },
      "source": [
        "## Visualizing the clusters"
      ]
    },
    {
      "cell_type": "code",
      "execution_count": null,
      "id": "5M5WIHO0rytR",
      "metadata": {
        "colab": {
          "base_uri": "https://localhost:8080/",
          "height": 611
        },
        "id": "5M5WIHO0rytR",
        "outputId": "71d86c3d-c9bc-4213-d4e3-c27a48b06061"
      },
      "outputs": [
        {
          "data": {
            "image/png": "[encoded data removed]",
            "text/plain": [
              "<Figure size 864x720 with 1 Axes>"
            ]
          },
          "metadata": {},
          "output_type": "display_data"
        }
      ],
      "source": [
        "plt.figure(figsize=(12,10))\n",
        "sns.scatterplot(data=final_rfm.query(\"Revenue < 50000 and Frequency < 2000\")\n",
        "                               , x=\"Frequency\", y=\"Revenue\", hue=\"Segmentation\");"
      ]
    },
    {
      "cell_type": "code",
      "execution_count": null,
      "id": "bvL5mES3rytS",
      "metadata": {
        "colab": {
          "base_uri": "https://localhost:8080/",
          "height": 611
        },
        "id": "bvL5mES3rytS",
        "outputId": "4c28b56c-f889-4ae4-c64d-bee985245059"
      },
      "outputs": [
        {
          "data": {
            "image/png": "[encoded data removed]",
            "text/plain": [
              "<Figure size 864x720 with 1 Axes>"
            ]
          },
          "metadata": {},
          "output_type": "display_data"
        }
      ],
      "source": [
        "plt.figure(figsize=(12,10))\n",
        "sns.scatterplot(data=final_rfm.query(\"Revenue < 50000 and Frequency < 2000\")\n",
        "                               , x=\"Recency\", y=\"Revenue\", hue=\"Segmentation\");"
      ]
    },
    {
      "cell_type": "code",
      "execution_count": null,
      "id": "lJCdvX29rytS",
      "metadata": {
        "colab": {
          "base_uri": "https://localhost:8080/",
          "height": 612
        },
        "id": "lJCdvX29rytS",
        "outputId": "b205011f-ff54-427e-d23f-1afd5ff8bead"
      },
      "outputs": [
        {
          "data": {
            "image/png": "[encoded data removed]",
            "text/plain": [
              "<Figure size 864x720 with 1 Axes>"
            ]
          },
          "metadata": {},
          "output_type": "display_data"
        }
      ],
      "source": [
        "plt.figure(figsize=(12,10))\n",
        "sns.scatterplot(data=final_rfm.query(\"Revenue < 50000 and Frequency < 2000\")\n",
        "                               , x=\"Recency\", y=\"Frequency\", hue=\"Segmentation\");"
      ]
    },
    {
      "cell_type": "markdown",
      "id": "AdndHPHf9NXM",
      "metadata": {
        "id": "AdndHPHf9NXM"
      },
      "source": [
        "# Optional: Another way to cluster using Kmeans"
      ]
    },
    {
      "cell_type": "markdown",
      "id": "bnVb7o409kdU",
      "metadata": {
        "id": "bnVb7o409kdU"
      },
      "source": [
        "Alternatively of calculating and picking RFM score, we can keep data intact and use K-Means on the hold data"
      ]
    },
    {
      "cell_type": "code",
      "execution_count": null,
      "id": "GVGFH_-X_iOU",
      "metadata": {
        "id": "GVGFH_-X_iOU"
      },
      "outputs": [],
      "source": [
        "data_new=final_rfm[['CustomerID','Recency','Frequency','Revenue']]\n",
        "data_new = data_new.set_index('CustomerID')"
      ]
    },
    {
      "cell_type": "code",
      "execution_count": null,
      "id": "68jpdV6jFUa-",
      "metadata": {
        "colab": {
          "base_uri": "https://localhost:8080/",
          "height": 300
        },
        "id": "68jpdV6jFUa-",
        "outputId": "b40faea0-c600-4bb3-d03e-23aca7e27e83"
      },
      "outputs": [
        {
          "data": {
            "text/html": [
              "<div>\n",
              "<style scoped>\n",
              "    .dataframe tbody tr th:only-of-type {\n",
              "        vertical-align: middle;\n",
              "    }\n",
              "\n",
              "    .dataframe tbody tr th {\n",
              "        vertical-align: top;\n",
              "    }\n",
              "\n",
              "    .dataframe thead th {\n",
              "        text-align: right;\n",
              "    }\n",
              "</style>\n",
              "<table border=\"1\" class=\"dataframe\">\n",
              "  <thead>\n",
              "    <tr style=\"text-align: right;\">\n",
              "      <th></th>\n",
              "      <th>Recency</th>\n",
              "      <th>Frequency</th>\n",
              "      <th>Revenue</th>\n",
              "    </tr>\n",
              "  </thead>\n",
              "  <tbody>\n",
              "    <tr>\n",
              "      <th>count</th>\n",
              "      <td>3950.000000</td>\n",
              "      <td>3950.000000</td>\n",
              "      <td>3950.000000</td>\n",
              "    </tr>\n",
              "    <tr>\n",
              "      <th>mean</th>\n",
              "      <td>90.778481</td>\n",
              "      <td>91.614684</td>\n",
              "      <td>1713.385669</td>\n",
              "    </tr>\n",
              "    <tr>\n",
              "      <th>std</th>\n",
              "      <td>100.230349</td>\n",
              "      <td>220.557389</td>\n",
              "      <td>6548.608224</td>\n",
              "    </tr>\n",
              "    <tr>\n",
              "      <th>min</th>\n",
              "      <td>0.000000</td>\n",
              "      <td>1.000000</td>\n",
              "      <td>-4287.630000</td>\n",
              "    </tr>\n",
              "    <tr>\n",
              "      <th>25%</th>\n",
              "      <td>16.000000</td>\n",
              "      <td>17.000000</td>\n",
              "      <td>282.255000</td>\n",
              "    </tr>\n",
              "    <tr>\n",
              "      <th>50%</th>\n",
              "      <td>49.000000</td>\n",
              "      <td>41.000000</td>\n",
              "      <td>627.060000</td>\n",
              "    </tr>\n",
              "    <tr>\n",
              "      <th>75%</th>\n",
              "      <td>142.000000</td>\n",
              "      <td>101.000000</td>\n",
              "      <td>1521.782500</td>\n",
              "    </tr>\n",
              "    <tr>\n",
              "      <th>max</th>\n",
              "      <td>373.000000</td>\n",
              "      <td>7983.000000</td>\n",
              "      <td>256438.490000</td>\n",
              "    </tr>\n",
              "  </tbody>\n",
              "</table>\n",
              "</div>"
            ],
            "text/plain": [
              "           Recency    Frequency        Revenue\n",
              "count  3950.000000  3950.000000    3950.000000\n",
              "mean     90.778481    91.614684    1713.385669\n",
              "std     100.230349   220.557389    6548.608224\n",
              "min       0.000000     1.000000   -4287.630000\n",
              "25%      16.000000    17.000000     282.255000\n",
              "50%      49.000000    41.000000     627.060000\n",
              "75%     142.000000   101.000000    1521.782500\n",
              "max     373.000000  7983.000000  256438.490000"
            ]
          },
          "execution_count": 92,
          "metadata": {},
          "output_type": "execute_result"
        }
      ],
      "source": [
        "data_new.describe()"
      ]
    },
    {
      "cell_type": "markdown",
      "id": "r8j5NQ5192PQ",
      "metadata": {
        "id": "r8j5NQ5192PQ"
      },
      "source": [
        "After that we can use two kind of method to choose the best K for our cluster"
      ]
    },
    {
      "cell_type": "markdown",
      "id": "x-GQVWeT9-SJ",
      "metadata": {
        "id": "x-GQVWeT9-SJ"
      },
      "source": [
        "## Elbow Method"
      ]
    },
    {
      "cell_type": "code",
      "execution_count": null,
      "id": "-fgvCu0pFKJr",
      "metadata": {
        "colab": {
          "base_uri": "https://localhost:8080/",
          "height": 296
        },
        "id": "-fgvCu0pFKJr",
        "outputId": "f1672bcb-e9d0-4cd0-deb2-309430342be7"
      },
      "outputs": [
        {
          "data": {
            "image/png": "[encoded data removed]",
            "text/plain": [
              "<Figure size 432x288 with 1 Axes>"
            ]
          },
          "metadata": {},
          "output_type": "display_data"
        }
      ],
      "source": [
        "from sklearn.cluster import KMeans\n",
        "\n",
        "sse={}\n",
        "for k in range(1, 10):\n",
        "    kmeans = KMeans(n_clusters=k, max_iter=1000).fit(data_new)\n",
        "    sse[k] = kmeans.inertia_\n",
        "plt.figure()\n",
        "plt.plot(list(sse.keys()), list(sse.values()))\n",
        "plt.xlabel(\"Number of cluster\")\n",
        "plt.show()"
      ]
    },
    {
      "cell_type": "markdown",
      "id": "_zIV_FgW-CEC",
      "metadata": {
        "id": "_zIV_FgW-CEC"
      },
      "source": [
        "## Silhouette score"
      ]
    },
    {
      "cell_type": "code",
      "execution_count": null,
      "id": "r8qS2XuXFfzG",
      "metadata": {
        "colab": {
          "base_uri": "https://localhost:8080/",
          "height": 285
        },
        "id": "r8qS2XuXFfzG",
        "outputId": "f78759c8-1377-45b1-a1d1-d0aedc797cbc"
      },
      "outputs": [
        {
          "data": {
            "image/png": "[encoded data removed]",
            "text/plain": [
              "<Figure size 432x288 with 1 Axes>"
            ]
          },
          "metadata": {},
          "output_type": "display_data"
        }
      ],
      "source": [
        "from sklearn.metrics import silhouette_score\n",
        "\n",
        "sil = {}\n",
        "kmax = 10\n",
        "\n",
        "# dissimilarity would not be defined for a single cluster, thus, minimum number of clusters should be 2\n",
        "for k in range(2, kmax+1):\n",
        "  kmeans = KMeans(n_clusters = k).fit(data_new)\n",
        "  labels = kmeans.labels_\n",
        "  sil[k] = silhouette_score(data_new, labels, metric = 'euclidean')\n",
        "  \n",
        "plt.figure()\n",
        "plt.plot(list(sil.keys()), list(sil.values()))\n",
        "plt.xlabel(\"Number of cluster\")\n",
        "plt.show()"
      ]
    },
    {
      "cell_type": "markdown",
      "id": "w4927Pfe-UWt",
      "metadata": {
        "id": "w4927Pfe-UWt"
      },
      "source": [
        "We can see that 2 and 3 seems to be a good cluster size\n",
        "\n",
        "For keeping the diversity of clustering, we used K = 3"
      ]
    },
    {
      "cell_type": "code",
      "execution_count": null,
      "id": "LHMh5up6LZpz",
      "metadata": {
        "id": "LHMh5up6LZpz"
      },
      "outputs": [],
      "source": [
        "# YOUR CODE HERE\n",
        "kmeans = KMeans(n_clusters=3)\n",
        "kmeans.fit(data_new)\n",
        "data_new['Cluster'] = kmeans.predict(data_new)"
      ]
    },
    {
      "cell_type": "code",
      "execution_count": null,
      "id": "rq5owEKBGBW2",
      "metadata": {
        "colab": {
          "base_uri": "https://localhost:8080/",
          "height": 611
        },
        "id": "rq5owEKBGBW2",
        "outputId": "f760d65b-bf64-445e-f92f-d06466bc4724"
      },
      "outputs": [
        {
          "data": {
            "image/png": "[encoded data removed]",
            "text/plain": [
              "<Figure size 864x720 with 1 Axes>"
            ]
          },
          "metadata": {},
          "output_type": "display_data"
        }
      ],
      "source": [
        "plt.figure(figsize=(12,10))\n",
        "sns.set_style(\"darkgrid\")\n",
        "sns.scatterplot(data=data_new, x=\"Frequency\", y=\"Revenue\", hue=\"Cluster\", palette=\"bright\");"
      ]
    },
    {
      "cell_type": "code",
      "execution_count": null,
      "id": "t1Oh1zvJGjPd",
      "metadata": {
        "colab": {
          "base_uri": "https://localhost:8080/",
          "height": 611
        },
        "id": "t1Oh1zvJGjPd",
        "outputId": "dcad0127-b10e-452b-a835-d4e9b03079ec"
      },
      "outputs": [
        {
          "data": {
            "image/png": "[encoded data removed]",
            "text/plain": [
              "<Figure size 864x720 with 1 Axes>"
            ]
          },
          "metadata": {},
          "output_type": "display_data"
        }
      ],
      "source": [
        "plt.figure(figsize=(12,10))\n",
        "sns.scatterplot(data=data_new\n",
        "                               , x=\"Recency\", y=\"Revenue\", hue=\"Cluster\", palette=\"tab10\");"
      ]
    },
    {
      "cell_type": "markdown",
      "id": "FulPq30D-h4B",
      "metadata": {
        "id": "FulPq30D-h4B"
      },
      "source": [
        "**Discussion:** \n",
        "- What do you think about this way of clustering ?\n",
        "\n",
        "- What insight do the new clusters tell us ?\n"
      ]
    }
  ],
  "metadata": {
    "colab": {
      "collapsed_sections": [],
      "name": "Bản sao của 10.2b_LAB_KMEANS_CUSTOMER_SEGMENTATION.ipynb",
      "provenance": []
    },
    "kernelspec": {
      "display_name": "Python 3",
      "name": "python3"
    },
    "language_info": {
      "name": "python"
    },
    "widgets": {
      "application/vnd.jupyter.widget-state+json": {
        "0a27d5e093794b47953e56a88b7d8838": {
          "model_module": "@jupyter-widgets/output",
          "model_module_version": "1.0.0",
          "model_name": "OutputModel",
          "state": {
            "_dom_classes": [],
            "_model_module": "@jupyter-widgets/output",
            "_model_module_version": "1.0.0",
            "_model_name": "OutputModel",
            "_view_count": null,
            "_view_module": "@jupyter-widgets/output",
            "_view_module_version": "1.0.0",
            "_view_name": "OutputView",
            "layout": "IPY_MODEL_52d8e51e370b4b5fb9c12f2244eceea5",
            "msg_id": "",
            "outputs": []
          }
        },
        "0d51fe0d75c24904b48222d8ec9f68a4": {
          "model_module": "@jupyter-widgets/base",
          "model_module_version": "1.2.0",
          "model_name": "LayoutModel",
          "state": {
            "_model_module": "@jupyter-widgets/base",
            "_model_module_version": "1.2.0",
            "_model_name": "LayoutModel",
            "_view_count": null,
            "_view_module": "@jupyter-widgets/base",
            "_view_module_version": "1.2.0",
            "_view_name": "LayoutView",
            "align_content": null,
            "align_items": null,
            "align_self": null,
            "border": null,
            "bottom": null,
            "display": null,
            "flex": null,
            "flex_flow": null,
            "grid_area": null,
            "grid_auto_columns": null,
            "grid_auto_flow": null,
            "grid_auto_rows": null,
            "grid_column": null,
            "grid_gap": null,
            "grid_row": null,
            "grid_template_areas": null,
            "grid_template_columns": null,
            "grid_template_rows": null,
            "height": "100px",
            "justify_content": null,
            "justify_items": null,
            "left": null,
            "margin": null,
            "max_height": null,
            "max_width": null,
            "min_height": null,
            "min_width": null,
            "object_fit": null,
            "object_position": null,
            "order": null,
            "overflow": null,
            "overflow_x": null,
            "overflow_y": null,
            "padding": null,
            "right": null,
            "top": null,
            "visibility": null,
            "width": "600px"
          }
        },
        "0fc78da870ed450c859b89d0f8b61750": {
          "model_module": "@jupyter-widgets/base",
          "model_module_version": "1.2.0",
          "model_name": "LayoutModel",
          "state": {
            "_model_module": "@jupyter-widgets/base",
            "_model_module_version": "1.2.0",
            "_model_name": "LayoutModel",
            "_view_count": null,
            "_view_module": "@jupyter-widgets/base",
            "_view_module_version": "1.2.0",
            "_view_name": "LayoutView",
            "align_content": null,
            "align_items": null,
            "align_self": null,
            "border": null,
            "bottom": null,
            "display": null,
            "flex": null,
            "flex_flow": null,
            "grid_area": null,
            "grid_auto_columns": null,
            "grid_auto_flow": null,
            "grid_auto_rows": null,
            "grid_column": null,
            "grid_gap": null,
            "grid_row": null,
            "grid_template_areas": null,
            "grid_template_columns": null,
            "grid_template_rows": null,
            "height": null,
            "justify_content": null,
            "justify_items": null,
            "left": null,
            "margin": null,
            "max_height": null,
            "max_width": null,
            "min_height": null,
            "min_width": null,
            "object_fit": null,
            "object_position": null,
            "order": null,
            "overflow": null,
            "overflow_x": null,
            "overflow_y": null,
            "padding": null,
            "right": null,
            "top": null,
            "visibility": null,
            "width": null
          }
        },
        "12199cd4749e48c58b60b66a89fa0b12": {
          "model_module": "@jupyter-widgets/controls",
          "model_module_version": "1.5.0",
          "model_name": "ButtonModel",
          "state": {
            "_dom_classes": [],
            "_model_module": "@jupyter-widgets/controls",
            "_model_module_version": "1.5.0",
            "_model_name": "ButtonModel",
            "_view_count": null,
            "_view_module": "@jupyter-widgets/controls",
            "_view_module_version": "1.5.0",
            "_view_name": "ButtonView",
            "button_style": "success",
            "description": "Submit",
            "disabled": false,
            "icon": "paper-plane",
            "layout": "IPY_MODEL_32472916f8784028b2d1912aa2c00c81",
            "style": "IPY_MODEL_a25ca9c6890247e9adda49c1cdb12d23",
            "tooltip": "Submit"
          }
        },
        "12455aad24c84c18a53fac811b7b2643": {
          "model_module": "@jupyter-widgets/controls",
          "model_module_version": "1.5.0",
          "model_name": "DescriptionStyleModel",
          "state": {
            "_model_module": "@jupyter-widgets/controls",
            "_model_module_version": "1.5.0",
            "_model_name": "DescriptionStyleModel",
            "_view_count": null,
            "_view_module": "@jupyter-widgets/base",
            "_view_module_version": "1.2.0",
            "_view_name": "StyleView",
            "description_width": ""
          }
        },
        "15536557a648434d8cc3f2ba749fb745": {
          "model_module": "@jupyter-widgets/controls",
          "model_module_version": "1.5.0",
          "model_name": "ButtonModel",
          "state": {
            "_dom_classes": [],
            "_model_module": "@jupyter-widgets/controls",
            "_model_module_version": "1.5.0",
            "_model_name": "ButtonModel",
            "_view_count": null,
            "_view_module": "@jupyter-widgets/controls",
            "_view_module_version": "1.5.0",
            "_view_name": "ButtonView",
            "button_style": "success",
            "description": "Submit",
            "disabled": false,
            "icon": "paper-plane",
            "layout": "IPY_MODEL_f88b16f753ce4060a4d3ba7e40cf1ae8",
            "style": "IPY_MODEL_32df914e8f984b5e9e319d9503cede2e",
            "tooltip": "Submit"
          }
        },
        "17bce9a41ad746b59fe2fe2daef03885": {
          "model_module": "@jupyter-widgets/base",
          "model_module_version": "1.2.0",
          "model_name": "LayoutModel",
          "state": {
            "_model_module": "@jupyter-widgets/base",
            "_model_module_version": "1.2.0",
            "_model_name": "LayoutModel",
            "_view_count": null,
            "_view_module": "@jupyter-widgets/base",
            "_view_module_version": "1.2.0",
            "_view_name": "LayoutView",
            "align_content": null,
            "align_items": null,
            "align_self": null,
            "border": null,
            "bottom": null,
            "display": null,
            "flex": null,
            "flex_flow": null,
            "grid_area": null,
            "grid_auto_columns": null,
            "grid_auto_flow": null,
            "grid_auto_rows": null,
            "grid_column": null,
            "grid_gap": null,
            "grid_row": null,
            "grid_template_areas": null,
            "grid_template_columns": null,
            "grid_template_rows": null,
            "height": null,
            "justify_content": null,
            "justify_items": null,
            "left": null,
            "margin": null,
            "max_height": null,
            "max_width": null,
            "min_height": null,
            "min_width": null,
            "object_fit": null,
            "object_position": null,
            "order": null,
            "overflow": null,
            "overflow_x": null,
            "overflow_y": null,
            "padding": null,
            "right": null,
            "top": null,
            "visibility": null,
            "width": null
          }
        },
        "1adafb4e05d64f419b46174f1d1d3a1a": {
          "model_module": "@jupyter-widgets/controls",
          "model_module_version": "1.5.0",
          "model_name": "DescriptionStyleModel",
          "state": {
            "_model_module": "@jupyter-widgets/controls",
            "_model_module_version": "1.5.0",
            "_model_name": "DescriptionStyleModel",
            "_view_count": null,
            "_view_module": "@jupyter-widgets/base",
            "_view_module_version": "1.2.0",
            "_view_name": "StyleView",
            "description_width": ""
          }
        },
        "1de2a0c323864717a783d9ca7b46d5ab": {
          "model_module": "@jupyter-widgets/base",
          "model_module_version": "1.2.0",
          "model_name": "LayoutModel",
          "state": {
            "_model_module": "@jupyter-widgets/base",
            "_model_module_version": "1.2.0",
            "_model_name": "LayoutModel",
            "_view_count": null,
            "_view_module": "@jupyter-widgets/base",
            "_view_module_version": "1.2.0",
            "_view_name": "LayoutView",
            "align_content": null,
            "align_items": null,
            "align_self": null,
            "border": null,
            "bottom": null,
            "display": null,
            "flex": null,
            "flex_flow": null,
            "grid_area": null,
            "grid_auto_columns": null,
            "grid_auto_flow": null,
            "grid_auto_rows": null,
            "grid_column": null,
            "grid_gap": null,
            "grid_row": null,
            "grid_template_areas": null,
            "grid_template_columns": null,
            "grid_template_rows": null,
            "height": null,
            "justify_content": null,
            "justify_items": null,
            "left": null,
            "margin": null,
            "max_height": null,
            "max_width": null,
            "min_height": null,
            "min_width": null,
            "object_fit": null,
            "object_position": null,
            "order": null,
            "overflow": null,
            "overflow_x": null,
            "overflow_y": null,
            "padding": null,
            "right": null,
            "top": null,
            "visibility": null,
            "width": null
          }
        },
        "2281a4e4ad5843daa5715cc787986762": {
          "model_module": "@jupyter-widgets/base",
          "model_module_version": "1.2.0",
          "model_name": "LayoutModel",
          "state": {
            "_model_module": "@jupyter-widgets/base",
            "_model_module_version": "1.2.0",
            "_model_name": "LayoutModel",
            "_view_count": null,
            "_view_module": "@jupyter-widgets/base",
            "_view_module_version": "1.2.0",
            "_view_name": "LayoutView",
            "align_content": null,
            "align_items": null,
            "align_self": null,
            "border": null,
            "bottom": null,
            "display": null,
            "flex": null,
            "flex_flow": null,
            "grid_area": null,
            "grid_auto_columns": null,
            "grid_auto_flow": null,
            "grid_auto_rows": null,
            "grid_column": null,
            "grid_gap": null,
            "grid_row": null,
            "grid_template_areas": null,
            "grid_template_columns": null,
            "grid_template_rows": null,
            "height": null,
            "justify_content": null,
            "justify_items": null,
            "left": null,
            "margin": null,
            "max_height": null,
            "max_width": null,
            "min_height": null,
            "min_width": null,
            "object_fit": null,
            "object_position": null,
            "order": null,
            "overflow": null,
            "overflow_x": null,
            "overflow_y": null,
            "padding": null,
            "right": null,
            "top": null,
            "visibility": null,
            "width": null
          }
        },
        "29a48902d15e417f93c320b765948373": {
          "model_module": "@jupyter-widgets/controls",
          "model_module_version": "1.5.0",
          "model_name": "ButtonStyleModel",
          "state": {
            "_model_module": "@jupyter-widgets/controls",
            "_model_module_version": "1.5.0",
            "_model_name": "ButtonStyleModel",
            "_view_count": null,
            "_view_module": "@jupyter-widgets/base",
            "_view_module_version": "1.2.0",
            "_view_name": "StyleView",
            "button_color": null,
            "font_weight": ""
          }
        },
        "2a9bf0c99033487c85d0b7ccd4280031": {
          "model_module": "@jupyter-widgets/base",
          "model_module_version": "1.2.0",
          "model_name": "LayoutModel",
          "state": {
            "_model_module": "@jupyter-widgets/base",
            "_model_module_version": "1.2.0",
            "_model_name": "LayoutModel",
            "_view_count": null,
            "_view_module": "@jupyter-widgets/base",
            "_view_module_version": "1.2.0",
            "_view_name": "LayoutView",
            "align_content": null,
            "align_items": null,
            "align_self": null,
            "border": null,
            "bottom": null,
            "display": null,
            "flex": null,
            "flex_flow": null,
            "grid_area": null,
            "grid_auto_columns": null,
            "grid_auto_flow": null,
            "grid_auto_rows": null,
            "grid_column": null,
            "grid_gap": null,
            "grid_row": null,
            "grid_template_areas": null,
            "grid_template_columns": null,
            "grid_template_rows": null,
            "height": null,
            "justify_content": null,
            "justify_items": null,
            "left": null,
            "margin": null,
            "max_height": null,
            "max_width": null,
            "min_height": null,
            "min_width": null,
            "object_fit": null,
            "object_position": null,
            "order": null,
            "overflow": null,
            "overflow_x": null,
            "overflow_y": null,
            "padding": null,
            "right": null,
            "top": null,
            "visibility": null,
            "width": null
          }
        },
        "3100754c700e43e6bacbbaf2925d830b": {
          "model_module": "@jupyter-widgets/base",
          "model_module_version": "1.2.0",
          "model_name": "LayoutModel",
          "state": {
            "_model_module": "@jupyter-widgets/base",
            "_model_module_version": "1.2.0",
            "_model_name": "LayoutModel",
            "_view_count": null,
            "_view_module": "@jupyter-widgets/base",
            "_view_module_version": "1.2.0",
            "_view_name": "LayoutView",
            "align_content": null,
            "align_items": null,
            "align_self": null,
            "border": null,
            "bottom": null,
            "display": null,
            "flex": null,
            "flex_flow": null,
            "grid_area": null,
            "grid_auto_columns": null,
            "grid_auto_flow": null,
            "grid_auto_rows": null,
            "grid_column": null,
            "grid_gap": null,
            "grid_row": null,
            "grid_template_areas": null,
            "grid_template_columns": null,
            "grid_template_rows": null,
            "height": null,
            "justify_content": null,
            "justify_items": null,
            "left": null,
            "margin": null,
            "max_height": null,
            "max_width": null,
            "min_height": null,
            "min_width": null,
            "object_fit": null,
            "object_position": null,
            "order": null,
            "overflow": null,
            "overflow_x": null,
            "overflow_y": null,
            "padding": null,
            "right": null,
            "top": null,
            "visibility": null,
            "width": null
          }
        },
        "32472916f8784028b2d1912aa2c00c81": {
          "model_module": "@jupyter-widgets/base",
          "model_module_version": "1.2.0",
          "model_name": "LayoutModel",
          "state": {
            "_model_module": "@jupyter-widgets/base",
            "_model_module_version": "1.2.0",
            "_model_name": "LayoutModel",
            "_view_count": null,
            "_view_module": "@jupyter-widgets/base",
            "_view_module_version": "1.2.0",
            "_view_name": "LayoutView",
            "align_content": null,
            "align_items": null,
            "align_self": null,
            "border": null,
            "bottom": null,
            "display": null,
            "flex": null,
            "flex_flow": null,
            "grid_area": null,
            "grid_auto_columns": null,
            "grid_auto_flow": null,
            "grid_auto_rows": null,
            "grid_column": null,
            "grid_gap": null,
            "grid_row": null,
            "grid_template_areas": null,
            "grid_template_columns": null,
            "grid_template_rows": null,
            "height": null,
            "justify_content": null,
            "justify_items": null,
            "left": null,
            "margin": null,
            "max_height": null,
            "max_width": null,
            "min_height": null,
            "min_width": null,
            "object_fit": null,
            "object_position": null,
            "order": null,
            "overflow": null,
            "overflow_x": null,
            "overflow_y": null,
            "padding": null,
            "right": null,
            "top": null,
            "visibility": null,
            "width": null
          }
        },
        "32df914e8f984b5e9e319d9503cede2e": {
          "model_module": "@jupyter-widgets/controls",
          "model_module_version": "1.5.0",
          "model_name": "ButtonStyleModel",
          "state": {
            "_model_module": "@jupyter-widgets/controls",
            "_model_module_version": "1.5.0",
            "_model_name": "ButtonStyleModel",
            "_view_count": null,
            "_view_module": "@jupyter-widgets/base",
            "_view_module_version": "1.2.0",
            "_view_name": "StyleView",
            "button_color": null,
            "font_weight": ""
          }
        },
        "442dd4380a244fd183e2bdee2b1d9729": {
          "model_module": "@jupyter-widgets/controls",
          "model_module_version": "1.5.0",
          "model_name": "ButtonStyleModel",
          "state": {
            "_model_module": "@jupyter-widgets/controls",
            "_model_module_version": "1.5.0",
            "_model_name": "ButtonStyleModel",
            "_view_count": null,
            "_view_module": "@jupyter-widgets/base",
            "_view_module_version": "1.2.0",
            "_view_name": "StyleView",
            "button_color": null,
            "font_weight": ""
          }
        },
        "45e866d8e3cb469f88d88d923ffa864a": {
          "model_module": "@jupyter-widgets/controls",
          "model_module_version": "1.5.0",
          "model_name": "ButtonModel",
          "state": {
            "_dom_classes": [],
            "_model_module": "@jupyter-widgets/controls",
            "_model_module_version": "1.5.0",
            "_model_name": "ButtonModel",
            "_view_count": null,
            "_view_module": "@jupyter-widgets/controls",
            "_view_module_version": "1.5.0",
            "_view_name": "ButtonView",
            "button_style": "success",
            "description": "Submit",
            "disabled": false,
            "icon": "paper-plane",
            "layout": "IPY_MODEL_d29e75bcb8ef4558a809583561e818b3",
            "style": "IPY_MODEL_e07bba516dbc4967a0ade38e3ee07655",
            "tooltip": "Submit"
          }
        },
        "4958c882d81c4a81b6df77a8e89fcebe": {
          "model_module": "@jupyter-widgets/controls",
          "model_module_version": "1.5.0",
          "model_name": "DescriptionStyleModel",
          "state": {
            "_model_module": "@jupyter-widgets/controls",
            "_model_module_version": "1.5.0",
            "_model_name": "DescriptionStyleModel",
            "_view_count": null,
            "_view_module": "@jupyter-widgets/base",
            "_view_module_version": "1.2.0",
            "_view_name": "StyleView",
            "description_width": ""
          }
        },
        "52d8e51e370b4b5fb9c12f2244eceea5": {
          "model_module": "@jupyter-widgets/base",
          "model_module_version": "1.2.0",
          "model_name": "LayoutModel",
          "state": {
            "_model_module": "@jupyter-widgets/base",
            "_model_module_version": "1.2.0",
            "_model_name": "LayoutModel",
            "_view_count": null,
            "_view_module": "@jupyter-widgets/base",
            "_view_module_version": "1.2.0",
            "_view_name": "LayoutView",
            "align_content": null,
            "align_items": null,
            "align_self": null,
            "border": null,
            "bottom": null,
            "display": null,
            "flex": null,
            "flex_flow": null,
            "grid_area": null,
            "grid_auto_columns": null,
            "grid_auto_flow": null,
            "grid_auto_rows": null,
            "grid_column": null,
            "grid_gap": null,
            "grid_row": null,
            "grid_template_areas": null,
            "grid_template_columns": null,
            "grid_template_rows": null,
            "height": null,
            "justify_content": null,
            "justify_items": null,
            "left": null,
            "margin": null,
            "max_height": null,
            "max_width": null,
            "min_height": null,
            "min_width": null,
            "object_fit": null,
            "object_position": null,
            "order": null,
            "overflow": null,
            "overflow_x": null,
            "overflow_y": null,
            "padding": null,
            "right": null,
            "top": null,
            "visibility": null,
            "width": null
          }
        },
        "53d5f782da6342ad81be8f5361b2566e": {
          "model_module": "@jupyter-widgets/base",
          "model_module_version": "1.2.0",
          "model_name": "LayoutModel",
          "state": {
            "_model_module": "@jupyter-widgets/base",
            "_model_module_version": "1.2.0",
            "_model_name": "LayoutModel",
            "_view_count": null,
            "_view_module": "@jupyter-widgets/base",
            "_view_module_version": "1.2.0",
            "_view_name": "LayoutView",
            "align_content": null,
            "align_items": null,
            "align_self": null,
            "border": null,
            "bottom": null,
            "display": null,
            "flex": null,
            "flex_flow": null,
            "grid_area": null,
            "grid_auto_columns": null,
            "grid_auto_flow": null,
            "grid_auto_rows": null,
            "grid_column": null,
            "grid_gap": null,
            "grid_row": null,
            "grid_template_areas": null,
            "grid_template_columns": null,
            "grid_template_rows": null,
            "height": null,
            "justify_content": null,
            "justify_items": null,
            "left": null,
            "margin": null,
            "max_height": null,
            "max_width": null,
            "min_height": null,
            "min_width": null,
            "object_fit": null,
            "object_position": null,
            "order": null,
            "overflow": null,
            "overflow_x": null,
            "overflow_y": null,
            "padding": null,
            "right": null,
            "top": null,
            "visibility": null,
            "width": null
          }
        },
        "58ebdf9ba66f4804b0c0771fe3ae4a9d": {
          "model_module": "@jupyter-widgets/controls",
          "model_module_version": "1.5.0",
          "model_name": "ButtonModel",
          "state": {
            "_dom_classes": [],
            "_model_module": "@jupyter-widgets/controls",
            "_model_module_version": "1.5.0",
            "_model_name": "ButtonModel",
            "_view_count": null,
            "_view_module": "@jupyter-widgets/controls",
            "_view_module_version": "1.5.0",
            "_view_name": "ButtonView",
            "button_style": "",
            "description": "Reset answer",
            "disabled": false,
            "icon": "",
            "layout": "IPY_MODEL_d69b713f9f52447891aea3b8bbb10da6",
            "style": "IPY_MODEL_63548531aed741c1bfc326c671d65bde",
            "tooltip": "Reset answer"
          }
        },
        "5b24da9e2c9b44918b178b4026b530d2": {
          "model_module": "@jupyter-widgets/base",
          "model_module_version": "1.2.0",
          "model_name": "LayoutModel",
          "state": {
            "_model_module": "@jupyter-widgets/base",
            "_model_module_version": "1.2.0",
            "_model_name": "LayoutModel",
            "_view_count": null,
            "_view_module": "@jupyter-widgets/base",
            "_view_module_version": "1.2.0",
            "_view_name": "LayoutView",
            "align_content": null,
            "align_items": null,
            "align_self": null,
            "border": null,
            "bottom": null,
            "display": null,
            "flex": null,
            "flex_flow": null,
            "grid_area": null,
            "grid_auto_columns": null,
            "grid_auto_flow": null,
            "grid_auto_rows": null,
            "grid_column": null,
            "grid_gap": null,
            "grid_row": null,
            "grid_template_areas": null,
            "grid_template_columns": null,
            "grid_template_rows": null,
            "height": null,
            "justify_content": null,
            "justify_items": null,
            "left": null,
            "margin": null,
            "max_height": null,
            "max_width": null,
            "min_height": null,
            "min_width": null,
            "object_fit": null,
            "object_position": null,
            "order": null,
            "overflow": null,
            "overflow_x": null,
            "overflow_y": null,
            "padding": null,
            "right": null,
            "top": null,
            "visibility": null,
            "width": null
          }
        },
        "5e0c9d56895f42838787c7052538cbb2": {
          "model_module": "@jupyter-widgets/controls",
          "model_module_version": "1.5.0",
          "model_name": "ButtonStyleModel",
          "state": {
            "_model_module": "@jupyter-widgets/controls",
            "_model_module_version": "1.5.0",
            "_model_name": "ButtonStyleModel",
            "_view_count": null,
            "_view_module": "@jupyter-widgets/base",
            "_view_module_version": "1.2.0",
            "_view_name": "StyleView",
            "button_color": null,
            "font_weight": ""
          }
        },
        "5f80e3e9d94543f0a59e9a07f5c3ff0e": {
          "model_module": "@jupyter-widgets/base",
          "model_module_version": "1.2.0",
          "model_name": "LayoutModel",
          "state": {
            "_model_module": "@jupyter-widgets/base",
            "_model_module_version": "1.2.0",
            "_model_name": "LayoutModel",
            "_view_count": null,
            "_view_module": "@jupyter-widgets/base",
            "_view_module_version": "1.2.0",
            "_view_name": "LayoutView",
            "align_content": null,
            "align_items": null,
            "align_self": null,
            "border": null,
            "bottom": null,
            "display": null,
            "flex": null,
            "flex_flow": null,
            "grid_area": null,
            "grid_auto_columns": null,
            "grid_auto_flow": null,
            "grid_auto_rows": null,
            "grid_column": null,
            "grid_gap": null,
            "grid_row": null,
            "grid_template_areas": null,
            "grid_template_columns": null,
            "grid_template_rows": null,
            "height": null,
            "justify_content": null,
            "justify_items": null,
            "left": null,
            "margin": null,
            "max_height": null,
            "max_width": null,
            "min_height": null,
            "min_width": null,
            "object_fit": null,
            "object_position": null,
            "order": null,
            "overflow": null,
            "overflow_x": null,
            "overflow_y": null,
            "padding": null,
            "right": null,
            "top": null,
            "visibility": null,
            "width": null
          }
        },
        "621997e5fb004171a3ee8c8e33deaaaa": {
          "model_module": "@jupyter-widgets/controls",
          "model_module_version": "1.5.0",
          "model_name": "RadioButtonsModel",
          "state": {
            "_dom_classes": [],
            "_model_module": "@jupyter-widgets/controls",
            "_model_module_version": "1.5.0",
            "_model_name": "RadioButtonsModel",
            "_options_labels": [
              "A",
              "B"
            ],
            "_view_count": null,
            "_view_module": "@jupyter-widgets/controls",
            "_view_module_version": "1.5.0",
            "_view_name": "RadioButtonsView",
            "description": "Your answer:",
            "description_tooltip": null,
            "disabled": false,
            "index": 0,
            "layout": "IPY_MODEL_edc1b112353c4a9f88acd45696d29c39",
            "style": "IPY_MODEL_fb455bae434745869a4be102aae6411f"
          }
        },
        "63548531aed741c1bfc326c671d65bde": {
          "model_module": "@jupyter-widgets/controls",
          "model_module_version": "1.5.0",
          "model_name": "ButtonStyleModel",
          "state": {
            "_model_module": "@jupyter-widgets/controls",
            "_model_module_version": "1.5.0",
            "_model_name": "ButtonStyleModel",
            "_view_count": null,
            "_view_module": "@jupyter-widgets/base",
            "_view_module_version": "1.2.0",
            "_view_name": "StyleView",
            "button_color": null,
            "font_weight": ""
          }
        },
        "67b37f32cd6f4dc7b4d799b1e1c0413c": {
          "model_module": "@jupyter-widgets/controls",
          "model_module_version": "1.5.0",
          "model_name": "DescriptionStyleModel",
          "state": {
            "_model_module": "@jupyter-widgets/controls",
            "_model_module_version": "1.5.0",
            "_model_name": "DescriptionStyleModel",
            "_view_count": null,
            "_view_module": "@jupyter-widgets/base",
            "_view_module_version": "1.2.0",
            "_view_name": "StyleView",
            "description_width": ""
          }
        },
        "6df343b0988a4667b526c745d8815311": {
          "model_module": "@jupyter-widgets/controls",
          "model_module_version": "1.5.0",
          "model_name": "ButtonModel",
          "state": {
            "_dom_classes": [],
            "_model_module": "@jupyter-widgets/controls",
            "_model_module_version": "1.5.0",
            "_model_name": "ButtonModel",
            "_view_count": null,
            "_view_module": "@jupyter-widgets/controls",
            "_view_module_version": "1.5.0",
            "_view_name": "ButtonView",
            "button_style": "success",
            "description": "Submit",
            "disabled": false,
            "icon": "paper-plane",
            "layout": "IPY_MODEL_2281a4e4ad5843daa5715cc787986762",
            "style": "IPY_MODEL_29a48902d15e417f93c320b765948373",
            "tooltip": "Submit"
          }
        },
        "71ff35abb61a4bd09337813a02f17705": {
          "model_module": "@jupyter-widgets/controls",
          "model_module_version": "1.5.0",
          "model_name": "HBoxModel",
          "state": {
            "_dom_classes": [],
            "_model_module": "@jupyter-widgets/controls",
            "_model_module_version": "1.5.0",
            "_model_name": "HBoxModel",
            "_view_count": null,
            "_view_module": "@jupyter-widgets/controls",
            "_view_module_version": "1.5.0",
            "_view_name": "HBoxView",
            "box_style": "",
            "children": [
              "IPY_MODEL_15536557a648434d8cc3f2ba749fb745",
              "IPY_MODEL_58ebdf9ba66f4804b0c0771fe3ae4a9d"
            ],
            "layout": "IPY_MODEL_f734f5a87f8d47acbed39f538a8f5bbf"
          }
        },
        "7904b40fe2db489c81bf5eab8c6135eb": {
          "model_module": "@jupyter-widgets/controls",
          "model_module_version": "1.5.0",
          "model_name": "ButtonStyleModel",
          "state": {
            "_model_module": "@jupyter-widgets/controls",
            "_model_module_version": "1.5.0",
            "_model_name": "ButtonStyleModel",
            "_view_count": null,
            "_view_module": "@jupyter-widgets/base",
            "_view_module_version": "1.2.0",
            "_view_name": "StyleView",
            "button_color": null,
            "font_weight": ""
          }
        },
        "7a2a5cfdb93940e2b8cb4a91c2455986": {
          "model_module": "@jupyter-widgets/base",
          "model_module_version": "1.2.0",
          "model_name": "LayoutModel",
          "state": {
            "_model_module": "@jupyter-widgets/base",
            "_model_module_version": "1.2.0",
            "_model_name": "LayoutModel",
            "_view_count": null,
            "_view_module": "@jupyter-widgets/base",
            "_view_module_version": "1.2.0",
            "_view_name": "LayoutView",
            "align_content": null,
            "align_items": null,
            "align_self": null,
            "border": null,
            "bottom": null,
            "display": null,
            "flex": null,
            "flex_flow": null,
            "grid_area": null,
            "grid_auto_columns": null,
            "grid_auto_flow": null,
            "grid_auto_rows": null,
            "grid_column": null,
            "grid_gap": null,
            "grid_row": null,
            "grid_template_areas": null,
            "grid_template_columns": null,
            "grid_template_rows": null,
            "height": null,
            "justify_content": null,
            "justify_items": null,
            "left": null,
            "margin": null,
            "max_height": null,
            "max_width": null,
            "min_height": null,
            "min_width": null,
            "object_fit": null,
            "object_position": null,
            "order": null,
            "overflow": null,
            "overflow_x": null,
            "overflow_y": null,
            "padding": null,
            "right": null,
            "top": null,
            "visibility": null,
            "width": null
          }
        },
        "7ec2776f932648f2b750f81c0c8e2774": {
          "model_module": "@jupyter-widgets/output",
          "model_module_version": "1.0.0",
          "model_name": "OutputModel",
          "state": {
            "_dom_classes": [],
            "_model_module": "@jupyter-widgets/output",
            "_model_module_version": "1.0.0",
            "_model_name": "OutputModel",
            "_view_count": null,
            "_view_module": "@jupyter-widgets/output",
            "_view_module_version": "1.0.0",
            "_view_name": "OutputView",
            "layout": "IPY_MODEL_ed84be58ec73446da83bc69e582d8263",
            "msg_id": "",
            "outputs": []
          }
        },
        "85437af81c2547d8bf39a07adadbfba5": {
          "model_module": "@jupyter-widgets/controls",
          "model_module_version": "1.5.0",
          "model_name": "DescriptionStyleModel",
          "state": {
            "_model_module": "@jupyter-widgets/controls",
            "_model_module_version": "1.5.0",
            "_model_name": "DescriptionStyleModel",
            "_view_count": null,
            "_view_module": "@jupyter-widgets/base",
            "_view_module_version": "1.2.0",
            "_view_name": "StyleView",
            "description_width": ""
          }
        },
        "855051f4c2354bd498e9643715dc392c": {
          "model_module": "@jupyter-widgets/base",
          "model_module_version": "1.2.0",
          "model_name": "LayoutModel",
          "state": {
            "_model_module": "@jupyter-widgets/base",
            "_model_module_version": "1.2.0",
            "_model_name": "LayoutModel",
            "_view_count": null,
            "_view_module": "@jupyter-widgets/base",
            "_view_module_version": "1.2.0",
            "_view_name": "LayoutView",
            "align_content": null,
            "align_items": null,
            "align_self": null,
            "border": null,
            "bottom": null,
            "display": null,
            "flex": null,
            "flex_flow": null,
            "grid_area": null,
            "grid_auto_columns": null,
            "grid_auto_flow": null,
            "grid_auto_rows": null,
            "grid_column": null,
            "grid_gap": null,
            "grid_row": null,
            "grid_template_areas": null,
            "grid_template_columns": null,
            "grid_template_rows": null,
            "height": null,
            "justify_content": null,
            "justify_items": null,
            "left": null,
            "margin": null,
            "max_height": null,
            "max_width": null,
            "min_height": null,
            "min_width": null,
            "object_fit": null,
            "object_position": null,
            "order": null,
            "overflow": null,
            "overflow_x": null,
            "overflow_y": null,
            "padding": null,
            "right": null,
            "top": null,
            "visibility": null,
            "width": null
          }
        },
        "86ad7374419c4f55888ef4076e7c81cd": {
          "model_module": "@jupyter-widgets/controls",
          "model_module_version": "1.5.0",
          "model_name": "HBoxModel",
          "state": {
            "_dom_classes": [],
            "_model_module": "@jupyter-widgets/controls",
            "_model_module_version": "1.5.0",
            "_model_name": "HBoxModel",
            "_view_count": null,
            "_view_module": "@jupyter-widgets/controls",
            "_view_module_version": "1.5.0",
            "_view_name": "HBoxView",
            "box_style": "",
            "children": [
              "IPY_MODEL_f9d76d32f49a445cb9713516ea80d411",
              "IPY_MODEL_e06a59050c584d998aeb05da5437c68e"
            ],
            "layout": "IPY_MODEL_1de2a0c323864717a783d9ca7b46d5ab"
          }
        },
        "8a74b5741df34a6793b3abf2ed13b90f": {
          "model_module": "@jupyter-widgets/controls",
          "model_module_version": "1.5.0",
          "model_name": "HBoxModel",
          "state": {
            "_dom_classes": [],
            "_model_module": "@jupyter-widgets/controls",
            "_model_module_version": "1.5.0",
            "_model_name": "HBoxModel",
            "_view_count": null,
            "_view_module": "@jupyter-widgets/controls",
            "_view_module_version": "1.5.0",
            "_view_name": "HBoxView",
            "box_style": "",
            "children": [
              "IPY_MODEL_45e866d8e3cb469f88d88d923ffa864a",
              "IPY_MODEL_97c7d215eb314b0c9444a29c5f13e059"
            ],
            "layout": "IPY_MODEL_b2d205f0ac41471793bcd304ef0dff6b"
          }
        },
        "915235011d484141b4cbf26de8a2e3d5": {
          "model_module": "@jupyter-widgets/controls",
          "model_module_version": "1.5.0",
          "model_name": "RadioButtonsModel",
          "state": {
            "_dom_classes": [],
            "_model_module": "@jupyter-widgets/controls",
            "_model_module_version": "1.5.0",
            "_model_name": "RadioButtonsModel",
            "_options_labels": [
              "A",
              "B"
            ],
            "_view_count": null,
            "_view_module": "@jupyter-widgets/controls",
            "_view_module_version": "1.5.0",
            "_view_name": "RadioButtonsView",
            "description": "Your answer:",
            "description_tooltip": null,
            "disabled": false,
            "index": 0,
            "layout": "IPY_MODEL_5b24da9e2c9b44918b178b4026b530d2",
            "style": "IPY_MODEL_1adafb4e05d64f419b46174f1d1d3a1a"
          }
        },
        "916464795ce848368e39ffcc3e26a282": {
          "model_module": "@jupyter-widgets/base",
          "model_module_version": "1.2.0",
          "model_name": "LayoutModel",
          "state": {
            "_model_module": "@jupyter-widgets/base",
            "_model_module_version": "1.2.0",
            "_model_name": "LayoutModel",
            "_view_count": null,
            "_view_module": "@jupyter-widgets/base",
            "_view_module_version": "1.2.0",
            "_view_name": "LayoutView",
            "align_content": null,
            "align_items": null,
            "align_self": null,
            "border": null,
            "bottom": null,
            "display": null,
            "flex": null,
            "flex_flow": null,
            "grid_area": null,
            "grid_auto_columns": null,
            "grid_auto_flow": null,
            "grid_auto_rows": null,
            "grid_column": null,
            "grid_gap": null,
            "grid_row": null,
            "grid_template_areas": null,
            "grid_template_columns": null,
            "grid_template_rows": null,
            "height": null,
            "justify_content": null,
            "justify_items": null,
            "left": null,
            "margin": null,
            "max_height": null,
            "max_width": null,
            "min_height": null,
            "min_width": null,
            "object_fit": null,
            "object_position": null,
            "order": null,
            "overflow": null,
            "overflow_x": null,
            "overflow_y": null,
            "padding": null,
            "right": null,
            "top": null,
            "visibility": null,
            "width": null
          }
        },
        "963b7ee9470149fdb298a2ec83c6b570": {
          "model_module": "@jupyter-widgets/base",
          "model_module_version": "1.2.0",
          "model_name": "LayoutModel",
          "state": {
            "_model_module": "@jupyter-widgets/base",
            "_model_module_version": "1.2.0",
            "_model_name": "LayoutModel",
            "_view_count": null,
            "_view_module": "@jupyter-widgets/base",
            "_view_module_version": "1.2.0",
            "_view_name": "LayoutView",
            "align_content": null,
            "align_items": null,
            "align_self": null,
            "border": null,
            "bottom": null,
            "display": null,
            "flex": null,
            "flex_flow": null,
            "grid_area": null,
            "grid_auto_columns": null,
            "grid_auto_flow": null,
            "grid_auto_rows": null,
            "grid_column": null,
            "grid_gap": null,
            "grid_row": null,
            "grid_template_areas": null,
            "grid_template_columns": null,
            "grid_template_rows": null,
            "height": null,
            "justify_content": null,
            "justify_items": null,
            "left": null,
            "margin": null,
            "max_height": null,
            "max_width": null,
            "min_height": null,
            "min_width": null,
            "object_fit": null,
            "object_position": null,
            "order": null,
            "overflow": null,
            "overflow_x": null,
            "overflow_y": null,
            "padding": null,
            "right": null,
            "top": null,
            "visibility": null,
            "width": null
          }
        },
        "978b9f17abfb41e5926e01ba59e5b91c": {
          "model_module": "@jupyter-widgets/controls",
          "model_module_version": "1.5.0",
          "model_name": "TextModel",
          "state": {
            "_dom_classes": [],
            "_model_module": "@jupyter-widgets/controls",
            "_model_module_version": "1.5.0",
            "_model_name": "TextModel",
            "_view_count": null,
            "_view_module": "@jupyter-widgets/controls",
            "_view_module_version": "1.5.0",
            "_view_name": "TextView",
            "continuous_update": true,
            "description": "Your email",
            "description_tooltip": null,
            "disabled": false,
            "layout": "IPY_MODEL_53d5f782da6342ad81be8f5361b2566e",
            "placeholder": "Email..",
            "style": "IPY_MODEL_12455aad24c84c18a53fac811b7b2643",
            "value": ""
          }
        },
        "97b992f2db734a56989bfcae20ca9d90": {
          "model_module": "@jupyter-widgets/base",
          "model_module_version": "1.2.0",
          "model_name": "LayoutModel",
          "state": {
            "_model_module": "@jupyter-widgets/base",
            "_model_module_version": "1.2.0",
            "_model_name": "LayoutModel",
            "_view_count": null,
            "_view_module": "@jupyter-widgets/base",
            "_view_module_version": "1.2.0",
            "_view_name": "LayoutView",
            "align_content": null,
            "align_items": null,
            "align_self": null,
            "border": null,
            "bottom": null,
            "display": null,
            "flex": null,
            "flex_flow": null,
            "grid_area": null,
            "grid_auto_columns": null,
            "grid_auto_flow": null,
            "grid_auto_rows": null,
            "grid_column": null,
            "grid_gap": null,
            "grid_row": null,
            "grid_template_areas": null,
            "grid_template_columns": null,
            "grid_template_rows": null,
            "height": null,
            "justify_content": null,
            "justify_items": null,
            "left": null,
            "margin": null,
            "max_height": null,
            "max_width": null,
            "min_height": null,
            "min_width": null,
            "object_fit": null,
            "object_position": null,
            "order": null,
            "overflow": null,
            "overflow_x": null,
            "overflow_y": null,
            "padding": null,
            "right": null,
            "top": null,
            "visibility": null,
            "width": null
          }
        },
        "97c7d215eb314b0c9444a29c5f13e059": {
          "model_module": "@jupyter-widgets/controls",
          "model_module_version": "1.5.0",
          "model_name": "ButtonModel",
          "state": {
            "_dom_classes": [],
            "_model_module": "@jupyter-widgets/controls",
            "_model_module_version": "1.5.0",
            "_model_name": "ButtonModel",
            "_view_count": null,
            "_view_module": "@jupyter-widgets/controls",
            "_view_module_version": "1.5.0",
            "_view_name": "ButtonView",
            "button_style": "",
            "description": "Reset answer",
            "disabled": false,
            "icon": "",
            "layout": "IPY_MODEL_0fc78da870ed450c859b89d0f8b61750",
            "style": "IPY_MODEL_cf1bd61bfa9e4912943c1034fc81fe77",
            "tooltip": "Reset answer"
          }
        },
        "9b1113fd97fd4f6a9f3bbb3b73e1fd91": {
          "model_module": "@jupyter-widgets/output",
          "model_module_version": "1.0.0",
          "model_name": "OutputModel",
          "state": {
            "_dom_classes": [],
            "_model_module": "@jupyter-widgets/output",
            "_model_module_version": "1.0.0",
            "_model_name": "OutputModel",
            "_view_count": null,
            "_view_module": "@jupyter-widgets/output",
            "_view_module_version": "1.0.0",
            "_view_name": "OutputView",
            "layout": "IPY_MODEL_d8c277728d7349d1bb5710484ffbc147",
            "msg_id": "",
            "outputs": []
          }
        },
        "9cfd3c75681746d18e0cdb4521e7f873": {
          "model_module": "@jupyter-widgets/base",
          "model_module_version": "1.2.0",
          "model_name": "LayoutModel",
          "state": {
            "_model_module": "@jupyter-widgets/base",
            "_model_module_version": "1.2.0",
            "_model_name": "LayoutModel",
            "_view_count": null,
            "_view_module": "@jupyter-widgets/base",
            "_view_module_version": "1.2.0",
            "_view_name": "LayoutView",
            "align_content": null,
            "align_items": null,
            "align_self": null,
            "border": null,
            "bottom": null,
            "display": null,
            "flex": null,
            "flex_flow": null,
            "grid_area": null,
            "grid_auto_columns": null,
            "grid_auto_flow": null,
            "grid_auto_rows": null,
            "grid_column": null,
            "grid_gap": null,
            "grid_row": null,
            "grid_template_areas": null,
            "grid_template_columns": null,
            "grid_template_rows": null,
            "height": "100px",
            "justify_content": null,
            "justify_items": null,
            "left": null,
            "margin": null,
            "max_height": null,
            "max_width": null,
            "min_height": null,
            "min_width": null,
            "object_fit": null,
            "object_position": null,
            "order": null,
            "overflow": null,
            "overflow_x": null,
            "overflow_y": null,
            "padding": null,
            "right": null,
            "top": null,
            "visibility": null,
            "width": "600px"
          }
        },
        "a1732aaa5de64160ad4dad6fc5a27894": {
          "model_module": "@jupyter-widgets/controls",
          "model_module_version": "1.5.0",
          "model_name": "ButtonModel",
          "state": {
            "_dom_classes": [],
            "_model_module": "@jupyter-widgets/controls",
            "_model_module_version": "1.5.0",
            "_model_name": "ButtonModel",
            "_view_count": null,
            "_view_module": "@jupyter-widgets/controls",
            "_view_module_version": "1.5.0",
            "_view_name": "ButtonView",
            "button_style": "",
            "description": "Reset answer",
            "disabled": false,
            "icon": "",
            "layout": "IPY_MODEL_a727b7613d0f4a89889893407fc54dd0",
            "style": "IPY_MODEL_7904b40fe2db489c81bf5eab8c6135eb",
            "tooltip": "Reset answer"
          }
        },
        "a25ca9c6890247e9adda49c1cdb12d23": {
          "model_module": "@jupyter-widgets/controls",
          "model_module_version": "1.5.0",
          "model_name": "ButtonStyleModel",
          "state": {
            "_model_module": "@jupyter-widgets/controls",
            "_model_module_version": "1.5.0",
            "_model_name": "ButtonStyleModel",
            "_view_count": null,
            "_view_module": "@jupyter-widgets/base",
            "_view_module_version": "1.2.0",
            "_view_name": "StyleView",
            "button_color": null,
            "font_weight": ""
          }
        },
        "a727b7613d0f4a89889893407fc54dd0": {
          "model_module": "@jupyter-widgets/base",
          "model_module_version": "1.2.0",
          "model_name": "LayoutModel",
          "state": {
            "_model_module": "@jupyter-widgets/base",
            "_model_module_version": "1.2.0",
            "_model_name": "LayoutModel",
            "_view_count": null,
            "_view_module": "@jupyter-widgets/base",
            "_view_module_version": "1.2.0",
            "_view_name": "LayoutView",
            "align_content": null,
            "align_items": null,
            "align_self": null,
            "border": null,
            "bottom": null,
            "display": null,
            "flex": null,
            "flex_flow": null,
            "grid_area": null,
            "grid_auto_columns": null,
            "grid_auto_flow": null,
            "grid_auto_rows": null,
            "grid_column": null,
            "grid_gap": null,
            "grid_row": null,
            "grid_template_areas": null,
            "grid_template_columns": null,
            "grid_template_rows": null,
            "height": null,
            "justify_content": null,
            "justify_items": null,
            "left": null,
            "margin": null,
            "max_height": null,
            "max_width": null,
            "min_height": null,
            "min_width": null,
            "object_fit": null,
            "object_position": null,
            "order": null,
            "overflow": null,
            "overflow_x": null,
            "overflow_y": null,
            "padding": null,
            "right": null,
            "top": null,
            "visibility": null,
            "width": null
          }
        },
        "b25e018a6bc84f2c905e6c43a64f9f90": {
          "model_module": "@jupyter-widgets/controls",
          "model_module_version": "1.5.0",
          "model_name": "ButtonStyleModel",
          "state": {
            "_model_module": "@jupyter-widgets/controls",
            "_model_module_version": "1.5.0",
            "_model_name": "ButtonStyleModel",
            "_view_count": null,
            "_view_module": "@jupyter-widgets/base",
            "_view_module_version": "1.2.0",
            "_view_name": "StyleView",
            "button_color": null,
            "font_weight": ""
          }
        },
        "b2d205f0ac41471793bcd304ef0dff6b": {
          "model_module": "@jupyter-widgets/base",
          "model_module_version": "1.2.0",
          "model_name": "LayoutModel",
          "state": {
            "_model_module": "@jupyter-widgets/base",
            "_model_module_version": "1.2.0",
            "_model_name": "LayoutModel",
            "_view_count": null,
            "_view_module": "@jupyter-widgets/base",
            "_view_module_version": "1.2.0",
            "_view_name": "LayoutView",
            "align_content": null,
            "align_items": null,
            "align_self": null,
            "border": null,
            "bottom": null,
            "display": null,
            "flex": null,
            "flex_flow": null,
            "grid_area": null,
            "grid_auto_columns": null,
            "grid_auto_flow": null,
            "grid_auto_rows": null,
            "grid_column": null,
            "grid_gap": null,
            "grid_row": null,
            "grid_template_areas": null,
            "grid_template_columns": null,
            "grid_template_rows": null,
            "height": null,
            "justify_content": null,
            "justify_items": null,
            "left": null,
            "margin": null,
            "max_height": null,
            "max_width": null,
            "min_height": null,
            "min_width": null,
            "object_fit": null,
            "object_position": null,
            "order": null,
            "overflow": null,
            "overflow_x": null,
            "overflow_y": null,
            "padding": null,
            "right": null,
            "top": null,
            "visibility": null,
            "width": null
          }
        },
        "bd5901fe978a449eb6248350cfbb999b": {
          "model_module": "@jupyter-widgets/controls",
          "model_module_version": "1.5.0",
          "model_name": "SelectMultipleModel",
          "state": {
            "_dom_classes": [],
            "_model_module": "@jupyter-widgets/controls",
            "_model_module_version": "1.5.0",
            "_model_name": "SelectMultipleModel",
            "_options_labels": [
              "A",
              "B",
              "C"
            ],
            "_view_count": null,
            "_view_module": "@jupyter-widgets/controls",
            "_view_module_version": "1.5.0",
            "_view_name": "SelectMultipleView",
            "description": "Your answer:",
            "description_tooltip": null,
            "disabled": false,
            "index": [],
            "layout": "IPY_MODEL_dfd4103ca538413c97da79bf692bee3f",
            "rows": 5,
            "style": "IPY_MODEL_67b37f32cd6f4dc7b4d799b1e1c0413c"
          }
        },
        "c78d29adad1a4a6482f3372076f09ce2": {
          "model_module": "@jupyter-widgets/controls",
          "model_module_version": "1.5.0",
          "model_name": "DescriptionStyleModel",
          "state": {
            "_model_module": "@jupyter-widgets/controls",
            "_model_module_version": "1.5.0",
            "_model_name": "DescriptionStyleModel",
            "_view_count": null,
            "_view_module": "@jupyter-widgets/base",
            "_view_module_version": "1.2.0",
            "_view_name": "StyleView",
            "description_width": ""
          }
        },
        "c9204233edd04fd498557ecdc3836663": {
          "model_module": "@jupyter-widgets/controls",
          "model_module_version": "1.5.0",
          "model_name": "TextareaModel",
          "state": {
            "_dom_classes": [],
            "_model_module": "@jupyter-widgets/controls",
            "_model_module_version": "1.5.0",
            "_model_name": "TextareaModel",
            "_view_count": null,
            "_view_module": "@jupyter-widgets/controls",
            "_view_module_version": "1.5.0",
            "_view_name": "TextareaView",
            "continuous_update": true,
            "description": "",
            "description_tooltip": null,
            "disabled": false,
            "layout": "IPY_MODEL_0d51fe0d75c24904b48222d8ec9f68a4",
            "placeholder": "YOUR_ANSWER_HERE",
            "rows": null,
            "style": "IPY_MODEL_4958c882d81c4a81b6df77a8e89fcebe",
            "value": ""
          }
        },
        "cf1bd61bfa9e4912943c1034fc81fe77": {
          "model_module": "@jupyter-widgets/controls",
          "model_module_version": "1.5.0",
          "model_name": "ButtonStyleModel",
          "state": {
            "_model_module": "@jupyter-widgets/controls",
            "_model_module_version": "1.5.0",
            "_model_name": "ButtonStyleModel",
            "_view_count": null,
            "_view_module": "@jupyter-widgets/base",
            "_view_module_version": "1.2.0",
            "_view_name": "StyleView",
            "button_color": null,
            "font_weight": ""
          }
        },
        "d29e75bcb8ef4558a809583561e818b3": {
          "model_module": "@jupyter-widgets/base",
          "model_module_version": "1.2.0",
          "model_name": "LayoutModel",
          "state": {
            "_model_module": "@jupyter-widgets/base",
            "_model_module_version": "1.2.0",
            "_model_name": "LayoutModel",
            "_view_count": null,
            "_view_module": "@jupyter-widgets/base",
            "_view_module_version": "1.2.0",
            "_view_name": "LayoutView",
            "align_content": null,
            "align_items": null,
            "align_self": null,
            "border": null,
            "bottom": null,
            "display": null,
            "flex": null,
            "flex_flow": null,
            "grid_area": null,
            "grid_auto_columns": null,
            "grid_auto_flow": null,
            "grid_auto_rows": null,
            "grid_column": null,
            "grid_gap": null,
            "grid_row": null,
            "grid_template_areas": null,
            "grid_template_columns": null,
            "grid_template_rows": null,
            "height": null,
            "justify_content": null,
            "justify_items": null,
            "left": null,
            "margin": null,
            "max_height": null,
            "max_width": null,
            "min_height": null,
            "min_width": null,
            "object_fit": null,
            "object_position": null,
            "order": null,
            "overflow": null,
            "overflow_x": null,
            "overflow_y": null,
            "padding": null,
            "right": null,
            "top": null,
            "visibility": null,
            "width": null
          }
        },
        "d2d0d260b6d14b138737e5f0861eb665": {
          "model_module": "@jupyter-widgets/controls",
          "model_module_version": "1.5.0",
          "model_name": "HBoxModel",
          "state": {
            "_dom_classes": [],
            "_model_module": "@jupyter-widgets/controls",
            "_model_module_version": "1.5.0",
            "_model_name": "HBoxModel",
            "_view_count": null,
            "_view_module": "@jupyter-widgets/controls",
            "_view_module_version": "1.5.0",
            "_view_name": "HBoxView",
            "box_style": "",
            "children": [
              "IPY_MODEL_dc7da3d9fac347b4842e646c60de0030",
              "IPY_MODEL_d7db7c6a787f49ccbf63e28fc4594062"
            ],
            "layout": "IPY_MODEL_ffdb69a0653c4a64a1c7a1dee1cea14a"
          }
        },
        "d5c8c7a461224e0ca57e0c504c0aa7dd": {
          "model_module": "@jupyter-widgets/output",
          "model_module_version": "1.0.0",
          "model_name": "OutputModel",
          "state": {
            "_dom_classes": [],
            "_model_module": "@jupyter-widgets/output",
            "_model_module_version": "1.0.0",
            "_model_name": "OutputModel",
            "_view_count": null,
            "_view_module": "@jupyter-widgets/output",
            "_view_module_version": "1.0.0",
            "_view_name": "OutputView",
            "layout": "IPY_MODEL_3100754c700e43e6bacbbaf2925d830b",
            "msg_id": "",
            "outputs": []
          }
        },
        "d69b713f9f52447891aea3b8bbb10da6": {
          "model_module": "@jupyter-widgets/base",
          "model_module_version": "1.2.0",
          "model_name": "LayoutModel",
          "state": {
            "_model_module": "@jupyter-widgets/base",
            "_model_module_version": "1.2.0",
            "_model_name": "LayoutModel",
            "_view_count": null,
            "_view_module": "@jupyter-widgets/base",
            "_view_module_version": "1.2.0",
            "_view_name": "LayoutView",
            "align_content": null,
            "align_items": null,
            "align_self": null,
            "border": null,
            "bottom": null,
            "display": null,
            "flex": null,
            "flex_flow": null,
            "grid_area": null,
            "grid_auto_columns": null,
            "grid_auto_flow": null,
            "grid_auto_rows": null,
            "grid_column": null,
            "grid_gap": null,
            "grid_row": null,
            "grid_template_areas": null,
            "grid_template_columns": null,
            "grid_template_rows": null,
            "height": null,
            "justify_content": null,
            "justify_items": null,
            "left": null,
            "margin": null,
            "max_height": null,
            "max_width": null,
            "min_height": null,
            "min_width": null,
            "object_fit": null,
            "object_position": null,
            "order": null,
            "overflow": null,
            "overflow_x": null,
            "overflow_y": null,
            "padding": null,
            "right": null,
            "top": null,
            "visibility": null,
            "width": null
          }
        },
        "d7b524e940494c50abb956e32d434d70": {
          "model_module": "@jupyter-widgets/controls",
          "model_module_version": "1.5.0",
          "model_name": "HBoxModel",
          "state": {
            "_dom_classes": [],
            "_model_module": "@jupyter-widgets/controls",
            "_model_module_version": "1.5.0",
            "_model_name": "HBoxModel",
            "_view_count": null,
            "_view_module": "@jupyter-widgets/controls",
            "_view_module_version": "1.5.0",
            "_view_name": "HBoxView",
            "box_style": "",
            "children": [
              "IPY_MODEL_12199cd4749e48c58b60b66a89fa0b12",
              "IPY_MODEL_a1732aaa5de64160ad4dad6fc5a27894"
            ],
            "layout": "IPY_MODEL_5f80e3e9d94543f0a59e9a07f5c3ff0e"
          }
        },
        "d7db7c6a787f49ccbf63e28fc4594062": {
          "model_module": "@jupyter-widgets/controls",
          "model_module_version": "1.5.0",
          "model_name": "ButtonModel",
          "state": {
            "_dom_classes": [],
            "_model_module": "@jupyter-widgets/controls",
            "_model_module_version": "1.5.0",
            "_model_name": "ButtonModel",
            "_view_count": null,
            "_view_module": "@jupyter-widgets/controls",
            "_view_module_version": "1.5.0",
            "_view_name": "ButtonView",
            "button_style": "",
            "description": "Reset answer",
            "disabled": false,
            "icon": "",
            "layout": "IPY_MODEL_963b7ee9470149fdb298a2ec83c6b570",
            "style": "IPY_MODEL_b25e018a6bc84f2c905e6c43a64f9f90",
            "tooltip": "Reset answer"
          }
        },
        "d80ef9e42cb74e74a529cc5848c5705d": {
          "model_module": "@jupyter-widgets/output",
          "model_module_version": "1.0.0",
          "model_name": "OutputModel",
          "state": {
            "_dom_classes": [],
            "_model_module": "@jupyter-widgets/output",
            "_model_module_version": "1.0.0",
            "_model_name": "OutputModel",
            "_view_count": null,
            "_view_module": "@jupyter-widgets/output",
            "_view_module_version": "1.0.0",
            "_view_name": "OutputView",
            "layout": "IPY_MODEL_855051f4c2354bd498e9643715dc392c",
            "msg_id": "",
            "outputs": []
          }
        },
        "d8c277728d7349d1bb5710484ffbc147": {
          "model_module": "@jupyter-widgets/base",
          "model_module_version": "1.2.0",
          "model_name": "LayoutModel",
          "state": {
            "_model_module": "@jupyter-widgets/base",
            "_model_module_version": "1.2.0",
            "_model_name": "LayoutModel",
            "_view_count": null,
            "_view_module": "@jupyter-widgets/base",
            "_view_module_version": "1.2.0",
            "_view_name": "LayoutView",
            "align_content": null,
            "align_items": null,
            "align_self": null,
            "border": null,
            "bottom": null,
            "display": null,
            "flex": null,
            "flex_flow": null,
            "grid_area": null,
            "grid_auto_columns": null,
            "grid_auto_flow": null,
            "grid_auto_rows": null,
            "grid_column": null,
            "grid_gap": null,
            "grid_row": null,
            "grid_template_areas": null,
            "grid_template_columns": null,
            "grid_template_rows": null,
            "height": null,
            "justify_content": null,
            "justify_items": null,
            "left": null,
            "margin": null,
            "max_height": null,
            "max_width": null,
            "min_height": null,
            "min_width": null,
            "object_fit": null,
            "object_position": null,
            "order": null,
            "overflow": null,
            "overflow_x": null,
            "overflow_y": null,
            "padding": null,
            "right": null,
            "top": null,
            "visibility": null,
            "width": null
          }
        },
        "d8fc787e8bfe464e8091d4bae6e65503": {
          "model_module": "@jupyter-widgets/controls",
          "model_module_version": "1.5.0",
          "model_name": "ButtonStyleModel",
          "state": {
            "_model_module": "@jupyter-widgets/controls",
            "_model_module_version": "1.5.0",
            "_model_name": "ButtonStyleModel",
            "_view_count": null,
            "_view_module": "@jupyter-widgets/base",
            "_view_module_version": "1.2.0",
            "_view_name": "StyleView",
            "button_color": null,
            "font_weight": ""
          }
        },
        "da1f301e4de54ac0b9847893f0d27deb": {
          "model_module": "@jupyter-widgets/controls",
          "model_module_version": "1.5.0",
          "model_name": "TextareaModel",
          "state": {
            "_dom_classes": [],
            "_model_module": "@jupyter-widgets/controls",
            "_model_module_version": "1.5.0",
            "_model_name": "TextareaModel",
            "_view_count": null,
            "_view_module": "@jupyter-widgets/controls",
            "_view_module_version": "1.5.0",
            "_view_name": "TextareaView",
            "continuous_update": true,
            "description": "",
            "description_tooltip": null,
            "disabled": false,
            "layout": "IPY_MODEL_9cfd3c75681746d18e0cdb4521e7f873",
            "placeholder": "YOUR_ANSWER_HERE",
            "rows": null,
            "style": "IPY_MODEL_c78d29adad1a4a6482f3372076f09ce2",
            "value": ""
          }
        },
        "dc7da3d9fac347b4842e646c60de0030": {
          "model_module": "@jupyter-widgets/controls",
          "model_module_version": "1.5.0",
          "model_name": "ButtonModel",
          "state": {
            "_dom_classes": [],
            "_model_module": "@jupyter-widgets/controls",
            "_model_module_version": "1.5.0",
            "_model_name": "ButtonModel",
            "_view_count": null,
            "_view_module": "@jupyter-widgets/controls",
            "_view_module_version": "1.5.0",
            "_view_name": "ButtonView",
            "button_style": "success",
            "description": "Submit",
            "disabled": false,
            "icon": "paper-plane",
            "layout": "IPY_MODEL_916464795ce848368e39ffcc3e26a282",
            "style": "IPY_MODEL_442dd4380a244fd183e2bdee2b1d9729",
            "tooltip": "Submit"
          }
        },
        "dfd4103ca538413c97da79bf692bee3f": {
          "model_module": "@jupyter-widgets/base",
          "model_module_version": "1.2.0",
          "model_name": "LayoutModel",
          "state": {
            "_model_module": "@jupyter-widgets/base",
            "_model_module_version": "1.2.0",
            "_model_name": "LayoutModel",
            "_view_count": null,
            "_view_module": "@jupyter-widgets/base",
            "_view_module_version": "1.2.0",
            "_view_name": "LayoutView",
            "align_content": null,
            "align_items": null,
            "align_self": null,
            "border": null,
            "bottom": null,
            "display": null,
            "flex": null,
            "flex_flow": null,
            "grid_area": null,
            "grid_auto_columns": null,
            "grid_auto_flow": null,
            "grid_auto_rows": null,
            "grid_column": null,
            "grid_gap": null,
            "grid_row": null,
            "grid_template_areas": null,
            "grid_template_columns": null,
            "grid_template_rows": null,
            "height": null,
            "justify_content": null,
            "justify_items": null,
            "left": null,
            "margin": null,
            "max_height": null,
            "max_width": null,
            "min_height": null,
            "min_width": null,
            "object_fit": null,
            "object_position": null,
            "order": null,
            "overflow": null,
            "overflow_x": null,
            "overflow_y": null,
            "padding": null,
            "right": null,
            "top": null,
            "visibility": null,
            "width": null
          }
        },
        "e06a59050c584d998aeb05da5437c68e": {
          "model_module": "@jupyter-widgets/controls",
          "model_module_version": "1.5.0",
          "model_name": "ButtonModel",
          "state": {
            "_dom_classes": [],
            "_model_module": "@jupyter-widgets/controls",
            "_model_module_version": "1.5.0",
            "_model_name": "ButtonModel",
            "_view_count": null,
            "_view_module": "@jupyter-widgets/controls",
            "_view_module_version": "1.5.0",
            "_view_name": "ButtonView",
            "button_style": "",
            "description": "Reset answer",
            "disabled": false,
            "icon": "",
            "layout": "IPY_MODEL_2a9bf0c99033487c85d0b7ccd4280031",
            "style": "IPY_MODEL_d8fc787e8bfe464e8091d4bae6e65503",
            "tooltip": "Reset answer"
          }
        },
        "e07bba516dbc4967a0ade38e3ee07655": {
          "model_module": "@jupyter-widgets/controls",
          "model_module_version": "1.5.0",
          "model_name": "ButtonStyleModel",
          "state": {
            "_model_module": "@jupyter-widgets/controls",
            "_model_module_version": "1.5.0",
            "_model_name": "ButtonStyleModel",
            "_view_count": null,
            "_view_module": "@jupyter-widgets/base",
            "_view_module_version": "1.2.0",
            "_view_name": "StyleView",
            "button_color": null,
            "font_weight": ""
          }
        },
        "e0d27d56e4174af2ab5d0c10aa75a2f3": {
          "model_module": "@jupyter-widgets/output",
          "model_module_version": "1.0.0",
          "model_name": "OutputModel",
          "state": {
            "_dom_classes": [],
            "_model_module": "@jupyter-widgets/output",
            "_model_module_version": "1.0.0",
            "_model_name": "OutputModel",
            "_view_count": null,
            "_view_module": "@jupyter-widgets/output",
            "_view_module_version": "1.0.0",
            "_view_name": "OutputView",
            "layout": "IPY_MODEL_7a2a5cfdb93940e2b8cb4a91c2455986",
            "msg_id": "",
            "outputs": []
          }
        },
        "e4b9c23497e94b9ab3e918e1174be8a7": {
          "model_module": "@jupyter-widgets/controls",
          "model_module_version": "1.5.0",
          "model_name": "HTMLModel",
          "state": {
            "_dom_classes": [],
            "_model_module": "@jupyter-widgets/controls",
            "_model_module_version": "1.5.0",
            "_model_name": "HTMLModel",
            "_view_count": null,
            "_view_module": "@jupyter-widgets/controls",
            "_view_module_version": "1.5.0",
            "_view_name": "HTMLView",
            "description": "",
            "description_tooltip": null,
            "layout": "IPY_MODEL_97b992f2db734a56989bfcae20ca9d90",
            "placeholder": "​",
            "style": "IPY_MODEL_85437af81c2547d8bf39a07adadbfba5",
            "value": "\n            Please enter the email that you used to register for the course.<br />\n            <i>Submit again will reset all of your answers and current score!<i>\n        "
          }
        },
        "ed84be58ec73446da83bc69e582d8263": {
          "model_module": "@jupyter-widgets/base",
          "model_module_version": "1.2.0",
          "model_name": "LayoutModel",
          "state": {
            "_model_module": "@jupyter-widgets/base",
            "_model_module_version": "1.2.0",
            "_model_name": "LayoutModel",
            "_view_count": null,
            "_view_module": "@jupyter-widgets/base",
            "_view_module_version": "1.2.0",
            "_view_name": "LayoutView",
            "align_content": null,
            "align_items": null,
            "align_self": null,
            "border": null,
            "bottom": null,
            "display": null,
            "flex": null,
            "flex_flow": null,
            "grid_area": null,
            "grid_auto_columns": null,
            "grid_auto_flow": null,
            "grid_auto_rows": null,
            "grid_column": null,
            "grid_gap": null,
            "grid_row": null,
            "grid_template_areas": null,
            "grid_template_columns": null,
            "grid_template_rows": null,
            "height": null,
            "justify_content": null,
            "justify_items": null,
            "left": null,
            "margin": null,
            "max_height": null,
            "max_width": null,
            "min_height": null,
            "min_width": null,
            "object_fit": null,
            "object_position": null,
            "order": null,
            "overflow": null,
            "overflow_x": null,
            "overflow_y": null,
            "padding": null,
            "right": null,
            "top": null,
            "visibility": null,
            "width": null
          }
        },
        "edc1b112353c4a9f88acd45696d29c39": {
          "model_module": "@jupyter-widgets/base",
          "model_module_version": "1.2.0",
          "model_name": "LayoutModel",
          "state": {
            "_model_module": "@jupyter-widgets/base",
            "_model_module_version": "1.2.0",
            "_model_name": "LayoutModel",
            "_view_count": null,
            "_view_module": "@jupyter-widgets/base",
            "_view_module_version": "1.2.0",
            "_view_name": "LayoutView",
            "align_content": null,
            "align_items": null,
            "align_self": null,
            "border": null,
            "bottom": null,
            "display": null,
            "flex": null,
            "flex_flow": null,
            "grid_area": null,
            "grid_auto_columns": null,
            "grid_auto_flow": null,
            "grid_auto_rows": null,
            "grid_column": null,
            "grid_gap": null,
            "grid_row": null,
            "grid_template_areas": null,
            "grid_template_columns": null,
            "grid_template_rows": null,
            "height": null,
            "justify_content": null,
            "justify_items": null,
            "left": null,
            "margin": null,
            "max_height": null,
            "max_width": null,
            "min_height": null,
            "min_width": null,
            "object_fit": null,
            "object_position": null,
            "order": null,
            "overflow": null,
            "overflow_x": null,
            "overflow_y": null,
            "padding": null,
            "right": null,
            "top": null,
            "visibility": null,
            "width": null
          }
        },
        "f734f5a87f8d47acbed39f538a8f5bbf": {
          "model_module": "@jupyter-widgets/base",
          "model_module_version": "1.2.0",
          "model_name": "LayoutModel",
          "state": {
            "_model_module": "@jupyter-widgets/base",
            "_model_module_version": "1.2.0",
            "_model_name": "LayoutModel",
            "_view_count": null,
            "_view_module": "@jupyter-widgets/base",
            "_view_module_version": "1.2.0",
            "_view_name": "LayoutView",
            "align_content": null,
            "align_items": null,
            "align_self": null,
            "border": null,
            "bottom": null,
            "display": null,
            "flex": null,
            "flex_flow": null,
            "grid_area": null,
            "grid_auto_columns": null,
            "grid_auto_flow": null,
            "grid_auto_rows": null,
            "grid_column": null,
            "grid_gap": null,
            "grid_row": null,
            "grid_template_areas": null,
            "grid_template_columns": null,
            "grid_template_rows": null,
            "height": null,
            "justify_content": null,
            "justify_items": null,
            "left": null,
            "margin": null,
            "max_height": null,
            "max_width": null,
            "min_height": null,
            "min_width": null,
            "object_fit": null,
            "object_position": null,
            "order": null,
            "overflow": null,
            "overflow_x": null,
            "overflow_y": null,
            "padding": null,
            "right": null,
            "top": null,
            "visibility": null,
            "width": null
          }
        },
        "f88b16f753ce4060a4d3ba7e40cf1ae8": {
          "model_module": "@jupyter-widgets/base",
          "model_module_version": "1.2.0",
          "model_name": "LayoutModel",
          "state": {
            "_model_module": "@jupyter-widgets/base",
            "_model_module_version": "1.2.0",
            "_model_name": "LayoutModel",
            "_view_count": null,
            "_view_module": "@jupyter-widgets/base",
            "_view_module_version": "1.2.0",
            "_view_name": "LayoutView",
            "align_content": null,
            "align_items": null,
            "align_self": null,
            "border": null,
            "bottom": null,
            "display": null,
            "flex": null,
            "flex_flow": null,
            "grid_area": null,
            "grid_auto_columns": null,
            "grid_auto_flow": null,
            "grid_auto_rows": null,
            "grid_column": null,
            "grid_gap": null,
            "grid_row": null,
            "grid_template_areas": null,
            "grid_template_columns": null,
            "grid_template_rows": null,
            "height": null,
            "justify_content": null,
            "justify_items": null,
            "left": null,
            "margin": null,
            "max_height": null,
            "max_width": null,
            "min_height": null,
            "min_width": null,
            "object_fit": null,
            "object_position": null,
            "order": null,
            "overflow": null,
            "overflow_x": null,
            "overflow_y": null,
            "padding": null,
            "right": null,
            "top": null,
            "visibility": null,
            "width": null
          }
        },
        "f9d76d32f49a445cb9713516ea80d411": {
          "model_module": "@jupyter-widgets/controls",
          "model_module_version": "1.5.0",
          "model_name": "ButtonModel",
          "state": {
            "_dom_classes": [],
            "_model_module": "@jupyter-widgets/controls",
            "_model_module_version": "1.5.0",
            "_model_name": "ButtonModel",
            "_view_count": null,
            "_view_module": "@jupyter-widgets/controls",
            "_view_module_version": "1.5.0",
            "_view_name": "ButtonView",
            "button_style": "success",
            "description": "Submit",
            "disabled": false,
            "icon": "paper-plane",
            "layout": "IPY_MODEL_17bce9a41ad746b59fe2fe2daef03885",
            "style": "IPY_MODEL_5e0c9d56895f42838787c7052538cbb2",
            "tooltip": "Submit"
          }
        },
        "fb455bae434745869a4be102aae6411f": {
          "model_module": "@jupyter-widgets/controls",
          "model_module_version": "1.5.0",
          "model_name": "DescriptionStyleModel",
          "state": {
            "_model_module": "@jupyter-widgets/controls",
            "_model_module_version": "1.5.0",
            "_model_name": "DescriptionStyleModel",
            "_view_count": null,
            "_view_module": "@jupyter-widgets/base",
            "_view_module_version": "1.2.0",
            "_view_name": "StyleView",
            "description_width": ""
          }
        },
        "ffdb69a0653c4a64a1c7a1dee1cea14a": {
          "model_module": "@jupyter-widgets/base",
          "model_module_version": "1.2.0",
          "model_name": "LayoutModel",
          "state": {
            "_model_module": "@jupyter-widgets/base",
            "_model_module_version": "1.2.0",
            "_model_name": "LayoutModel",
            "_view_count": null,
            "_view_module": "@jupyter-widgets/base",
            "_view_module_version": "1.2.0",
            "_view_name": "LayoutView",
            "align_content": null,
            "align_items": null,
            "align_self": null,
            "border": null,
            "bottom": null,
            "display": null,
            "flex": null,
            "flex_flow": null,
            "grid_area": null,
            "grid_auto_columns": null,
            "grid_auto_flow": null,
            "grid_auto_rows": null,
            "grid_column": null,
            "grid_gap": null,
            "grid_row": null,
            "grid_template_areas": null,
            "grid_template_columns": null,
            "grid_template_rows": null,
            "height": null,
            "justify_content": null,
            "justify_items": null,
            "left": null,
            "margin": null,
            "max_height": null,
            "max_width": null,
            "min_height": null,
            "min_width": null,
            "object_fit": null,
            "object_position": null,
            "order": null,
            "overflow": null,
            "overflow_x": null,
            "overflow_y": null,
            "padding": null,
            "right": null,
            "top": null,
            "visibility": null,
            "width": null
          }
        }
      }
    }
  },
  "nbformat": 4,
  "nbformat_minor": 5
}
